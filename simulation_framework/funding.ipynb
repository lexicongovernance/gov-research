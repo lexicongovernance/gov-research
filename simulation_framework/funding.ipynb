{
 "cells": [
  {
   "cell_type": "code",
   "execution_count": 23,
   "metadata": {},
   "outputs": [],
   "source": [
    "def allocate_funding(funding, max_funding, funding_request, plurality_scores):\n",
    "    # Convert funding_request and plurality_scores to integer/float for processing\n",
    "    funding_request = {k: int(v) for k, v in funding_request.items()}\n",
    "    plurality_scores = {k: float(v) for k, v in plurality_scores.items()}\n",
    "    \n",
    "    # Check and update funding requests that exceed max_funding\n",
    "    for project_id, amount in funding_request.items():\n",
    "        if amount > max_funding:\n",
    "            funding_request[project_id] = 0\n",
    "    \n",
    "    # Sort projects by plurality scores in descending order\n",
    "    sorted_projects = sorted(plurality_scores.items(), key=lambda x: x[1], reverse=True)\n",
    "    \n",
    "    # Allocate funding based on sorted plurality scores\n",
    "    allocated_funding = {project_id: 0 for project_id in funding_request.keys()}\n",
    "    \n",
    "    for project_id, _ in sorted_projects:\n",
    "        request_amount = funding_request[project_id]\n",
    "        if funding <= 0:\n",
    "            break\n",
    "        if request_amount <= funding:\n",
    "            allocated_funding[project_id] = request_amount\n",
    "            funding -= request_amount\n",
    "        else:\n",
    "            allocated_funding[project_id] = 0  \n",
    "    \n",
    "    # Return both the allocated funding and remaining funding\n",
    "    result = {\n",
    "        \"allocated_funding\": allocated_funding,\n",
    "        \"remaining_funding\": funding\n",
    "    }\n",
    "    \n",
    "    return result"
   ]
  },
  {
   "cell_type": "code",
   "execution_count": 24,
   "metadata": {},
   "outputs": [],
   "source": [
    "# Parameters \n",
    "funding = 100000\n",
    "max_funding = 10000\n",
    "funding_request = {\"ID1\": \"10000\", \"ID2\": \"8500\", \"ID3\": \"2500\"}\n",
    "plurlity_scores = {\"ID1\": \"5.5\", \"ID2\": \"6\", \"ID3\": \"8\"}"
   ]
  },
  {
   "cell_type": "code",
   "execution_count": 25,
   "metadata": {},
   "outputs": [
    {
     "name": "stdout",
     "output_type": "stream",
     "text": [
      "{'allocated_funding': {'ID1': 10000, 'ID2': 8500, 'ID3': 2500}, 'remaining_funding': 79000}\n"
     ]
    }
   ],
   "source": [
    "result = allocate_funding(funding, max_funding, funding_request, plurlity_scores)\n",
    "print(result)\n"
   ]
  },
  {
   "cell_type": "code",
   "execution_count": 19,
   "metadata": {},
   "outputs": [],
   "source": [
    "# Test too little funding \n",
    "funding = 15000\n",
    "max_funding = 10000\n",
    "funding_request = {\"ID1\": \"10000\", \"ID2\": \"8500\", \"ID3\": \"2500\"}\n",
    "plurlity_scores = {\"ID1\": \"5.5\", \"ID2\": \"6\", \"ID3\": \"8\"}"
   ]
  },
  {
   "cell_type": "code",
   "execution_count": 20,
   "metadata": {},
   "outputs": [
    {
     "name": "stdout",
     "output_type": "stream",
     "text": [
      "{'allocated_funding': {'ID1': 0, 'ID2': 8500, 'ID3': 2500}, 'remaining_funding': 4000}\n"
     ]
    }
   ],
   "source": [
    "result = allocate_funding(funding, max_funding, funding_request, plurlity_scores)\n",
    "print(result)"
   ]
  },
  {
   "cell_type": "code",
   "execution_count": 21,
   "metadata": {},
   "outputs": [],
   "source": [
    "# test projects with request greater than max\n",
    "funding = 15000\n",
    "max_funding = 10000\n",
    "funding_request = {\"ID1\": \"10000\", \"ID2\": \"8500\", \"ID3\": \"15000\"}\n",
    "plurlity_scores = {\"ID1\": \"5.5\", \"ID2\": \"6\", \"ID3\": \"8\"}"
   ]
  },
  {
   "cell_type": "code",
   "execution_count": 22,
   "metadata": {},
   "outputs": [
    {
     "name": "stdout",
     "output_type": "stream",
     "text": [
      "{'allocated_funding': {'ID1': 0, 'ID2': 8500, 'ID3': 0}, 'remaining_funding': 6500}\n"
     ]
    }
   ],
   "source": [
    "result = allocate_funding(funding, max_funding, funding_request, plurlity_scores)\n",
    "print(result)"
   ]
  }
 ],
 "metadata": {
  "kernelspec": {
   "display_name": "gov-research",
   "language": "python",
   "name": "python3"
  },
  "language_info": {
   "codemirror_mode": {
    "name": "ipython",
    "version": 3
   },
   "file_extension": ".py",
   "mimetype": "text/x-python",
   "name": "python",
   "nbconvert_exporter": "python",
   "pygments_lexer": "ipython3",
   "version": "3.10.13"
  }
 },
 "nbformat": 4,
 "nbformat_minor": 2
}
