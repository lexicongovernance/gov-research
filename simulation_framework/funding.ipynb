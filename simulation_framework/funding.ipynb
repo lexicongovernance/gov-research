{
 "cells": [
  {
   "cell_type": "code",
   "execution_count": null,
   "metadata": {},
   "outputs": [],
   "source": []
  },
  {
   "cell_type": "code",
   "execution_count": 260,
   "metadata": {},
   "outputs": [],
   "source": [
    "# import dependencies \n",
    "import math \n",
    "import numpy as np\n",
    "from itertools import combinations"
   ]
  },
  {
   "cell_type": "code",
   "execution_count": 261,
   "metadata": {},
   "outputs": [],
   "source": [
    "def calculate_proportion(project, project_subset, funding_score):\n",
    "    \"\"\"\n",
    "    Calculate the proportion of the funding score of a project relative to the total funding scores of all projects in the subset.\n",
    "\n",
    "    Args:\n",
    "    - project: The project for which the proportion is being calculated.\n",
    "    - project_subset: The subset of projects among which the proportion is being calculated.\n",
    "    - funding_score: Dictionary containing funding scores of all projects.\n",
    "\n",
    "    Returns:\n",
    "    - Proportion of the funding score of the project relative to the total funding scores of all projects in the subset.\n",
    "    \"\"\"\n",
    "    total_subset_score = sum(funding_score[q] for q in project_subset)\n",
    "    project_score = funding_score[project]\n",
    "    proportion = project_score / total_subset_score\n",
    "    \n",
    "    return proportion"
   ]
  },
  {
   "cell_type": "code",
   "execution_count": 262,
   "metadata": {},
   "outputs": [],
   "source": [
    "def change_set(p, funding, above_max, at_max, between, below_min, zero, max_funds, min_funds):\n",
    "    \"\"\"\n",
    "    A subroutine to make sure a project is in the appropriate set\n",
    "    \"\"\"\n",
    "    for s in above_max, at_max, between, below_min, zero:\n",
    "        s.discard(p)\n",
    "    \n",
    "    # Determine which set 'p' belongs to based on its funding value\n",
    "    if funding[p] > max_funds[p]:\n",
    "        above_max.add(p)\n",
    "    elif funding[p] == max_funds[p]:\n",
    "        at_max.add(p)\n",
    "    elif funding[p] >= min_funds[p]:\n",
    "        between.add(p)\n",
    "    elif funding[p] > 0:\n",
    "        below_min.add(p)\n",
    "    else:\n",
    "        zero.add(p)\n",
    "    \n",
    "    # Check that funding value of 'p' is non-negative\n",
    "    assert funding[p] >= 0\n"
   ]
  },
  {
   "cell_type": "code",
   "execution_count": 263,
   "metadata": {},
   "outputs": [],
   "source": [
    "def distribute_excess(project_set, funding, excess, fundingScore, above_max, at_max, between, below_min, zero, max_funds, min_funds):\n",
    "    for p in project_set:\n",
    "        funding[p] += excess * calculate_proportion(p, project_set, fundingScore)\n",
    "        change_set(project_set, funding, above_max, at_max, between, below_min, zero, max_funds, min_funds)"
   ]
  },
  {
   "cell_type": "code",
   "execution_count": 264,
   "metadata": {},
   "outputs": [],
   "source": [
    "def find_worst_performing_projects(below_min, funding, min_funds):\n",
    "    \"\"\"\n",
    "    Find the set of worst-performing projects with non-zero funding.\n",
    "\n",
    "    Args:\n",
    "    - below_min (set): Set of project names below minimum performance.\n",
    "    - funding (dict): Dictionary mapping project names to their funding values.\n",
    "    - mins (dict): Dictionary mapping project names to their minimum performance values.\n",
    "\n",
    "    Returns:\n",
    "    - set: Set of worst-performing projects with non-zero funding.\n",
    "    \"\"\"\n",
    "    min_funding = min(funding[p] / min_funds[p] for p in below_min)\n",
    "    \n",
    "    return {p for p in below_min if funding[p] / min_funds[p] == min_funding}"
   ]
  },
  {
   "cell_type": "code",
   "execution_count": 265,
   "metadata": {},
   "outputs": [
    {
     "data": {
      "text/plain": [
       "\"\\nprojects = ['0', '1']\\nfundingScore = {'0': 2, '1': 3}\\nmin_funds = {'0': 30000, '1': 70000}\\nmax_funds = {'0': 30000, '1': 70000}\\ntotal_budget = 100000\\n\\nabove_max, at_max, between, below_min, zero = set(), set(), set(), set(), set()\\n\""
      ]
     },
     "execution_count": 265,
     "metadata": {},
     "output_type": "execute_result"
    }
   ],
   "source": [
    "\"\"\"\n",
    "projects = ['0', '1']\n",
    "fundingScore = {'0': 2, '1': 3}\n",
    "min_funds = {'0': 30000, '1': 70000}\n",
    "max_funds = {'0': 30000, '1': 70000}\n",
    "total_budget = 100000\n",
    "\n",
    "above_max, at_max, between, below_min, zero = set(), set(), set(), set(), set()\n",
    "\"\"\""
   ]
  },
  {
   "cell_type": "code",
   "execution_count": 266,
   "metadata": {},
   "outputs": [
    {
     "data": {
      "text/plain": [
       "' \\n# Set initial values for funding and excess\\nfunding = {p: total_budget * calculate_proportion(p, projects, fundingScore) for p in projects}\\nprint(funding)\\n'"
      ]
     },
     "execution_count": 266,
     "metadata": {},
     "output_type": "execute_result"
    }
   ],
   "source": [
    "\"\"\" \n",
    "# Set initial values for funding and excess\n",
    "funding = {p: total_budget * calculate_proportion(p, projects, fundingScore) for p in projects}\n",
    "print(funding)\n",
    "\"\"\""
   ]
  },
  {
   "cell_type": "code",
   "execution_count": 267,
   "metadata": {},
   "outputs": [
    {
     "data": {
      "text/plain": [
       "'\\nfor p in projects:\\n    change_set(p, funding, above_max, at_max, between, below_min, zero, max_funds, min_funds)\\n\\nprint(\"above_max:\", above_max)\\nprint(\"at_max:\", at_max)\\nprint(\"between:\", between)\\nprint(\"below_min:\", below_min)\\nprint(\"zero:\", zero)\\n'"
      ]
     },
     "execution_count": 267,
     "metadata": {},
     "output_type": "execute_result"
    }
   ],
   "source": [
    "\"\"\"\n",
    "for p in projects:\n",
    "    change_set(p, funding, above_max, at_max, between, below_min, zero, max_funds, min_funds)\n",
    "\n",
    "print(\"above_max:\", above_max)\n",
    "print(\"at_max:\", at_max)\n",
    "print(\"between:\", between)\n",
    "print(\"below_min:\", below_min)\n",
    "print(\"zero:\", zero)\n",
    "\"\"\""
   ]
  },
  {
   "cell_type": "code",
   "execution_count": 268,
   "metadata": {},
   "outputs": [
    {
     "data": {
      "text/plain": [
       "'\\nworst_projects = find_worst_performing_projects(below_min, funding, min_funds)\\nprint(worst_projects)\\n'"
      ]
     },
     "execution_count": 268,
     "metadata": {},
     "output_type": "execute_result"
    }
   ],
   "source": [
    "\"\"\"\n",
    "worst_projects = find_worst_performing_projects(below_min, funding, min_funds)\n",
    "print(worst_projects)\n",
    "\"\"\""
   ]
  },
  {
   "cell_type": "code",
   "execution_count": 269,
   "metadata": {},
   "outputs": [
    {
     "data": {
      "text/plain": [
       "\"\\ndef main_loop(above_max, below_min, at_max, between, funding, max_funds, min_funds):\\n   Perform the main loop of the project funding redistribution algorithm until convergence.\\n\\n   Args:\\n   - above_max (set): Set of project names above maximum performance.\\n   - below_min (set): Set of project names below minimum performance.\\n   - between (set): Set of project names between minimum and maximum performance.\\n   - funding (dict): Dictionary mapping project names to their funding values.\\n   - maxs (dict): Dictionary mapping project names to their maximum performance values.\\n   - change_set (function): Function to change the project set.\\n   - distribute_excess (function): Function to distribute excess funding among projects.\\n   excess = 0\\n\\n   while len(above_max) + len(below_min) > 0:\\n\\n       # If any projects are above their maximum, remove the excess and redistribute it\\n       while len(above_max) > 0:\\n           for p in above_max.copy():\\n               # Iterate through a copy because changing a set's size while iterating through it is not allowed\\n               excess += funding[p] - max_funds[p]\\n               funding[p] = max_funds[p]\\n               change_set(p, funding, above_max, at_max, between, below_min, zero, max_funds, min_funds)\\n\\n           if len(below_min.union(between)) > 0:\\n               distribute_excess(below_min.union(between).copy(), funding, excess, fundingScore, above_max, at_max, between, below_min, zero, max_funds, min_funds)\\n               excess = 0\\n\\n       # If there is still at least one project below its minimum level of funding, remove the worst performing one and redistribute its funding.\\n       if len(below_min) > 0:\\n           for p in find_worst_performing_projects(below_min, funding, min_funds).copy():\\n               excess += funding[p]\\n               funding[p] = 0\\n               change_set(p, funding, above_max, at_max, between, below_min, zero, max_funds, min_funds)\\n\\n           if len(below_min.union(between)) > 0:\\n               distribute_excess(below_min.union(between).copy(), funding, excess, fundingScore, above_max, at_max, between, below_min, zero, max_funds, min_funds)\\n               excess = 0\\n\\n       # After each pass in this while loop, len(above_max) is 0 and len(below_min) is at least 1 smaller than it was before.\\n       # So we are guaranteed to terminate.\\n\\n   return funding, excess\\n\""
      ]
     },
     "execution_count": 269,
     "metadata": {},
     "output_type": "execute_result"
    }
   ],
   "source": [
    " \"\"\"\n",
    "def main_loop(above_max, below_min, at_max, between, funding, max_funds, min_funds):\n",
    "    Perform the main loop of the project funding redistribution algorithm until convergence.\n",
    "\n",
    "    Args:\n",
    "    - above_max (set): Set of project names above maximum performance.\n",
    "    - below_min (set): Set of project names below minimum performance.\n",
    "    - between (set): Set of project names between minimum and maximum performance.\n",
    "    - funding (dict): Dictionary mapping project names to their funding values.\n",
    "    - maxs (dict): Dictionary mapping project names to their maximum performance values.\n",
    "    - change_set (function): Function to change the project set.\n",
    "    - distribute_excess (function): Function to distribute excess funding among projects.\n",
    "    excess = 0\n",
    "\n",
    "    while len(above_max) + len(below_min) > 0:\n",
    "\n",
    "        # If any projects are above their maximum, remove the excess and redistribute it\n",
    "        while len(above_max) > 0:\n",
    "            for p in above_max.copy():\n",
    "                # Iterate through a copy because changing a set's size while iterating through it is not allowed\n",
    "                excess += funding[p] - max_funds[p]\n",
    "                funding[p] = max_funds[p]\n",
    "                change_set(p, funding, above_max, at_max, between, below_min, zero, max_funds, min_funds)\n",
    "\n",
    "            if len(below_min.union(between)) > 0:\n",
    "                distribute_excess(below_min.union(between).copy(), funding, excess, fundingScore, above_max, at_max, between, below_min, zero, max_funds, min_funds)\n",
    "                excess = 0\n",
    "\n",
    "        # If there is still at least one project below its minimum level of funding, remove the worst performing one and redistribute its funding.\n",
    "        if len(below_min) > 0:\n",
    "            for p in find_worst_performing_projects(below_min, funding, min_funds).copy():\n",
    "                excess += funding[p]\n",
    "                funding[p] = 0\n",
    "                change_set(p, funding, above_max, at_max, between, below_min, zero, max_funds, min_funds)\n",
    "\n",
    "            if len(below_min.union(between)) > 0:\n",
    "                distribute_excess(below_min.union(between).copy(), funding, excess, fundingScore, above_max, at_max, between, below_min, zero, max_funds, min_funds)\n",
    "                excess = 0\n",
    "\n",
    "        # After each pass in this while loop, len(above_max) is 0 and len(below_min) is at least 1 smaller than it was before.\n",
    "        # So we are guaranteed to terminate.\n",
    "\n",
    "    return funding, excess\n",
    " \"\"\""
   ]
  },
  {
   "cell_type": "code",
   "execution_count": 270,
   "metadata": {},
   "outputs": [],
   "source": [
    "## result_funding, result_excess = main_loop(above_max, below_min, at_max, between, funding, max_funds, min_funds)\n",
    "## print(result_funding, result_excess)"
   ]
  },
  {
   "cell_type": "code",
   "execution_count": null,
   "metadata": {},
   "outputs": [],
   "source": []
  },
  {
   "cell_type": "code",
   "execution_count": 271,
   "metadata": {},
   "outputs": [],
   "source": [
    "def scale_funding(projects, fundingScore, mins, maxs, total_budget):\n",
    "  '''\n",
    "  input:\n",
    "    projects - list (int) of projects\n",
    "    fundingScore - dictionary indexed by projects. fundingScore[p] = output of COCM for project p\n",
    "    mins - dictionary indexed by projects. mins[p] = minimum viable funding for project p\n",
    "    maxs - dictionary indexed by projects. mins[p] = maximum viable funding for project p\n",
    "    total budget - float. total amount of funding to give out.\n",
    "\n",
    "  output:\n",
    "    funding - dictionary indexed by projects. funding[p] = actual amount of funding to give to project p. funding[p] is either 0, or in between min[p] and max[p]\n",
    "    excess - float. amount of unused funding (greater than 0 if, for example, total_budget is bigger than the sum of all maximum budgets)\n",
    "  '''\n",
    "\n",
    "  # subroutine: given a project and a subset of projects, what is fundingScore[p] as a percentage of the scores among projects in that set?\n",
    "  proportion = lambda p,x : fundingScore[p] / sum(fundingScore[q] for q in x)\n",
    "  \n",
    "  for p in projects:\n",
    "            print(f\"Proportion for project {p}: {proportion(p, projects)}\")\n",
    "\n",
    "  # set initial values for funding and excess\n",
    "  funding = {p: total_budget * proportion(p, projects) for p in projects}\n",
    "   \n",
    "  print(f\"Project funding: {funding}\")\n",
    "  \n",
    "  excess = 0\n",
    "\n",
    "  # as we move funding around, we'll use these sets to keep track of how much funding different projects have\n",
    "  above_max, at_max, between, below_min, zero = set(), set(), set(), set(), set()\n",
    "\n",
    "  # a subroutine to make sure a project is in the appropriate set\n",
    "  def change_set(p):\n",
    "    for s in above_max, at_max, between, below_min, zero:\n",
    "      s.discard(p)\n",
    "    if   funding[p] > maxs[p] : above_max.add(p)\n",
    "    elif funding[p] == maxs[p]: at_max.add(p)\n",
    "    elif funding[p] >= mins[p]: between.add(p)\n",
    "    elif funding[p] > 0       : below_min.add(p)\n",
    "    else                      : zero.add(p)\n",
    "    assert funding[p] >= 0\n",
    "\n",
    "  # run the above subroutine project to put every project in the right set\n",
    "  for p in projects: change_set(p)\n",
    "\n",
    "  # a subroutine to take the current excess and redistribute it among projects in the set s\n",
    "  def distribute_excess(s):\n",
    "    for p in s:\n",
    "      funding[p] += excess * proportion(p, s)\n",
    "      change_set(p)\n",
    "\n",
    "  # a subroutine to find the set of worst-performing projects with non-zero funding\n",
    "  min_funding = lambda: {p for p in below_min if funding[p] / mins[p] == min(funding[q] / mins[q] for q in below_min)}\n",
    "\n",
    "  # main loop\n",
    "  while len(above_max) + len(below_min) > 0:\n",
    "\n",
    "    # if any projects are above their maximum, remove the excess and redistribute it\n",
    "    while len(above_max) > 0:\n",
    "      for p in above_max.copy():\n",
    "        # iterate through a copy because changing a set's size while you're iterating through it is not allowed\n",
    "        excess += funding[p] - maxs[p]\n",
    "        funding[p] = maxs[p]\n",
    "        change_set(p)\n",
    "\n",
    "      if len(below_min.union(between)) > 0:\n",
    "        distribute_excess(below_min.union(between).copy())\n",
    "        excess = 0\n",
    "\n",
    "    # if there is still at least one project below its minimum level of funding, remove the worst performing one and redistribute its funding.\n",
    "    if len(below_min) > 0:\n",
    "\n",
    "      for p in min_funding().copy():\n",
    "        excess += funding[p]\n",
    "        funding[p] = 0\n",
    "        change_set(p)\n",
    "\n",
    "      if len(below_min.union(between)) > 0:\n",
    "        distribute_excess(below_min.union(between).copy())\n",
    "        excess = 0\n",
    "\n",
    "    # after each pass in this while loop, len(above_max) is 0 and len(below_min) is at least 1 smaller than it was before.\n",
    "    # So we are guaranteed to terminate.\n",
    "\n",
    "  return funding, excess"
   ]
  },
  {
   "cell_type": "code",
   "execution_count": 272,
   "metadata": {},
   "outputs": [
    {
     "name": "stdout",
     "output_type": "stream",
     "text": [
      "{'0': 2, '1': 3}\n",
      "{'0': 30000, '1': 70000}\n",
      "{'0': 50000, '1': 80000}\n",
      "Proportion for project 0: 0.4\n",
      "Proportion for project 1: 0.6\n",
      "Project funding: {'0': 40000.0, '1': 60000.0}\n",
      "{'0': 50000, '1': 0}\n",
      "50000.0\n",
      "100000.0\n"
     ]
    }
   ],
   "source": [
    "projects = ['0', '1']\n",
    "fundingScore = {'0': 2, '1': 3}\n",
    "min_funds = {'0': 30000, '1': 70000}\n",
    "max_funds = {'0': 50000, '1': 80000}\n",
    "total_budget = 100000\n",
    "\n",
    "print(fundingScore)\n",
    "print(min_funds)\n",
    "print(max_funds)\n",
    "\n",
    "f, e = scale_funding(projects, fundingScore, min_funds, max_funds, total_budget)\n",
    "print(f)\n",
    "print(e)\n",
    "print(sum(f[p] for p in projects) + e)"
   ]
  },
  {
   "cell_type": "code",
   "execution_count": 273,
   "metadata": {},
   "outputs": [
    {
     "name": "stdout",
     "output_type": "stream",
     "text": [
      "{'0': 1, '1': 1.5, '2': 2, '3': 2.5, '4': 3, '5': 3.5, '6': 4, '7': 4.5, '8': 5, '9': 5.5, '10': 6, '11': 6.5, '12': 7, '13': 7.5, '14': 8, '15': 8.5}\n",
      "{'0': 30000, '1': 70000, '2': 30000, '3': 70000, '4': 30000, '5': 70000, '6': 30000, '7': 70000, '8': 30000, '9': 70000, '10': 30000, '11': 70000, '12': 30000, '13': 70000, '14': 30000, '15': 70000}\n",
      "{'0': 30000, '1': 70000, '2': 30000, '3': 70000, '4': 30000, '5': 70000, '6': 30000, '7': 70000, '8': 30000, '9': 70000, '10': 30000, '11': 70000, '12': 30000, '13': 70000, '14': 30000, '15': 70000}\n",
      "Proportion for project 0: 0.013157894736842105\n",
      "Proportion for project 1: 0.019736842105263157\n",
      "Proportion for project 2: 0.02631578947368421\n",
      "Proportion for project 3: 0.03289473684210526\n",
      "Proportion for project 4: 0.039473684210526314\n",
      "Proportion for project 5: 0.046052631578947366\n",
      "Proportion for project 6: 0.05263157894736842\n",
      "Proportion for project 7: 0.05921052631578947\n",
      "Proportion for project 8: 0.06578947368421052\n",
      "Proportion for project 9: 0.07236842105263158\n",
      "Proportion for project 10: 0.07894736842105263\n",
      "Proportion for project 11: 0.08552631578947369\n",
      "Proportion for project 12: 0.09210526315789473\n",
      "Proportion for project 13: 0.09868421052631579\n",
      "Proportion for project 14: 0.10526315789473684\n",
      "Proportion for project 15: 0.1118421052631579\n",
      "Project funding: {'0': 1315.7894736842104, '1': 1973.6842105263156, '2': 2631.578947368421, '3': 3289.4736842105262, '4': 3947.368421052631, '5': 4605.263157894737, '6': 5263.157894736842, '7': 5921.052631578947, '8': 6578.9473684210525, '9': 7236.842105263158, '10': 7894.736842105262, '11': 8552.631578947368, '12': 9210.526315789473, '13': 9868.421052631578, '14': 10526.315789473683, '15': 11184.21052631579}\n",
      "{'0': 0, '1': 0, '2': 0, '3': 0, '4': 0, '5': 0, '6': 0, '7': 0, '8': 0, '9': 0, '10': 30000, '11': 0, '12': 30000, '13': 0, '14': 30000, '15': 0}\n",
      "9999.999999999993\n",
      "100000.0\n"
     ]
    }
   ],
   "source": [
    "projects = ['0', '1', '2', '3', '4', '5', '6', '7', '8', '9', '10', '11', '12', '13', '14', '15']\n",
    "fundingScore = {'0': 1, '1': 1.5, '2': 2, '3': 2.5,'4': 3, '5': 3.5,'6': 4, '7': 4.5,'8': 5, '9': 5.5,'10': 6, '11': 6.5,'12': 7, '13': 7.5,'14': 8, '15': 8.5}\n",
    "min_funds = {'0': 30000, '1': 70000, '2': 30000, '3': 70000, '4': 30000, '5': 70000,'6': 30000, '7': 70000,'8': 30000, '9': 70000,'10': 30000, '11': 70000,'12': 30000, '13': 70000,'14': 30000, '15': 70000}\n",
    "max_funds = {'0': 30000, '1': 70000, '2': 30000, '3': 70000, '4': 30000, '5': 70000,'6': 30000, '7': 70000,'8': 30000, '9': 70000,'10': 30000, '11': 70000,'12': 30000, '13': 70000,'14': 30000, '15': 70000}\n",
    "total_budget = 100000\n",
    "\n",
    "print(fundingScore)\n",
    "print(min_funds)\n",
    "print(max_funds)\n",
    "\n",
    "f, e = scale_funding(projects, fundingScore, min_funds, max_funds, total_budget)\n",
    "print(f)\n",
    "print(e)\n",
    "print(sum(f[p] for p in projects) + e)"
   ]
  }
 ],
 "metadata": {
  "kernelspec": {
   "display_name": "gov-research",
   "language": "python",
   "name": "python3"
  },
  "language_info": {
   "codemirror_mode": {
    "name": "ipython",
    "version": 3
   },
   "file_extension": ".py",
   "mimetype": "text/x-python",
   "name": "python",
   "nbconvert_exporter": "python",
   "pygments_lexer": "ipython3",
   "version": "3.10.13"
  }
 },
 "nbformat": 4,
 "nbformat_minor": 2
}
