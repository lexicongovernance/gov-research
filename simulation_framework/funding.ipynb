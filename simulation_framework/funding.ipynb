{
 "cells": [
  {
   "cell_type": "code",
   "execution_count": null,
   "metadata": {},
   "outputs": [],
   "source": []
  },
  {
   "cell_type": "code",
   "execution_count": 122,
   "metadata": {},
   "outputs": [],
   "source": [
    "# import dependencies \n",
    "import math \n",
    "import numpy as np\n",
    "from itertools import combinations"
   ]
  },
  {
   "cell_type": "code",
   "execution_count": 134,
   "metadata": {},
   "outputs": [],
   "source": [
    "def calculate_proportion(project, project_subset, funding_score):\n",
    "    \"\"\"\n",
    "    Calculate the proportion of the funding score of a project relative to the total funding scores of all projects in the subset.\n",
    "\n",
    "    Args:\n",
    "    - project: The project for which the proportion is being calculated.\n",
    "    - project_subset: The subset of projects among which the proportion is being calculated.\n",
    "    - funding_score: Dictionary containing funding scores of all projects.\n",
    "\n",
    "    Returns:\n",
    "    - Proportion of the funding score of the project relative to the total funding scores of all projects in the subset.\n",
    "    \"\"\"\n",
    "    total_subset_score = sum(funding_score[q] for q in project_subset)\n",
    "    project_score = funding_score[project]\n",
    "    proportion = project_score / total_subset_score\n",
    "    \n",
    "    return proportion"
   ]
  },
  {
   "cell_type": "code",
   "execution_count": 137,
   "metadata": {},
   "outputs": [],
   "source": [
    "projects = ['0', '1']\n",
    "fundingScore = {'0': 2, '1': 3}\n",
    "min_funds = {'0': 30000, '1': 70000}\n",
    "max_funds = {'0': 30000, '1': 70000}\n",
    "total_budget = 100000"
   ]
  },
  {
   "cell_type": "code",
   "execution_count": 139,
   "metadata": {},
   "outputs": [
    {
     "name": "stdout",
     "output_type": "stream",
     "text": [
      "{'0': 40000.0, '1': 60000.0}\n"
     ]
    }
   ],
   "source": [
    " # Set initial values for funding and excess\n",
    "funding = {p: total_budget * calculate_proportion(p, projects, fundingScore) for p in projects}\n",
    "print(funding)"
   ]
  },
  {
   "cell_type": "code",
   "execution_count": 136,
   "metadata": {},
   "outputs": [],
   "source": [
    "def scale_funding(projects, fundingScore, mins, maxs, total_budget):\n",
    "  '''\n",
    "  input:\n",
    "    projects - list (int) of projects\n",
    "    fundingScore - dictionary indexed by projects. fundingScore[p] = output of COCM for project p\n",
    "    mins - dictionary indexed by projects. mins[p] = minimum viable funding for project p\n",
    "    maxs - dictionary indexed by projects. mins[p] = maximum viable funding for project p\n",
    "    total budget - float. total amount of funding to give out.\n",
    "\n",
    "  output:\n",
    "    funding - dictionary indexed by projects. funding[p] = actual amount of funding to give to project p. funding[p] is either 0, or in between min[p] and max[p]\n",
    "    excess - float. amount of unused funding (greater than 0 if, for example, total_budget is bigger than the sum of all maximum budgets)\n",
    "  '''\n",
    "\n",
    "  # subroutine: given a project and a subset of projects, what is fundingScore[p] as a percentage of the scores among projects in that set?\n",
    "  proportion = lambda p,x : fundingScore[p] / sum(fundingScore[q] for q in x)\n",
    "  \n",
    "  for p in projects:\n",
    "            print(f\"Proportion for project {p}: {proportion(p, projects)}\")\n",
    "\n",
    "  # set initial values for funding and excess\n",
    "  funding = {p: total_budget * proportion(p, projects) for p in projects}\n",
    "   \n",
    "  print(f\"Project funding: {funding}\")\n",
    "  \n",
    "  excess = 0\n",
    "\n",
    "  # as we move funding around, we'll use these sets to keep track of how much funding different projects have\n",
    "  above_max, at_max, between, below_min, zero = set(), set(), set(), set(), set()\n",
    "\n",
    "  # a subroutine to make sure a project is in the appropriate set\n",
    "  def change_set(p):\n",
    "    for s in above_max, at_max, between, below_min, zero:\n",
    "      s.discard(p)\n",
    "    if   funding[p] > maxs[p] : above_max.add(p)\n",
    "    elif funding[p] == maxs[p]: at_max.add(p)\n",
    "    elif funding[p] >= mins[p]: between.add(p)\n",
    "    elif funding[p] > 0       : below_min.add(p)\n",
    "    else                      : zero.add(p)\n",
    "    assert funding[p] >= 0\n",
    "\n",
    "  # run the above subroutine project to put every project in the right set\n",
    "  for p in projects: change_set(p)\n",
    "\n",
    "  # a subroutine to take the current excess and redistribute it among projects in the set s\n",
    "  def distribute_excess(s):\n",
    "    for p in s:\n",
    "      funding[p] += excess * proportion(p, s)\n",
    "      change_set(p)\n",
    "\n",
    "  # a subroutine to find the set of worst-performing projects with non-zero funding\n",
    "  min_funding = lambda: {p for p in below_min if funding[p] / mins[p] == min(funding[q] / mins[q] for q in below_min)}\n",
    "\n",
    "  # main loop\n",
    "  while len(above_max) + len(below_min) > 0:\n",
    "\n",
    "    # if any projects are above their maximum, remove the excess and redistribute it\n",
    "    while len(above_max) > 0:\n",
    "      for p in above_max.copy():\n",
    "        # iterate through a copy because changing a set's size while you're iterating through it is not allowed\n",
    "        excess += funding[p] - maxs[p]\n",
    "        funding[p] = maxs[p]\n",
    "        change_set(p)\n",
    "\n",
    "      if len(below_min.union(between)) > 0:\n",
    "        distribute_excess(below_min.union(between).copy())\n",
    "        excess = 0\n",
    "\n",
    "    # if there is still at least one project below its minimum level of funding, remove the worst performing one and redistribute its funding.\n",
    "    if len(below_min) > 0:\n",
    "\n",
    "      for p in min_funding().copy():\n",
    "        excess += funding[p]\n",
    "        funding[p] = 0\n",
    "        change_set(p)\n",
    "\n",
    "      if len(below_min.union(between)) > 0:\n",
    "        distribute_excess(below_min.union(between).copy())\n",
    "        excess = 0\n",
    "\n",
    "    # after each pass in this while loop, len(above_max) is 0 and len(below_min) is at least 1 smaller than it was before.\n",
    "    # So we are guaranteed to terminate.\n",
    "\n",
    "  return funding, excess"
   ]
  },
  {
   "cell_type": "code",
   "execution_count": 135,
   "metadata": {},
   "outputs": [
    {
     "name": "stdout",
     "output_type": "stream",
     "text": [
      "{'0': 2, '1': 3}\n",
      "{'0': 30000, '1': 70000}\n",
      "{'0': 30000, '1': 70000}\n",
      "Proportion for project 0: 0.4\n",
      "Proportion for project 1: 0.6\n",
      "Project funding:{'0': 40000.0, '1': 60000.0}\n",
      "{'0': 30000, '1': 70000.0}\n",
      "0\n",
      "100000.0\n"
     ]
    }
   ],
   "source": [
    "projects = ['0', '1']\n",
    "fundingScore = {'0': 2, '1': 3}\n",
    "min_funds = {'0': 30000, '1': 70000}\n",
    "max_funds = {'0': 30000, '1': 70000}\n",
    "total_budget = 100000\n",
    "\n",
    "print(fundingScore)\n",
    "print(min_funds)\n",
    "print(max_funds)\n",
    "\n",
    "f, e = scale_funding(projects, fundingScore, min_funds, max_funds, total_budget)\n",
    "print(f)\n",
    "print(e)\n",
    "print(sum(f[p] for p in projects) + e)"
   ]
  }
 ],
 "metadata": {
  "kernelspec": {
   "display_name": "gov-research",
   "language": "python",
   "name": "python3"
  },
  "language_info": {
   "codemirror_mode": {
    "name": "ipython",
    "version": 3
   },
   "file_extension": ".py",
   "mimetype": "text/x-python",
   "name": "python",
   "nbconvert_exporter": "python",
   "pygments_lexer": "ipython3",
   "version": "3.10.13"
  }
 },
 "nbformat": 4,
 "nbformat_minor": 2
}
