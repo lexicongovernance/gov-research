{
 "cells": [
  {
   "cell_type": "markdown",
   "metadata": {},
   "source": [
    "## Model Evaluation "
   ]
  },
  {
   "cell_type": "code",
   "execution_count": 71,
   "metadata": {},
   "outputs": [],
   "source": [
    "# import dependencies \n",
    "import math "
   ]
  },
  {
   "cell_type": "code",
   "execution_count": 2,
   "metadata": {},
   "outputs": [],
   "source": [
    "# Define input variables  \n",
    "# groups = [[1, 2, 3], [1], [0, 2]] \n",
    "# votes = [5, 5, 5, 5]"
   ]
  },
  {
   "cell_type": "code",
   "execution_count": 6,
   "metadata": {},
   "outputs": [],
   "source": [
    "def group_memberships(groups, votes):\n",
    "    \"\"\"\n",
    "    Define group memberships for each participant.\n",
    "    :param: groups (list of lists): a list denotes the group and contains its members. \n",
    "    :param: votes (list): number of participant's votes for a given project proposal.\n",
    "    :returns (list of lists): retunrs a list of group membersips for each participant.  \n",
    "    \"\"\"\n",
    "    # let each entry in votes define a unique identifyer for an agent \n",
    "    group_memberships = [[] for _ in range(len(votes))]\n",
    "\n",
    "    # add group memberships of agent i as a list to each entry identifying an agent \n",
    "    for i in range(len(groups)):\n",
    "        for j in groups[i]:\n",
    "            group_memberships[j].append(i)\n",
    "        \n",
    "    return group_memberships"
   ]
  },
  {
   "cell_type": "code",
   "execution_count": 1,
   "metadata": {},
   "outputs": [],
   "source": [
    "# group_memberships = group_memberships(groups, votes)\n",
    "# print(group_memberships)"
   ]
  },
  {
   "cell_type": "code",
   "execution_count": 8,
   "metadata": {},
   "outputs": [],
   "source": [
    "def common_group(agent_i, agent_j):\n",
    "    \"\"\"\n",
    "    Define an identifyer indicating whether two participants share any common group. \n",
    "    :param: agent_i denotes a participant not equal to a participant called agent_j. \n",
    "    :param: agent_j denotes a participant not equal to a participant called agent_i.\n",
    "    :returns (bool): returns true if two participants share a common group and false otherwise.  \n",
    "    \"\"\"\n",
    "    common_group = any(group in group_memberships[agent_j] for group in group_memberships[agent_i])\n",
    "\n",
    "    return common_group"
   ]
  },
  {
   "cell_type": "code",
   "execution_count": 10,
   "metadata": {},
   "outputs": [],
   "source": [
    "def K(agent_i, group):\n",
    "    \"\"\"\n",
    "    Define the weighting function that attenuates the votes of agent i given different group memberships.  \n",
    "    :param: agent_i denotes a participant not equal to a participant called agent_j.\n",
    "    :param: (integer): group denotes the group number.\n",
    "    :returns: attenuated number of votes for a given project. \n",
    "    \"\"\"\n",
    "    if agent_i in group or any(common_group(agent_i, j) for j in group):\n",
    "        return math.sqrt(votes[agent_i])\n",
    "    else:\n",
    "        return votes[agent_i]\n"
   ]
  },
  {
   "cell_type": "code",
   "execution_count": 132,
   "metadata": {},
   "outputs": [],
   "source": [
    "def first_term(groups, votes, group_memberships):\n",
    "    \"\"\"\n",
    "    Calculate the first term of the formula for \"connection-oriented cluster match\" by individual and in aggregate.\n",
    "    :param: groups (list of lists): a list denotes the group and contains its members.\n",
    "    :param: votes (list): number of participant's votes for a given project proposal.\n",
    "    :param: group_membership: defines group memberships for each participant.\n",
    "    \"\"\" \n",
    "    weighted_votes_groups = {}\n",
    "    for group_num, group in enumerate(groups):\n",
    "        weighted_votes_individual = {}\n",
    "\n",
    "        for agent_i in group:\n",
    "            if agent_i not in weighted_votes_individual:\n",
    "                weighted_votes_individual[agent_i] = {}\n",
    "\n",
    "            weighted_votes_individual[agent_i][\"votes\"] = votes[agent_i]\n",
    "            weighted_votes_individual[agent_i][\"num_groups\"] = len(group_memberships[agent_i])\n",
    "            weighted_votes_individual[agent_i][\"vote_weight\"] = votes[agent_i]/len(group_memberships[agent_i])\n",
    "        \n",
    "        weighted_votes_groups[group_num] = weighted_votes_individual \n",
    "    \n",
    "    aggregate_votes_weight = sum(agent_data[\"vote_weight\"] for group_data in weighted_votes_groups.values() for agent_data in group_data.values())\n",
    "    \n",
    "    return weighted_votes_groups, aggregate_votes_weight"
   ]
  },
  {
   "cell_type": "code",
   "execution_count": 1,
   "metadata": {},
   "outputs": [],
   "source": [
    "# first_term = first_term(groups, votes, group_memberships)\n",
    "# print(first_term[0])\n",
    "# print(first_term[1])"
   ]
  },
  {
   "cell_type": "code",
   "execution_count": 127,
   "metadata": {},
   "outputs": [],
   "source": [
    "def interaction_terms(groups, group_memberships):\n",
    "    \"\"\"\n",
    "    Calculate the interaction terms of the formula for \"connection-oriented cluster match\" by individual and in aggregate.\n",
    "    :param: groups (list of lists): a list denotes the group and contains its members.\n",
    "    :param: votes (list): number of participant's votes for a given project proposal.\n",
    "    :param: group_membership: defines group memberships for each participant.\n",
    "    \"\"\" \n",
    "    interaction_terms_individual = {}\n",
    "    for group_num, group in enumerate(groups):\n",
    "        interaction_terms_group = {}\n",
    "\n",
    "        for other_group_num, other_group in enumerate(groups):\n",
    "            if group_num == other_group_num: # index comparision allows to compare groups that have the same composition of participants \n",
    "                continue\n",
    "            \n",
    "            result_agent_i = {} \n",
    "            for agent_i in group: \n",
    "                vote_attenuation_i = K(agent_i, other_group) \n",
    "                num_groups_i = len(group_memberships[agent_i])\n",
    "                vote_weight_i = vote_attenuation_i/num_groups_i\n",
    "\n",
    "                result_agent_i[agent_i] = {\n",
    "                    'vote_attenuation_i': vote_attenuation_i,\n",
    "                    'num_groups_i': num_groups_i,\n",
    "                    'vote_weight_i': vote_weight_i\n",
    "                }\n",
    "                \n",
    "            result_agent_j = {} \n",
    "            for agent_j in other_group:\n",
    "                vote_attenuation_j = K(agent_j, group)\n",
    "                num_groups_j = len(group_memberships[agent_j])\n",
    "                vote_weight_j = vote_attenuation_j/num_groups_j\n",
    "\n",
    "                result_agent_j[agent_j] = {\n",
    "                    'vote_attenuation_j': vote_attenuation_j,\n",
    "                    'num_groups_j': num_groups_j,\n",
    "                    'vote_weight_j': vote_weight_j\n",
    "                }\n",
    "\n",
    "            # Caluclation of individual internaction terms \n",
    "            sum_vote_weight_i = sum(value['vote_weight_i'] for value in result_agent_i.values())\n",
    "            sum_vote_weight_j = sum(value['vote_weight_j'] for value in result_agent_j.values()) \n",
    "            sqrt_sum_vote_weight_i = math.sqrt(sum_vote_weight_i)\n",
    "            sqrt_sum_vote_weight_j = math.sqrt(sum_vote_weight_j)\n",
    "\n",
    "            #interaction_term1 = math.sqrt(sum(K(agent_i, other_group) / len(group_memberships[agent_i]) for agent_i in group))\n",
    "            #interaction_term2 = math.sqrt(sum(K(agent_j, group) / len(group_memberships[agent_j]) for agent_j in other_group))\n",
    "\n",
    "            interaction_terms_group[other_group_num] = {\n",
    "                'components_int_term1': result_agent_i,\n",
    "                'components_int_term2': result_agent_j,\n",
    "                'sum_vote_weight_i': sum_vote_weight_i,\n",
    "                'sqrt_sum_vote_weight_i': sqrt_sum_vote_weight_i,\n",
    "                'sum_vote_weight_j': sum_vote_weight_j,\n",
    "                'sqrt_sum_vote_weight_j': sqrt_sum_vote_weight_j,\n",
    "                'multiplied_interaction': sqrt_sum_vote_weight_i*sqrt_sum_vote_weight_j \n",
    "            }\n",
    "\n",
    "        interaction_terms_individual[group_num] = interaction_terms_group\n",
    "    \n",
    "    aggregated_interaction_terms = sum(value['multiplied_interaction'] for group_data in interaction_terms_individual.values() for value in group_data.values())\n",
    "    \n",
    "    return interaction_terms_individual, aggregated_interaction_terms"
   ]
  },
  {
   "cell_type": "code",
   "execution_count": 2,
   "metadata": {},
   "outputs": [],
   "source": [
    "# term_2 = interaction_terms(groups, group_memberships)\n",
    "# print(term_2[0])\n",
    "# print(term_2[1])"
   ]
  },
  {
   "cell_type": "code",
   "execution_count": 3,
   "metadata": {},
   "outputs": [],
   "source": [
    "# print(math.sqrt(20+17.44884635887628))"
   ]
  },
  {
   "cell_type": "code",
   "execution_count": 86,
   "metadata": {},
   "outputs": [],
   "source": [
    "def connection_oriented_cluster_match(groups, group_memberships):\n",
    "    \"\"\"\n",
    "    This function calculates the connection-oriented cluster match of votes \n",
    "    for each agent and returns the attenuated sum of votes for a given project proposal.\n",
    "    param: groups (list of lists): a list denotes the group and contains its members.\n",
    "    param: votes (list): number of participant's votes for a given project proposal.\n",
    "    param: group_membership: defines group memberships for each participant.\n",
    "    \"\"\" \n",
    "    weighted_votes = 0\n",
    "\n",
    "    # First term of the connection oriented cluster match formula \n",
    "    weighted_votes += first_term[1]\n",
    "\n",
    "    # interaction terms of the connection oriented cluster match formula \n",
    "    for group in groups:\n",
    "        for other_group in groups:\n",
    "            if group == other_group:\n",
    "                continue\n",
    "\n",
    "            interaction_term1 = math.sqrt(sum(K(agent_i, other_group) / len(group_memberships[agent_i]) for agent_i in group))\n",
    "            interaction_term2 = math.sqrt(sum(K(agent_j, group) / len(group_memberships[agent_j]) for agent_j in other_group))\n",
    "\n",
    "            weighted_votes += interaction_term1 * interaction_term2\n",
    "    \n",
    "    # Transformation from quadratic finance to quadratic voting \n",
    "    sqrt_weighted_votes = math.sqrt(weighted_votes)\n",
    "\n",
    "    return sqrt_weighted_votes"
   ]
  },
  {
   "cell_type": "code",
   "execution_count": 4,
   "metadata": {},
   "outputs": [],
   "source": [
    "# result = connection_oriented_cluster_match(groups, group_memberships)\n",
    "# print(result)"
   ]
  }
 ],
 "metadata": {
  "kernelspec": {
   "display_name": "Python 3",
   "language": "python",
   "name": "python3"
  },
  "language_info": {
   "codemirror_mode": {
    "name": "ipython",
    "version": 3
   },
   "file_extension": ".py",
   "mimetype": "text/x-python",
   "name": "python",
   "nbconvert_exporter": "python",
   "pygments_lexer": "ipython3",
   "version": "3.10.13"
  }
 },
 "nbformat": 4,
 "nbformat_minor": 2
}
