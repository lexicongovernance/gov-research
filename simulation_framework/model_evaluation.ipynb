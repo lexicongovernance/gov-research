{
 "cells": [
  {
   "cell_type": "markdown",
   "metadata": {},
   "source": [
    "## Model Evaluation "
   ]
  },
  {
   "cell_type": "code",
   "execution_count": 25,
   "metadata": {},
   "outputs": [],
   "source": [
    "# import dependencies \n",
    "import math "
   ]
  },
  {
   "cell_type": "code",
   "execution_count": 26,
   "metadata": {},
   "outputs": [],
   "source": [
    "# Define input variables  \n",
    "groups = [[1, 2, 3], [1], [0, 2]] \n",
    "votes = [5, 5, 5, 5]"
   ]
  },
  {
   "cell_type": "code",
   "execution_count": 27,
   "metadata": {},
   "outputs": [],
   "source": [
    "def group_memberships(groups, votes):\n",
    "    \"\"\"\n",
    "    Define group memberships for each participant.\n",
    "    :param: groups (list of lists): a list denotes the group and contains its members. \n",
    "    :param: votes (list): number of participant's votes for a given project proposal.\n",
    "    :returns (list of lists): retunrs a list of group membersips for each participant.  \n",
    "    \"\"\"\n",
    "    # let each entry in votes define a unique identifyer for an agent \n",
    "    group_memberships = [[] for _ in range(len(votes))]\n",
    "\n",
    "    # add group memberships of agent i as a list to each entry identifying an agent \n",
    "    for i in range(len(groups)):\n",
    "        for j in groups[i]:\n",
    "            group_memberships[j].append(i)\n",
    "        \n",
    "    return group_memberships"
   ]
  },
  {
   "cell_type": "code",
   "execution_count": 28,
   "metadata": {},
   "outputs": [
    {
     "name": "stdout",
     "output_type": "stream",
     "text": [
      "[[2], [0, 1], [0, 2], [0]]\n"
     ]
    }
   ],
   "source": [
    "group_memberships = group_memberships(groups, votes)\n",
    "print(group_memberships)"
   ]
  },
  {
   "cell_type": "code",
   "execution_count": 29,
   "metadata": {},
   "outputs": [],
   "source": [
    "def common_group(agent_i, agent_j):\n",
    "    \"\"\"\n",
    "    Define an identifyer indicating whether two participants share any common group. \n",
    "    :param: agent_i denotes a participant not equal to a participant called agent_j. \n",
    "    :param: agent_j denotes a participant not equal to a participant called agent_i.\n",
    "    :returns (bool): returns true if two participants share a common group and false otherwise.  \n",
    "    \"\"\"\n",
    "    common_group = any(group in group_memberships[agent_j] for group in group_memberships[agent_i])\n",
    "\n",
    "    return common_group"
   ]
  },
  {
   "cell_type": "code",
   "execution_count": 30,
   "metadata": {},
   "outputs": [],
   "source": [
    "def K(agent_i, group):\n",
    "    \"\"\"\n",
    "    Define the weighting function that attenuates the votes of agent i given different group memberships.  \n",
    "    :param: agent_i denotes a participant not equal to a participant called agent_j.\n",
    "    :param: (integer): group denotes the group number.\n",
    "    :returns: attenuated number of votes for a given project. \n",
    "    \"\"\"\n",
    "    if agent_i in group or any(common_group(agent_i, j) for j in group):\n",
    "        return math.sqrt(votes[agent_i])\n",
    "    else:\n",
    "        return votes[agent_i]\n"
   ]
  },
  {
   "cell_type": "code",
   "execution_count": 37,
   "metadata": {},
   "outputs": [],
   "source": [
    "def connection_oriented_cluster_match(groups, votes, group_memberships):\n",
    "    \"\"\"\n",
    "    This function calculates the connection-oriented cluster match of votes \n",
    "    for each agent and returns the attenuated sum of votes for a given project proposal.\n",
    "    param: groups (list of lists): a list denotes the group and contains its members.\n",
    "    param: votes (list): number of participant's votes for a given project proposal.\n",
    "    param: group_membership: defines group memberships for each participant.\n",
    "    \"\"\" \n",
    "    weighted_votes = 0\n",
    "\n",
    "    for group in groups:\n",
    "        for agent_i in group:\n",
    "            weighted_votes += votes[agent_i] / len(group_memberships[agent_i])\n",
    "\n",
    "    for group in groups:\n",
    "        for other_group in groups:\n",
    "            if group == other_group:\n",
    "                continue\n",
    "\n",
    "            term1 = sum(K(agent_i, other_group) / len(group_memberships[agent_i]) for agent_i in group)\n",
    "            term1 = math.sqrt(term1)\n",
    "\n",
    "            term2 = sum(K(agent_j, group) / len(group_memberships[agent_j]) for agent_j in other_group)\n",
    "            term2 = math.sqrt(term2)\n",
    "\n",
    "            weighted_votes += term1 * term2\n",
    "\n",
    "    return math.sqrt(weighted_votes)"
   ]
  },
  {
   "cell_type": "code",
   "execution_count": 38,
   "metadata": {},
   "outputs": [
    {
     "name": "stdout",
     "output_type": "stream",
     "text": [
      "6.119546254329342\n"
     ]
    }
   ],
   "source": [
    "result = connection_oriented_cluster_match(groups, votes, group_memberships)\n",
    "print(result)"
   ]
  },
  {
   "cell_type": "code",
   "execution_count": 19,
   "metadata": {},
   "outputs": [],
   "source": [
    "def cluster_match(groups, contributions):\n",
    "    \"\"\"\n",
    "    groups: bag of groups (list of lists of integers)\n",
    "    contributions: list of contributions (floats)\n",
    "    group_memberships: list of sets (lists of lists) where\n",
    "                        group_memberships[i] is the groups agent i belongs to\n",
    "    \"\"\"\n",
    "    group_memberships = [[] for _ in range(len(contributions))]\n",
    "\n",
    "    for i in range(len(groups)):\n",
    "        for j in groups[i]:\n",
    "            group_memberships[j].append(i)\n",
    "\n",
    "    def common_group(i, j):\n",
    "        \"\"\"\n",
    "        If voter i and voter j share any common group, return true. Else return false.\n",
    "        \"\"\"\n",
    "        return any(group in group_memberships[j] for group in group_memberships[i])\n",
    "\n",
    "    def K(i, group):\n",
    "        \"\"\"\n",
    "        If group includes voter i, or any member of group shares a different group with voter i\n",
    "        \"\"\"\n",
    "        if i in group or any(common_group(i, j) for j in group):\n",
    "            return math.sqrt(contributions[i])\n",
    "        return contributions[i]\n",
    "\n",
    "    result = 0\n",
    "\n",
    "    for g in groups:\n",
    "        for i in g:\n",
    "            result += contributions[i] / len(group_memberships[i])\n",
    "\n",
    "    for g in groups:\n",
    "        for h in groups:\n",
    "            if g == h:\n",
    "                continue\n",
    "\n",
    "            term1 = sum(K(i, h) / len(group_memberships[i]) for i in g)\n",
    "            term1 = math.sqrt(term1)\n",
    "\n",
    "            term2 = sum(K(j, g) / len(group_memberships[j]) for j in h)\n",
    "            term2 = math.sqrt(term2)\n",
    "\n",
    "            result += term1 * term2\n",
    "\n",
    "    return math.sqrt(result)"
   ]
  },
  {
   "cell_type": "code",
   "execution_count": 20,
   "metadata": {},
   "outputs": [
    {
     "name": "stdout",
     "output_type": "stream",
     "text": [
      "6.119546254329342\n"
     ]
    }
   ],
   "source": [
    "result = cluster_match(groups, contributions) \n",
    "print(result)"
   ]
  },
  {
   "cell_type": "markdown",
   "metadata": {},
   "source": []
  }
 ],
 "metadata": {
  "kernelspec": {
   "display_name": "Python 3",
   "language": "python",
   "name": "python3"
  },
  "language_info": {
   "codemirror_mode": {
    "name": "ipython",
    "version": 3
   },
   "file_extension": ".py",
   "mimetype": "text/x-python",
   "name": "python",
   "nbconvert_exporter": "python",
   "pygments_lexer": "ipython3",
   "version": "3.10.13"
  }
 },
 "nbformat": 4,
 "nbformat_minor": 2
}
