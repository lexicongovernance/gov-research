{
 "cells": [
  {
   "cell_type": "markdown",
   "metadata": {},
   "source": [
    "## Model Evaluation "
   ]
  },
  {
   "cell_type": "code",
   "execution_count": 5,
   "metadata": {},
   "outputs": [],
   "source": [
    "# import dependencies \n",
    "import math "
   ]
  },
  {
   "cell_type": "code",
   "execution_count": 6,
   "metadata": {},
   "outputs": [],
   "source": [
    "# Define input variables  \n",
    "groups = [[1, 2, 3], [1], [0, 2]] \n",
    "votes = [5, 5, 5, 5]"
   ]
  },
  {
   "cell_type": "code",
   "execution_count": 7,
   "metadata": {},
   "outputs": [],
   "source": [
    "def group_memberships(groups, votes):\n",
    "    \"\"\"\n",
    "    Define group memberships for each participant.\n",
    "    :param: groups (list of lists): a list denotes the group and contains its members. \n",
    "    :param: votes (list): number of participant's votes for a given project proposal.\n",
    "    :returns (list of lists): retunrs a list of group membersips for each participant.  \n",
    "    \"\"\"\n",
    "    # let each entry in votes define a unique identifyer for an agent \n",
    "    group_memberships = [[] for _ in range(len(votes))]\n",
    "\n",
    "    # add group memberships of agent i as a list to each entry identifying an agent \n",
    "    for i in range(len(groups)):\n",
    "        for j in groups[i]:\n",
    "            group_memberships[j].append(i)\n",
    "        \n",
    "    return group_memberships"
   ]
  },
  {
   "cell_type": "code",
   "execution_count": 8,
   "metadata": {},
   "outputs": [
    {
     "name": "stdout",
     "output_type": "stream",
     "text": [
      "[[2], [0, 1], [0, 2], [0]]\n"
     ]
    }
   ],
   "source": [
    "group_memberships = group_memberships(groups, votes)\n",
    "print(group_memberships)"
   ]
  },
  {
   "cell_type": "code",
   "execution_count": 9,
   "metadata": {},
   "outputs": [],
   "source": [
    "def common_group(agent_i, agent_j):\n",
    "    \"\"\"\n",
    "    Define an identifyer indicating whether two participants share any common group. \n",
    "    :param: agent_i denotes a participant not equal to a participant called agent_j. \n",
    "    :param: agent_j denotes a participant not equal to a participant called agent_i.\n",
    "    :returns (bool): returns true if two participants share a common group and false otherwise.  \n",
    "    \"\"\"\n",
    "    common_group = any(group in group_memberships[agent_j] for group in group_memberships[agent_i])\n",
    "\n",
    "    return common_group"
   ]
  },
  {
   "cell_type": "code",
   "execution_count": 10,
   "metadata": {},
   "outputs": [],
   "source": [
    "def K(agent_i, group):\n",
    "    \"\"\"\n",
    "    Define the weighting function that attenuates the votes of agent i given different group memberships.  \n",
    "    :param: agent_i denotes a participant not equal to a participant called agent_j.\n",
    "    :param: (integer): group denotes the group number.\n",
    "    :returns: attenuated number of votes for a given project. \n",
    "    \"\"\"\n",
    "    if agent_i in group or any(common_group(agent_i, j) for j in group):\n",
    "        return math.sqrt(votes[agent_i])\n",
    "    else:\n",
    "        return votes[agent_i]\n"
   ]
  },
  {
   "cell_type": "code",
   "execution_count": 29,
   "metadata": {},
   "outputs": [],
   "source": [
    "def first_term(groups, votes, group_memberships):\n",
    "    \"\"\"\n",
    "    Calculate the first term of the formula for \"connection-oriented cluster match\" by individual and in aggregate.\n",
    "    :param: groups (list of lists): a list denotes the group and contains its members.\n",
    "    :param: votes (list): number of participant's votes for a given project proposal.\n",
    "    :param: group_membership: defines group memberships for each participant.\n",
    "    \"\"\" \n",
    "    weighted_votes_groups = {}\n",
    "    for group_num, group in enumerate(groups):\n",
    "        \n",
    "        weighted_votes_individual = {}\n",
    "        for agent_i in group:\n",
    "\n",
    "            votes_i = votes[agent_i]\n",
    "            num_groups_i = len(group_memberships[agent_i])\n",
    "            vote_weight_i = votes_i/num_groups_i\n",
    "            \n",
    "            agent_key = f\"agent_{agent_i}\"\n",
    "            weighted_votes_individual[agent_key] = {\n",
    "                    'votes': votes_i,\n",
    "                    'num_groups': num_groups_i,\n",
    "                    'vote_weight': vote_weight_i\n",
    "                }\n",
    "\n",
    "        group_key = f\"group_{group_num}\"\n",
    "        weighted_votes_groups[group_key] = weighted_votes_individual \n",
    "    \n",
    "    aggregate_votes_weight = sum(agent_data[\"vote_weight\"] for group_data in weighted_votes_groups.values() for agent_data in group_data.values())\n",
    "    \n",
    "    return weighted_votes_groups, aggregate_votes_weight"
   ]
  },
  {
   "cell_type": "code",
   "execution_count": 30,
   "metadata": {},
   "outputs": [
    {
     "name": "stdout",
     "output_type": "stream",
     "text": [
      "{'group_0': {'agent_1': {'votes': 5, 'num_groups': 2, 'vote_weight': 2.5}, 'agent_2': {'votes': 5, 'num_groups': 2, 'vote_weight': 2.5}, 'agent_3': {'votes': 5, 'num_groups': 1, 'vote_weight': 5.0}}, 'group_1': {'agent_1': {'votes': 5, 'num_groups': 2, 'vote_weight': 2.5}}, 'group_2': {'agent_0': {'votes': 5, 'num_groups': 1, 'vote_weight': 5.0}, 'agent_2': {'votes': 5, 'num_groups': 2, 'vote_weight': 2.5}}}\n",
      "20.0\n"
     ]
    }
   ],
   "source": [
    "result_groups, result_aggregate_weight = first_term(groups, votes, group_memberships)\n",
    "print(result_groups)\n",
    "print(result_aggregate_weight)"
   ]
  },
  {
   "cell_type": "code",
   "execution_count": 37,
   "metadata": {},
   "outputs": [],
   "source": [
    "def interaction_terms(groups, group_memberships):\n",
    "    \"\"\"\n",
    "    Calculate the interaction terms of the formula for \"connection-oriented cluster match\" by individual and in aggregate.\n",
    "    :param: groups (list of lists): a list denotes the group and contains its members.\n",
    "    :param: votes (list): number of participant's votes for a given project proposal.\n",
    "    :param: group_membership: defines group memberships for each participant.\n",
    "    \"\"\" \n",
    "    interaction_terms_individual = {}\n",
    "    for group_num, group in enumerate(groups):\n",
    "        interaction_terms_group = {}\n",
    "\n",
    "        for other_group_num, other_group in enumerate(groups):\n",
    "            if group_num == other_group_num: # index comparision allows to compare groups that have the same composition of participants \n",
    "                continue\n",
    "            \n",
    "            result_agent_i = {} \n",
    "            for agent_i in group: \n",
    "                vote_attenuation_i = K(agent_i, other_group) \n",
    "                num_groups_i = len(group_memberships[agent_i])\n",
    "                vote_weight_i = vote_attenuation_i/num_groups_i\n",
    "\n",
    "                agent_i_key = f\"agent_i_{agent_i}\"\n",
    "                result_agent_i[agent_i_key] = {\n",
    "                    'vote_attenuation_i': vote_attenuation_i,\n",
    "                    'num_groups_i': num_groups_i,\n",
    "                    'vote_weight_i': vote_weight_i\n",
    "                }\n",
    "                \n",
    "            result_agent_j = {} \n",
    "            for agent_j in other_group:\n",
    "                vote_attenuation_j = K(agent_j, group)\n",
    "                num_groups_j = len(group_memberships[agent_j])\n",
    "                vote_weight_j = vote_attenuation_j/num_groups_j\n",
    "\n",
    "                agent_j_key = f\"agent_j_{agent_j}\"\n",
    "                result_agent_j[agent_j_key] = {\n",
    "                    'vote_attenuation_j': vote_attenuation_j,\n",
    "                    'num_groups_j': num_groups_j,\n",
    "                    'vote_weight_j': vote_weight_j\n",
    "                }\n",
    "\n",
    "            # Caluclation of individual internaction terms \n",
    "            sum_vote_weight_i = sum(value['vote_weight_i'] for value in result_agent_i.values())\n",
    "            sum_vote_weight_j = sum(value['vote_weight_j'] for value in result_agent_j.values()) \n",
    "            sqrt_sum_vote_weight_i = math.sqrt(sum_vote_weight_i)\n",
    "            sqrt_sum_vote_weight_j = math.sqrt(sum_vote_weight_j)\n",
    "\n",
    "            #interaction_term1 = math.sqrt(sum(K(agent_i, other_group) / len(group_memberships[agent_i]) for agent_i in group))\n",
    "            #interaction_term2 = math.sqrt(sum(K(agent_j, group) / len(group_memberships[agent_j]) for agent_j in other_group))\n",
    "\n",
    "            other_group_key = f\"other_group_{other_group_num}\"\n",
    "            interaction_terms_group[other_group_key] = {\n",
    "                'components_int_term1': result_agent_i,\n",
    "                'components_int_term2': result_agent_j,\n",
    "                'sum_vote_weight_i': sum_vote_weight_i,\n",
    "                'sqrt_sum_vote_weight_i': sqrt_sum_vote_weight_i,\n",
    "                'sum_vote_weight_j': sum_vote_weight_j,\n",
    "                'sqrt_sum_vote_weight_j': sqrt_sum_vote_weight_j,\n",
    "                'multiplied_interaction': sqrt_sum_vote_weight_i*sqrt_sum_vote_weight_j \n",
    "            }\n",
    "\n",
    "        group_key = f\"group_{group_num}\"\n",
    "        interaction_terms_individual[group_key] = interaction_terms_group\n",
    "    \n",
    "    aggregated_interaction_terms = sum(value['multiplied_interaction'] for group_data in interaction_terms_individual.values() for value in group_data.values())\n",
    "    \n",
    "    return interaction_terms_individual, aggregated_interaction_terms"
   ]
  },
  {
   "cell_type": "code",
   "execution_count": 38,
   "metadata": {},
   "outputs": [
    {
     "name": "stdout",
     "output_type": "stream",
     "text": [
      "{'group_0': {'other_group_1': {'components_int_term1': {'agent_i_1': {'vote_attenuation_i': 2.23606797749979, 'num_groups_i': 2, 'vote_weight_i': 1.118033988749895}, 'agent_i_2': {'vote_attenuation_i': 2.23606797749979, 'num_groups_i': 2, 'vote_weight_i': 1.118033988749895}, 'agent_i_3': {'vote_attenuation_i': 2.23606797749979, 'num_groups_i': 1, 'vote_weight_i': 2.23606797749979}}, 'components_int_term2': {'agent_j_1': {'vote_attenuation_j': 2.23606797749979, 'num_groups_j': 2, 'vote_weight_j': 1.118033988749895}}, 'sum_vote_weight_i': 4.47213595499958, 'sqrt_sum_vote_weight_i': 2.114742526881128, 'sum_vote_weight_j': 1.118033988749895, 'sqrt_sum_vote_weight_j': 1.057371263440564, 'multiplied_interaction': 2.2360679774997894}, 'other_group_2': {'components_int_term1': {'agent_i_1': {'vote_attenuation_i': 2.23606797749979, 'num_groups_i': 2, 'vote_weight_i': 1.118033988749895}, 'agent_i_2': {'vote_attenuation_i': 2.23606797749979, 'num_groups_i': 2, 'vote_weight_i': 1.118033988749895}, 'agent_i_3': {'vote_attenuation_i': 2.23606797749979, 'num_groups_i': 1, 'vote_weight_i': 2.23606797749979}}, 'components_int_term2': {'agent_j_0': {'vote_attenuation_j': 2.23606797749979, 'num_groups_j': 1, 'vote_weight_j': 2.23606797749979}, 'agent_j_2': {'vote_attenuation_j': 2.23606797749979, 'num_groups_j': 2, 'vote_weight_j': 1.118033988749895}}, 'sum_vote_weight_i': 4.47213595499958, 'sqrt_sum_vote_weight_i': 2.114742526881128, 'sum_vote_weight_j': 3.3541019662496847, 'sqrt_sum_vote_weight_j': 1.8314207507423532, 'multiplied_interaction': 3.872983346207417}}, 'group_1': {'other_group_0': {'components_int_term1': {'agent_i_1': {'vote_attenuation_i': 2.23606797749979, 'num_groups_i': 2, 'vote_weight_i': 1.118033988749895}}, 'components_int_term2': {'agent_j_1': {'vote_attenuation_j': 2.23606797749979, 'num_groups_j': 2, 'vote_weight_j': 1.118033988749895}, 'agent_j_2': {'vote_attenuation_j': 2.23606797749979, 'num_groups_j': 2, 'vote_weight_j': 1.118033988749895}, 'agent_j_3': {'vote_attenuation_j': 2.23606797749979, 'num_groups_j': 1, 'vote_weight_j': 2.23606797749979}}, 'sum_vote_weight_i': 1.118033988749895, 'sqrt_sum_vote_weight_i': 1.057371263440564, 'sum_vote_weight_j': 4.47213595499958, 'sqrt_sum_vote_weight_j': 2.114742526881128, 'multiplied_interaction': 2.2360679774997894}, 'other_group_2': {'components_int_term1': {'agent_i_1': {'vote_attenuation_i': 2.23606797749979, 'num_groups_i': 2, 'vote_weight_i': 1.118033988749895}}, 'components_int_term2': {'agent_j_0': {'vote_attenuation_j': 5, 'num_groups_j': 1, 'vote_weight_j': 5.0}, 'agent_j_2': {'vote_attenuation_j': 2.23606797749979, 'num_groups_j': 2, 'vote_weight_j': 1.118033988749895}}, 'sum_vote_weight_i': 1.118033988749895, 'sqrt_sum_vote_weight_i': 1.057371263440564, 'sum_vote_weight_j': 6.118033988749895, 'sqrt_sum_vote_weight_j': 2.4734659869805964, 'multiplied_interaction': 2.615371855730935}}, 'group_2': {'other_group_0': {'components_int_term1': {'agent_i_0': {'vote_attenuation_i': 2.23606797749979, 'num_groups_i': 1, 'vote_weight_i': 2.23606797749979}, 'agent_i_2': {'vote_attenuation_i': 2.23606797749979, 'num_groups_i': 2, 'vote_weight_i': 1.118033988749895}}, 'components_int_term2': {'agent_j_1': {'vote_attenuation_j': 2.23606797749979, 'num_groups_j': 2, 'vote_weight_j': 1.118033988749895}, 'agent_j_2': {'vote_attenuation_j': 2.23606797749979, 'num_groups_j': 2, 'vote_weight_j': 1.118033988749895}, 'agent_j_3': {'vote_attenuation_j': 2.23606797749979, 'num_groups_j': 1, 'vote_weight_j': 2.23606797749979}}, 'sum_vote_weight_i': 3.3541019662496847, 'sqrt_sum_vote_weight_i': 1.8314207507423532, 'sum_vote_weight_j': 4.47213595499958, 'sqrt_sum_vote_weight_j': 2.114742526881128, 'multiplied_interaction': 3.872983346207417}, 'other_group_1': {'components_int_term1': {'agent_i_0': {'vote_attenuation_i': 5, 'num_groups_i': 1, 'vote_weight_i': 5.0}, 'agent_i_2': {'vote_attenuation_i': 2.23606797749979, 'num_groups_i': 2, 'vote_weight_i': 1.118033988749895}}, 'components_int_term2': {'agent_j_1': {'vote_attenuation_j': 2.23606797749979, 'num_groups_j': 2, 'vote_weight_j': 1.118033988749895}}, 'sum_vote_weight_i': 6.118033988749895, 'sqrt_sum_vote_weight_i': 2.4734659869805964, 'sum_vote_weight_j': 1.118033988749895, 'sqrt_sum_vote_weight_j': 1.057371263440564, 'multiplied_interaction': 2.615371855730935}}}\n",
      "17.44884635887628\n"
     ]
    }
   ],
   "source": [
    "result_individual, result_aggregated = interaction_terms(groups, group_memberships)\n",
    "print(result_individual)\n",
    "print(result_aggregated)"
   ]
  },
  {
   "cell_type": "code",
   "execution_count": 3,
   "metadata": {},
   "outputs": [],
   "source": [
    "# print(math.sqrt(20+17.44884635887628))"
   ]
  },
  {
   "cell_type": "code",
   "execution_count": 86,
   "metadata": {},
   "outputs": [],
   "source": [
    "def connection_oriented_cluster_match(groups, group_memberships):\n",
    "    \"\"\"\n",
    "    This function calculates the connection-oriented cluster match of votes \n",
    "    for each agent and returns the attenuated sum of votes for a given project proposal.\n",
    "    param: groups (list of lists): a list denotes the group and contains its members.\n",
    "    param: votes (list): number of participant's votes for a given project proposal.\n",
    "    param: group_membership: defines group memberships for each participant.\n",
    "    \"\"\" \n",
    "    weighted_votes = 0\n",
    "\n",
    "    # First term of the connection oriented cluster match formula \n",
    "    weighted_votes += first_term[1]\n",
    "\n",
    "    # interaction terms of the connection oriented cluster match formula \n",
    "    for group in groups:\n",
    "        for other_group in groups:\n",
    "            if group == other_group:\n",
    "                continue\n",
    "\n",
    "            interaction_term1 = math.sqrt(sum(K(agent_i, other_group) / len(group_memberships[agent_i]) for agent_i in group))\n",
    "            interaction_term2 = math.sqrt(sum(K(agent_j, group) / len(group_memberships[agent_j]) for agent_j in other_group))\n",
    "\n",
    "            weighted_votes += interaction_term1 * interaction_term2\n",
    "    \n",
    "    # Transformation from quadratic finance to quadratic voting \n",
    "    sqrt_weighted_votes = math.sqrt(weighted_votes)\n",
    "\n",
    "    return sqrt_weighted_votes"
   ]
  },
  {
   "cell_type": "code",
   "execution_count": 4,
   "metadata": {},
   "outputs": [],
   "source": [
    "# result = connection_oriented_cluster_match(groups, group_memberships)\n",
    "# print(result)"
   ]
  }
 ],
 "metadata": {
  "kernelspec": {
   "display_name": "Python 3",
   "language": "python",
   "name": "python3"
  },
  "language_info": {
   "codemirror_mode": {
    "name": "ipython",
    "version": 3
   },
   "file_extension": ".py",
   "mimetype": "text/x-python",
   "name": "python",
   "nbconvert_exporter": "python",
   "pygments_lexer": "ipython3",
   "version": "3.10.13"
  }
 },
 "nbformat": 4,
 "nbformat_minor": 2
}
