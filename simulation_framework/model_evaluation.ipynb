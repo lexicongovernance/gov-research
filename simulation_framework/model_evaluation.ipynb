{
 "cells": [
  {
   "cell_type": "markdown",
   "metadata": {},
   "source": [
    "## Model Evaluation "
   ]
  },
  {
   "cell_type": "code",
   "execution_count": 81,
   "metadata": {},
   "outputs": [],
   "source": [
    "# import dependencies \n",
    "import math "
   ]
  },
  {
   "cell_type": "code",
   "execution_count": 66,
   "metadata": {},
   "outputs": [],
   "source": [
    "# Define input variables  \n",
    "groups = [[1, 2, 3], [1], [0, 2]] \n",
    "votes = [5, 5, 5, 5]"
   ]
  },
  {
   "cell_type": "code",
   "execution_count": 67,
   "metadata": {},
   "outputs": [],
   "source": [
    "def group_memberships(groups, votes):\n",
    "    \"\"\"\n",
    "    Define group memberships for each participant.\n",
    "    :param: groups (list of lists): a list denotes the group and contains its members. \n",
    "    :param: votes (list): number of participant's votes for a given project proposal.\n",
    "    :returns (list of lists): retunrs a list of group membersips for each participant.  \n",
    "    \"\"\"\n",
    "    # let each entry in votes define a unique identifyer for an agent \n",
    "    group_memberships = [[] for _ in range(len(votes))]\n",
    "\n",
    "    # add group memberships of agent i as a list to each entry identifying an agent \n",
    "    for i in range(len(groups)):\n",
    "        for j in groups[i]:\n",
    "            group_memberships[j].append(i)\n",
    "        \n",
    "    return group_memberships"
   ]
  },
  {
   "cell_type": "code",
   "execution_count": 68,
   "metadata": {},
   "outputs": [
    {
     "name": "stdout",
     "output_type": "stream",
     "text": [
      "[[2], [0, 1], [0, 2], [0]]\n"
     ]
    }
   ],
   "source": [
    "group_memberships = group_memberships(groups, votes)\n",
    "print(group_memberships)"
   ]
  },
  {
   "cell_type": "code",
   "execution_count": 69,
   "metadata": {},
   "outputs": [],
   "source": [
    "def common_group(agent_i, agent_j):\n",
    "    \"\"\"\n",
    "    Define an identifyer indicating whether two participants share any common group. \n",
    "    :param: agent_i denotes a participant not equal to a participant called agent_j. \n",
    "    :param: agent_j denotes a participant not equal to a participant called agent_i.\n",
    "    :returns (bool): returns true if two participants share a common group and false otherwise.  \n",
    "    \"\"\"\n",
    "    common_group = any(group in group_memberships[agent_j] for group in group_memberships[agent_i])\n",
    "\n",
    "    return common_group"
   ]
  },
  {
   "cell_type": "code",
   "execution_count": 70,
   "metadata": {},
   "outputs": [],
   "source": [
    "def K(agent_i, group):\n",
    "    \"\"\"\n",
    "    Define the weighting function that attenuates the votes of agent i given different group memberships.  \n",
    "    :param: agent_i denotes a participant not equal to a participant called agent_j.\n",
    "    :param: (integer): group denotes the group number.\n",
    "    :returns: attenuated number of votes for a given project. \n",
    "    \"\"\"\n",
    "    if agent_i in group or any(common_group(agent_i, j) for j in group):\n",
    "        return math.sqrt(votes[agent_i])\n",
    "    else:\n",
    "        return votes[agent_i]\n"
   ]
  },
  {
   "cell_type": "code",
   "execution_count": 79,
   "metadata": {},
   "outputs": [],
   "source": [
    "def connection_oriented_cluster_match(groups, votes, group_memberships):\n",
    "    \"\"\"\n",
    "    This function calculates the connection-oriented cluster match of votes \n",
    "    for each agent and returns the attenuated sum of votes for a given project proposal.\n",
    "    param: groups (list of lists): a list denotes the group and contains its members.\n",
    "    param: votes (list): number of participant's votes for a given project proposal.\n",
    "    param: group_membership: defines group memberships for each participant.\n",
    "    \"\"\" \n",
    "    weighted_votes = 0\n",
    "\n",
    "    # Calculate the first part of the weighted votes\n",
    "    weighted_votes += sum(votes[agent_i] / len(group_memberships[agent_i]) for group in groups for agent_i in group)\n",
    "\n",
    "    for group in groups:\n",
    "        for other_group in groups:\n",
    "            if group == other_group:\n",
    "                continue\n",
    "\n",
    "            interaction_term1 = math.sqrt(sum(K(agent_i, other_group) / len(group_memberships[agent_i]) for agent_i in group))\n",
    "            interaction_term2 = math.sqrt(sum(K(agent_j, group) / len(group_memberships[agent_j]) for agent_j in other_group))\n",
    "\n",
    "            weighted_votes += interaction_term1 * interaction_term2\n",
    "    \n",
    "    sqrt_weighted_votes = math.sqrt(weighted_votes)\n",
    "\n",
    "    return sqrt_weighted_votes"
   ]
  },
  {
   "cell_type": "code",
   "execution_count": 80,
   "metadata": {},
   "outputs": [
    {
     "name": "stdout",
     "output_type": "stream",
     "text": [
      "6.119546254329342\n"
     ]
    }
   ],
   "source": [
    "result = connection_oriented_cluster_match(groups, votes, group_memberships)\n",
    "print(result)"
   ]
  }
 ],
 "metadata": {
  "kernelspec": {
   "display_name": "Python 3",
   "language": "python",
   "name": "python3"
  },
  "language_info": {
   "codemirror_mode": {
    "name": "ipython",
    "version": 3
   },
   "file_extension": ".py",
   "mimetype": "text/x-python",
   "name": "python",
   "nbconvert_exporter": "python",
   "pygments_lexer": "ipython3",
   "version": "3.10.13"
  }
 },
 "nbformat": 4,
 "nbformat_minor": 2
}
