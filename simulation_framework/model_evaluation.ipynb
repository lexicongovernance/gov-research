{
 "cells": [
  {
   "cell_type": "markdown",
   "metadata": {},
   "source": [
    "## Model Evaluation "
   ]
  },
  {
   "cell_type": "code",
   "execution_count": 696,
   "metadata": {},
   "outputs": [],
   "source": [
    "# import dependencies \n",
    "import math \n",
    "import numpy as np\n",
    "from sklearn.metrics.cluster import rand_score\n",
    "from itertools import combinations"
   ]
  },
  {
   "cell_type": "code",
   "execution_count": 697,
   "metadata": {},
   "outputs": [],
   "source": [
    "# Define input variables  \n",
    "# group_dist = [[0], [1], [2], [3]]\n",
    "# group_dist = [[0, 1], [2, 3]]\n",
    "# group_dist = [[0, 1], [0, 1]] # list must be ordered in ascending order   \n",
    "# vote_dist = [9, 9]\n",
    "# n_agents = 2"
   ]
  },
  {
   "cell_type": "code",
   "execution_count": 698,
   "metadata": {},
   "outputs": [],
   "source": [
    "# vote_dist = [2, 1, 1, 2, 1]\n",
    "# n_agents = 5\n",
    "# group_dist = [[0], [0], [1], [1], [1], [2, 3], [2], [2], [3], [4]] # how it is in the db \n",
    "# group_dist = [[0], [1], [2, 3], [2], [3], [4]] # group dist without duplicates \n",
    "# group_dist = [[0], [1], [2, 3], [4]]"
   ]
  },
  {
   "cell_type": "code",
   "execution_count": 699,
   "metadata": {},
   "outputs": [],
   "source": [
    "# Reduce problem to essence\n",
    "vote_dist = [9, 9]\n",
    "n_agents = 2\n",
    "group_dist = [[0], [1], [0, 1]]\n",
    "# group_dist = [[0], [1], [0, 1], [2], [3]]\n",
    "# group_dist = [[0], [1], [0, 1], [2]]\n",
    "\n",
    "\n",
    "# 4 agents\n",
    "# group_dist = [[0, 1], [2], [3]]\n",
    "# 8 agents (individuals formin an additional group causes problems)\n",
    "# group_dist = [[0, 1], [2], [3], [4], [5], [6], [7]]\n",
    "# group_dist = [[0, 1], [0], [1], [2], [3], [4], [5], [6], [7]]\n",
    "\n"
   ]
  },
  {
   "cell_type": "code",
   "execution_count": 700,
   "metadata": {},
   "outputs": [],
   "source": [
    "# group_1 = 3757c1bd-4d4a-43f6-b53f-b96c769648d8\n",
    "# group_2 = a1d2b5d9-6f74-4066-85eb-23725163c095\n",
    "# group_3 = d5ddf137-f9d4-40ae-8988-633aca3fa8a1\n",
    "# group_4 = b94bc17d-6850-4a6d-843c-a40d225cdf19\n",
    "# group_5 = 606dd3f5-8ad2-41b3-b3be-a9243c2d52d1\n",
    "# group_6 = 71404135-e466-4ded-a9fc-3b643640b124\n",
    "# group_7 = e2a2ba30-22cd-496c-b253-fcc73264d7c7\n",
    "# group_8 = 7aaf320e-e959-40a8-b6c7-874a02d036a2\n",
    "# group_9 = 99760442-e4e0-4b5a-bb9e-f9873c0f8dcf\n",
    "# group_10 = 2d4a0d29-4a70-40e8-9218-a6fa79769778"
   ]
  },
  {
   "cell_type": "code",
   "execution_count": 701,
   "metadata": {},
   "outputs": [],
   "source": [
    "# optionId: \n",
    "# 4ad65252-e651-460c-af6b-289769a3964b\n",
    "\n",
    "# votes:\n",
    "\n",
    "# userId: e71aa119-5e1d-4e2b-a254-0d54a42bed46 votes: 2\n",
    "# userId: 24aa77ce-e416-4170-800c-70fedbfa391d votes: 1\n",
    "# userId: 553c17da-097c-42aa-a70f-ed98430ab8d6 votes: 1\n",
    "# userId: 7a2abb33-534e-4674-8cdd-48b15b48fcc2 votes: 2\n",
    "# userId: becbf23b-3cde-430b-b43a-2dcd6581a99c votes: 1\n",
    "\n",
    "# usersToGroups: \n",
    "\n",
    "# userId: e71aa119-5e1d-4e2b-a254-0d54a42bed46: Groups: [3757c1bd-4d4a-43f6-b53f-b96c769648d8, a1d2b5d9-6f74-4066-85eb-23725163c095] Categories: [0419db52-cda8-4cf2-adb2-a881234ea1f8, b1862f74-458c-4eb8-9445-1ccf9ccd1712]\n",
    "# userId: 24aa77ce-e416-4170-800c-70fedbfa391d Groups: [d5ddf137-f9d4-40ae-8988-633aca3fa8a1, b94bc17d-6850-4a6d-843c-a40d225cdf19, 606dd3f5-8ad2-41b3-b3be-a9243c2d52d1] Categories: [b1862f74-458c-4eb8-9445-1ccf9ccd1712, 0419db52-cda8-4cf2-adb2-a881234ea1f8, b1862f74-458c-4eb8-9445-1ccf9ccd1712]\n",
    "# userId: 553c17da-097c-42aa-a70f-ed98430ab8d6 Groups: [71404135-e466-4ded-a9fc-3b643640b124, e2a2ba30-22cd-496c-b253-fcc73264d7c7, 7aaf320e-e959-40a8-b6c7-874a02d036a2] Categories: [b1862f74-458c-4eb8-9445-1ccf9ccd1712, 0419db52-cda8-4cf2-adb2-a881234ea1f8, b1862f74-458c-4eb8-9445-1ccf9ccd1712]\n",
    "# userId: 7a2abb33-534e-4674-8cdd-48b15b48fcc2 Groups: [71404135-e466-4ded-a9fc-3b643640b124, 99760442-e4e0-4b5a-bb9e-f9873c0f8dcf] Categories: [b1862f74-458c-4eb8-9445-1ccf9ccd1712, 0419db52-cda8-4cf2-adb2-a881234ea1f8]\n",
    "# userId: becbf23b-3cde-430b-b43a-2dcd6581a99c Groups: [2d4a0d29-4a70-40e8-9218-a6fa79769778] Categories:[0419db52-cda8-4cf2-adb2-a881234ea1f8]\n",
    "\n",
    "# vote_score: 6.2663809135532285\n",
    "\n",
    "\n",
    "\n"
   ]
  },
  {
   "cell_type": "code",
   "execution_count": 702,
   "metadata": {},
   "outputs": [],
   "source": [
    "def group_memberships(groups, n_agents):\n",
    "    \"\"\"\n",
    "    Define group memberships for each participant.\n",
    "    :param: groups (list of lists): a list denotes the group and contains its members. \n",
    "    :param: votes (list): number of participant's votes for a given project proposal.\n",
    "    :returns (list of lists): retunrs a list of group membersips for each participant.  \n",
    "    \"\"\"\n",
    "    # let each entry in votes define a unique identifyer for an agent \n",
    "    group_memberships = [[] for _ in range(n_agents)]\n",
    "\n",
    "    # add group memberships of agent i as a list to each entry identifying an agent \n",
    "    for i in range(len(groups)):\n",
    "        for j in groups[i]:\n",
    "            group_memberships[j].append(i)\n",
    "        \n",
    "    return group_memberships"
   ]
  },
  {
   "cell_type": "code",
   "execution_count": 703,
   "metadata": {},
   "outputs": [
    {
     "name": "stdout",
     "output_type": "stream",
     "text": [
      "[[0, 2], [1, 2]]\n"
     ]
    }
   ],
   "source": [
    "result_group_memberships = group_memberships(groups=group_dist, n_agents=n_agents)\n",
    "print(result_group_memberships)"
   ]
  },
  {
   "cell_type": "code",
   "execution_count": 704,
   "metadata": {},
   "outputs": [],
   "source": [
    "def common_group(first_agent, second_agent, memberships_group):\n",
    "    \"\"\"\n",
    "    Define an identifyer indicating whether two participants share the same group or whehter any\n",
    "    other member of the group of the second agent shares a group with the first agent. \n",
    "    :param: agent_i denotes a participant not equal to a participant called agent_j. \n",
    "    :param: agent_j denotes a participant not equal to a participant called agent_i.\n",
    "    :returns (bool): returns true if two participants share a common group and false otherwise.  \n",
    "    \"\"\"\n",
    "    # debug \n",
    "    # print(f\"agent_i: {first_agent}, agent_j: {second_agent}\")\n",
    "    # print(f\"group_memberships[agent_i]: {memberships_group[first_agent]}, type: {type(memberships_group[first_agent])}\")\n",
    "    # print(f\"group_memberships[agent_j]: {memberships_group[second_agent]}, type: {type(memberships_group[second_agent])}\")\n",
    "    \n",
    "    common_group = any(group in memberships_group[second_agent] for group in memberships_group[first_agent])\n",
    "\n",
    "    return common_group"
   ]
  },
  {
   "cell_type": "code",
   "execution_count": 705,
   "metadata": {},
   "outputs": [],
   "source": [
    "# result_commom_group = common_group(0,1, result_group_memberships)\n",
    "# print(result_commom_group)"
   ]
  },
  {
   "cell_type": "code",
   "execution_count": 706,
   "metadata": {},
   "outputs": [],
   "source": [
    "def K(agent_i, group, votes, memberships_group):\n",
    "    \"\"\"\n",
    "    Define the weighting function that attenuates the votes of agent i given different group memberships.  \n",
    "    :param: agent_i denotes a participant not equal to a participant called agent_j.\n",
    "    :param: (integer): group denotes the group number.\n",
    "    :returns: attenuated number of votes for a given project. \n",
    "    \"\"\"\n",
    "    if agent_i in group or any(common_group(agent_i, j, memberships_group) for j in group):\n",
    "        return math.sqrt(votes[agent_i])\n",
    "    else:\n",
    "        return votes[agent_i]\n"
   ]
  },
  {
   "cell_type": "code",
   "execution_count": 707,
   "metadata": {},
   "outputs": [],
   "source": [
    "# result_K = K(0, group_dist[1], vote_dist, result_group_memberships)\n",
    "# print(result_K)"
   ]
  },
  {
   "cell_type": "code",
   "execution_count": 708,
   "metadata": {},
   "outputs": [],
   "source": [
    "def first_term(groups, votes, memberships_group):\n",
    "    \"\"\"\n",
    "    Calculate the first term of the formula for \"connection-oriented cluster match\" by individual and in aggregate.\n",
    "    :param: groups (list of lists): a list denotes the group and contains its members.\n",
    "    :param: votes (list): number of participant's votes for a given project proposal.\n",
    "    :param: group_membership: defines group memberships for each participant.\n",
    "    \"\"\" \n",
    "    weighted_votes_groups = {}\n",
    "    for group_num, group in enumerate(groups):\n",
    "        \n",
    "        weighted_votes_individual = {}\n",
    "        for agent_i in group:\n",
    "\n",
    "            votes_i = votes[agent_i]\n",
    "            num_groups_i = len(memberships_group[agent_i])\n",
    "            vote_weight_i = votes_i/num_groups_i\n",
    "            \n",
    "            agent_key = f\"agent_{agent_i}\"\n",
    "            weighted_votes_individual[agent_key] = {\n",
    "                    'votes': votes_i,\n",
    "                    'num_groups': num_groups_i,\n",
    "                    'vote_weight': vote_weight_i\n",
    "                }\n",
    "\n",
    "        group_key = f\"group_{group_num}\"\n",
    "        weighted_votes_groups[group_key] = weighted_votes_individual \n",
    "    \n",
    "    aggregate_votes_weight = sum(agent_data[\"vote_weight\"] for group_data in weighted_votes_groups.values() for agent_data in group_data.values())\n",
    "    \n",
    "    return weighted_votes_groups, aggregate_votes_weight"
   ]
  },
  {
   "cell_type": "code",
   "execution_count": 709,
   "metadata": {},
   "outputs": [
    {
     "name": "stdout",
     "output_type": "stream",
     "text": [
      "{'group_0': {'agent_0': {'votes': 9, 'num_groups': 2, 'vote_weight': 4.5}}, 'group_1': {'agent_1': {'votes': 9, 'num_groups': 2, 'vote_weight': 4.5}}, 'group_2': {'agent_0': {'votes': 9, 'num_groups': 2, 'vote_weight': 4.5}, 'agent_1': {'votes': 9, 'num_groups': 2, 'vote_weight': 4.5}}}\n",
      "18.0\n"
     ]
    }
   ],
   "source": [
    "result_groups, result_aggregate_weight = first_term(group_dist, vote_dist, result_group_memberships)\n",
    "print(result_groups)\n",
    "print(result_aggregate_weight)"
   ]
  },
  {
   "cell_type": "code",
   "execution_count": 710,
   "metadata": {},
   "outputs": [],
   "source": [
    "def interaction_terms(groups, memberships_group, votes):\n",
    "    \"\"\"\n",
    "    Calculate the interaction terms of the formula for \"connection-oriented cluster match\" by individual and in aggregate.\n",
    "    :param: groups (list of lists): a list denotes the group and contains its members.\n",
    "    :param: votes (list): number of participant's votes for a given project proposal.\n",
    "    :param: group_membership: defines group memberships for each participant.\n",
    "    \"\"\" \n",
    "    interaction_terms_individual = {}\n",
    "    for group_num, group in enumerate(groups):\n",
    "        interaction_terms_group = {}\n",
    "\n",
    "        for other_group_num, other_group in enumerate(groups):\n",
    "            if group_num == other_group_num: # index comparision allows to compare groups that have the same composition of participants \n",
    "                continue\n",
    "            \n",
    "            result_agent_i = {} \n",
    "            for agent_i in group: \n",
    "                vote_attenuation_i = K(agent_i, other_group, votes, memberships_group) \n",
    "                num_groups_i = len(memberships_group[agent_i])\n",
    "                vote_weight_i = vote_attenuation_i/num_groups_i\n",
    "\n",
    "                agent_i_key = f\"agent_i_{agent_i}\"\n",
    "                result_agent_i[agent_i_key] = {\n",
    "                    'vote_attenuation_i': vote_attenuation_i,\n",
    "                    'num_groups_i': num_groups_i,\n",
    "                    'vote_weight_i': vote_weight_i\n",
    "                }\n",
    "                \n",
    "            result_agent_j = {} \n",
    "            for agent_j in other_group:\n",
    "                vote_attenuation_j = K(agent_j, group, votes, memberships_group)\n",
    "                num_groups_j = len(memberships_group[agent_j])\n",
    "                vote_weight_j = vote_attenuation_j/num_groups_j\n",
    "\n",
    "                agent_j_key = f\"agent_j_{agent_j}\"\n",
    "                result_agent_j[agent_j_key] = {\n",
    "                    'vote_attenuation_j': vote_attenuation_j,\n",
    "                    'num_groups_j': num_groups_j,\n",
    "                    'vote_weight_j': vote_weight_j\n",
    "                }\n",
    "\n",
    "            # Caluclation of individual internaction terms \n",
    "            sum_vote_weight_i = sum(value['vote_weight_i'] for value in result_agent_i.values())\n",
    "            sum_vote_weight_j = sum(value['vote_weight_j'] for value in result_agent_j.values()) \n",
    "            sqrt_sum_vote_weight_i = math.sqrt(sum_vote_weight_i)\n",
    "            sqrt_sum_vote_weight_j = math.sqrt(sum_vote_weight_j)\n",
    "\n",
    "            #interaction_term1 = math.sqrt(sum(K(agent_i, other_group) / len(group_memberships[agent_i]) for agent_i in group))\n",
    "            #interaction_term2 = math.sqrt(sum(K(agent_j, group) / len(group_memberships[agent_j]) for agent_j in other_group))\n",
    "\n",
    "            other_group_key = f\"other_group_{other_group_num}\"\n",
    "            interaction_terms_group[other_group_key] = {\n",
    "                'components_int_term1': result_agent_i,\n",
    "                'components_int_term2': result_agent_j,\n",
    "                'sum_vote_weight_i': sum_vote_weight_i,\n",
    "                'sqrt_sum_vote_weight_i': sqrt_sum_vote_weight_i,\n",
    "                'sum_vote_weight_j': sum_vote_weight_j,\n",
    "                'sqrt_sum_vote_weight_j': sqrt_sum_vote_weight_j,\n",
    "                'multiplied_interaction': sqrt_sum_vote_weight_i*sqrt_sum_vote_weight_j \n",
    "            }\n",
    "\n",
    "        group_key = f\"group_{group_num}\"\n",
    "        interaction_terms_individual[group_key] = interaction_terms_group\n",
    "    \n",
    "    aggregated_interaction_terms = sum(value['multiplied_interaction'] for group_data in interaction_terms_individual.values() for value in group_data.values())\n",
    "    \n",
    "    return interaction_terms_individual, aggregated_interaction_terms"
   ]
  },
  {
   "cell_type": "code",
   "execution_count": 711,
   "metadata": {},
   "outputs": [
    {
     "name": "stdout",
     "output_type": "stream",
     "text": [
      "{'group_0': {'other_group_1': {'components_int_term1': {'agent_i_0': {'vote_attenuation_i': 3.0, 'num_groups_i': 2, 'vote_weight_i': 1.5}}, 'components_int_term2': {'agent_j_1': {'vote_attenuation_j': 3.0, 'num_groups_j': 2, 'vote_weight_j': 1.5}}, 'sum_vote_weight_i': 1.5, 'sqrt_sum_vote_weight_i': 1.224744871391589, 'sum_vote_weight_j': 1.5, 'sqrt_sum_vote_weight_j': 1.224744871391589, 'multiplied_interaction': 1.4999999999999998}, 'other_group_2': {'components_int_term1': {'agent_i_0': {'vote_attenuation_i': 3.0, 'num_groups_i': 2, 'vote_weight_i': 1.5}}, 'components_int_term2': {'agent_j_0': {'vote_attenuation_j': 3.0, 'num_groups_j': 2, 'vote_weight_j': 1.5}, 'agent_j_1': {'vote_attenuation_j': 3.0, 'num_groups_j': 2, 'vote_weight_j': 1.5}}, 'sum_vote_weight_i': 1.5, 'sqrt_sum_vote_weight_i': 1.224744871391589, 'sum_vote_weight_j': 3.0, 'sqrt_sum_vote_weight_j': 1.7320508075688772, 'multiplied_interaction': 2.1213203435596424}}, 'group_1': {'other_group_0': {'components_int_term1': {'agent_i_1': {'vote_attenuation_i': 3.0, 'num_groups_i': 2, 'vote_weight_i': 1.5}}, 'components_int_term2': {'agent_j_0': {'vote_attenuation_j': 3.0, 'num_groups_j': 2, 'vote_weight_j': 1.5}}, 'sum_vote_weight_i': 1.5, 'sqrt_sum_vote_weight_i': 1.224744871391589, 'sum_vote_weight_j': 1.5, 'sqrt_sum_vote_weight_j': 1.224744871391589, 'multiplied_interaction': 1.4999999999999998}, 'other_group_2': {'components_int_term1': {'agent_i_1': {'vote_attenuation_i': 3.0, 'num_groups_i': 2, 'vote_weight_i': 1.5}}, 'components_int_term2': {'agent_j_0': {'vote_attenuation_j': 3.0, 'num_groups_j': 2, 'vote_weight_j': 1.5}, 'agent_j_1': {'vote_attenuation_j': 3.0, 'num_groups_j': 2, 'vote_weight_j': 1.5}}, 'sum_vote_weight_i': 1.5, 'sqrt_sum_vote_weight_i': 1.224744871391589, 'sum_vote_weight_j': 3.0, 'sqrt_sum_vote_weight_j': 1.7320508075688772, 'multiplied_interaction': 2.1213203435596424}}, 'group_2': {'other_group_0': {'components_int_term1': {'agent_i_0': {'vote_attenuation_i': 3.0, 'num_groups_i': 2, 'vote_weight_i': 1.5}, 'agent_i_1': {'vote_attenuation_i': 3.0, 'num_groups_i': 2, 'vote_weight_i': 1.5}}, 'components_int_term2': {'agent_j_0': {'vote_attenuation_j': 3.0, 'num_groups_j': 2, 'vote_weight_j': 1.5}}, 'sum_vote_weight_i': 3.0, 'sqrt_sum_vote_weight_i': 1.7320508075688772, 'sum_vote_weight_j': 1.5, 'sqrt_sum_vote_weight_j': 1.224744871391589, 'multiplied_interaction': 2.1213203435596424}, 'other_group_1': {'components_int_term1': {'agent_i_0': {'vote_attenuation_i': 3.0, 'num_groups_i': 2, 'vote_weight_i': 1.5}, 'agent_i_1': {'vote_attenuation_i': 3.0, 'num_groups_i': 2, 'vote_weight_i': 1.5}}, 'components_int_term2': {'agent_j_1': {'vote_attenuation_j': 3.0, 'num_groups_j': 2, 'vote_weight_j': 1.5}}, 'sum_vote_weight_i': 3.0, 'sqrt_sum_vote_weight_i': 1.7320508075688772, 'sum_vote_weight_j': 1.5, 'sqrt_sum_vote_weight_j': 1.224744871391589, 'multiplied_interaction': 2.1213203435596424}}}\n",
      "11.485281374238568\n"
     ]
    }
   ],
   "source": [
    "result_individual, result_aggregated = interaction_terms(group_dist, result_group_memberships, vote_dist)\n",
    "print(result_individual)\n",
    "print(result_aggregated)"
   ]
  },
  {
   "cell_type": "code",
   "execution_count": 712,
   "metadata": {},
   "outputs": [],
   "source": [
    "def interaction_terms_new(groups, memberships_group, votes):\n",
    "    \"\"\"\n",
    "    Calculate the interaction terms of the formula for \"connection-oriented cluster match\" by individual and in aggregate.\n",
    "    :param: groups (list of lists): a list denotes the group and contains its members.\n",
    "    :param: votes (list): number of participant's votes for a given project proposal.\n",
    "    :param: group_membership: defines group memberships for each participant.\n",
    "    \"\"\" \n",
    "    interaction_terms_individual = {}\n",
    "    for group in groups:\n",
    "        interaction_terms_group = {}\n",
    "\n",
    "        for other_group in groups:\n",
    "            if group == other_group: \n",
    "                continue\n",
    "            \n",
    "            result_agent_i = {} \n",
    "            for agent_i in group: \n",
    "                vote_attenuation_i = K(agent_i, other_group, votes, memberships_group) \n",
    "                num_groups_i = len(memberships_group[agent_i])\n",
    "                vote_weight_i = vote_attenuation_i/num_groups_i\n",
    "\n",
    "                agent_i_key = f\"agent_i_{agent_i}\"\n",
    "                result_agent_i[agent_i_key] = {\n",
    "                    'vote_attenuation_i': vote_attenuation_i,\n",
    "                    'num_groups_i': num_groups_i,\n",
    "                    'vote_weight_i': vote_weight_i\n",
    "                }\n",
    "                \n",
    "            result_agent_j = {} \n",
    "            for agent_j in other_group:\n",
    "                vote_attenuation_j = K(agent_j, group, votes, memberships_group)\n",
    "                num_groups_j = len(memberships_group[agent_j])\n",
    "                vote_weight_j = vote_attenuation_j/num_groups_j\n",
    "\n",
    "                agent_j_key = f\"agent_j_{agent_j}\"\n",
    "                result_agent_j[agent_j_key] = {\n",
    "                    'vote_attenuation_j': vote_attenuation_j,\n",
    "                    'num_groups_j': num_groups_j,\n",
    "                    'vote_weight_j': vote_weight_j\n",
    "                }\n",
    "\n",
    "            # Caluclation of individual internaction terms \n",
    "            sum_vote_weight_i = sum(value['vote_weight_i'] for value in result_agent_i.values())\n",
    "            sum_vote_weight_j = sum(value['vote_weight_j'] for value in result_agent_j.values()) \n",
    "            sqrt_sum_vote_weight_i = math.sqrt(sum_vote_weight_i)\n",
    "            sqrt_sum_vote_weight_j = math.sqrt(sum_vote_weight_j)\n",
    "\n",
    "            #interaction_term1 = math.sqrt(sum(K(agent_i, other_group) / len(group_memberships[agent_i]) for agent_i in group))\n",
    "            #interaction_term2 = math.sqrt(sum(K(agent_j, group) / len(group_memberships[agent_j]) for agent_j in other_group))\n",
    "\n",
    "            other_group_key = f\"other_group_{other_group}\"\n",
    "            interaction_terms_group[other_group_key] = {\n",
    "                'components_int_term1': result_agent_i,\n",
    "                'components_int_term2': result_agent_j,\n",
    "                'sum_vote_weight_i': sum_vote_weight_i,\n",
    "                'sqrt_sum_vote_weight_i': sqrt_sum_vote_weight_i,\n",
    "                'sum_vote_weight_j': sum_vote_weight_j,\n",
    "                'sqrt_sum_vote_weight_j': sqrt_sum_vote_weight_j,\n",
    "                'multiplied_interaction': sqrt_sum_vote_weight_i*sqrt_sum_vote_weight_j \n",
    "            }\n",
    "\n",
    "        group_key = f\"group_{group}\"\n",
    "        interaction_terms_individual[group_key] = interaction_terms_group\n",
    "    \n",
    "    aggregated_interaction_terms = sum(value['multiplied_interaction'] for group_data in interaction_terms_individual.values() for value in group_data.values())\n",
    "    \n",
    "    return interaction_terms_individual, aggregated_interaction_terms"
   ]
  },
  {
   "cell_type": "code",
   "execution_count": 713,
   "metadata": {},
   "outputs": [],
   "source": [
    "result_individual_new, result_aggregated_new = interaction_terms_new(group_dist, result_group_memberships, vote_dist)\n",
    "# print(result_individual_new)\n",
    "# print(result_aggregated_new)"
   ]
  },
  {
   "cell_type": "code",
   "execution_count": 714,
   "metadata": {},
   "outputs": [],
   "source": [
    "def connection_oriented_cluster_match(term_1, interaction_terms):\n",
    "    \"\"\"\n",
    "    This function calculates the overall plurality score of a project by \n",
    "    transforming the quadratic finance formula to quadratic voting \n",
    "    \"\"\"\n",
    "    weighted_proposal_votes = term_1 + interaction_terms \n",
    "    sqrt_weighted_proposal_votes = math.sqrt(weighted_proposal_votes)\n",
    "\n",
    "    return sqrt_weighted_proposal_votes\n",
    "    "
   ]
  },
  {
   "cell_type": "code",
   "execution_count": 715,
   "metadata": {},
   "outputs": [
    {
     "name": "stdout",
     "output_type": "stream",
     "text": [
      "5.430035117219646\n"
     ]
    }
   ],
   "source": [
    "plurality_score = connection_oriented_cluster_match(result_aggregate_weight, result_aggregated)\n",
    "print(plurality_score)"
   ]
  },
  {
   "cell_type": "markdown",
   "metadata": {},
   "source": [
    "### Quadratic Voting "
   ]
  },
  {
   "cell_type": "code",
   "execution_count": 716,
   "metadata": {},
   "outputs": [],
   "source": [
    "def quadratic_voting(votes): \n",
    "    \"\"\"\n",
    "    :param: vote_dist (list): number of participant's votes for a given project proposal.\n",
    "    :returns (dict): a dictionary containing quadratic votes for each agent i and the sum of quadratic vote.  \n",
    "    \"\"\"\n",
    "    quadratic_votes_dict = {}\n",
    "    for agent_i in range(len(votes)):\n",
    "        quadratic_votes_angent_i = math.sqrt(votes[agent_i])\n",
    "        quadratic_votes_dict[agent_i] = quadratic_votes_angent_i\n",
    "\n",
    "    sum_quadratic_votes = sum(quadratic_votes_dict.values())\n",
    "    \n",
    "    return quadratic_votes_dict, sum_quadratic_votes"
   ]
  },
  {
   "cell_type": "code",
   "execution_count": 717,
   "metadata": {},
   "outputs": [
    {
     "name": "stdout",
     "output_type": "stream",
     "text": [
      "{0: 3.0, 1: 3.0}\n",
      "6.0\n"
     ]
    }
   ],
   "source": [
    "result_quadratic_voting, result_sum_quadratic_votes = quadratic_voting(vote_dist)\n",
    "print(result_quadratic_voting)\n",
    "print(result_sum_quadratic_votes)"
   ]
  },
  {
   "cell_type": "markdown",
   "metadata": {},
   "source": [
    "### Rand Index "
   ]
  },
  {
   "cell_type": "code",
   "execution_count": 718,
   "metadata": {},
   "outputs": [],
   "source": [
    "def rand_index(partitions):\n",
    "    \"\"\"\n",
    "    Compute the Rand Index for a set of partitions.\n",
    "    :param partitions: List of lists, where each list represents a partition.\n",
    "    :return: Rand Index value.\n",
    "    \"\"\"\n",
    "    true_labels = []\n",
    "    all_labels = []\n",
    "\n",
    "    for i, partition in enumerate(partitions):\n",
    "        for group in partition:\n",
    "            if isinstance(group, list):\n",
    "                true_labels.extend([i] * len(group))\n",
    "                all_labels.extend(group)\n",
    "            else: # handle groups of size 1 \n",
    "                true_labels.extend([i] * 1)  \n",
    "                all_labels.extend([group])\n",
    "\n",
    "    return rand_score(true_labels, all_labels)"
   ]
  },
  {
   "cell_type": "markdown",
   "metadata": {},
   "source": [
    "### Jaccard Index "
   ]
  },
  {
   "cell_type": "code",
   "execution_count": 719,
   "metadata": {},
   "outputs": [],
   "source": [
    "def jaccard_similarity(set1, set2):\n",
    "    \"\"\"\n",
    "    Compute the Jaccard similarity between two sets.\n",
    "    :param set1: First set.\n",
    "    :param set2: Second set.\n",
    "    :return: Jaccard similarity value.\n",
    "    \"\"\"\n",
    "    intersection = len(set1.intersection(set2))\n",
    "    union = len(set1.union(set2))\n",
    "    return intersection / union if union != 0 else 0.0\n",
    "\n",
    "def pairwise_jaccard_similarity(groups):\n",
    "    \"\"\"\n",
    "    Compute the pairwise Jaccard similarity between multiple sets.\n",
    "    :param sets: List of sets.\n",
    "    :return: Pairwise Jaccard similarity matrix.\n",
    "    \"\"\"\n",
    "    sets = [set(i) for i in groups]\n",
    "    n_sets = len(sets)\n",
    "    \n",
    "    # Create a matrix to store pairwise Jaccard similarity values\n",
    "    jaccard_matrix = [[0.0] * n_sets for _ in range(n_sets)]\n",
    "    \n",
    "    # Compute pairwise Jaccard similarity\n",
    "    for i, j in combinations(range(n_sets), 2):\n",
    "        jaccard = jaccard_similarity(sets[i], sets[j])\n",
    "        jaccard_matrix[i][j] = jaccard\n",
    "        jaccard_matrix[j][i] = jaccard\n",
    "    \n",
    "    return jaccard_matrix\n",
    "\n",
    "def global_jaccard_similarity(pairwise_matrix):\n",
    "    \"\"\"\n",
    "    Compute a global Jaccard similarity measure from a pairwise Jaccard similarity matrix.\n",
    "    :param pairwise_matrix: Pairwise Jaccard similarity matrix.\n",
    "    :return: Global Jaccard similarity value.\n",
    "    \"\"\"\n",
    "    # Convert the pairwise matrix to a numpy array for easier manipulation\n",
    "    np_matrix = np.array(pairwise_matrix)\n",
    "\n",
    "    # Exclude diagonal elements\n",
    "    np.fill_diagonal(np_matrix, np.nan)\n",
    "\n",
    "    # Compute the average Jaccard similarity excluding diagonal elements\n",
    "    average_similarity = np.nanmean(np_matrix)\n",
    "\n",
    "    return average_similarity"
   ]
  },
  {
   "cell_type": "markdown",
   "metadata": {},
   "source": [
    "### Example Distributions"
   ]
  },
  {
   "cell_type": "code",
   "execution_count": 720,
   "metadata": {},
   "outputs": [],
   "source": [
    "# group_dist_max_simiarity = [[0, 1, 2, 3], [0, 1, 2, 3], [0, 1, 2, 3], [0, 1, 2, 3]]\n",
    "# group_dist_min_simiarity = [[0], [1], [2], [3]]\n",
    "# group_dist_median_simiarity = [[0, 1], [0, 2, 3], [1, 2], [3]]"
   ]
  },
  {
   "cell_type": "code",
   "execution_count": 721,
   "metadata": {},
   "outputs": [],
   "source": [
    "# Rand index \n",
    "# result_rand_index = rand_index(group_dist_max_simiarity)\n",
    "# print(\"Rand Index:\", result_rand_index)"
   ]
  },
  {
   "cell_type": "code",
   "execution_count": 722,
   "metadata": {},
   "outputs": [],
   "source": [
    "# Jaccard Index \n",
    "# pairwise_jaccard_matrix = pairwise_jaccard_similarity(group_dist_median_simiarity)\n",
    "# print(\"Pairwise Jaccard Similarity Matrix:\")\n",
    "# for row in pairwise_jaccard_matrix:\n",
    "#     print(row)\n",
    "\n",
    "# global_similarity = global_jaccard_similarity(pairwise_jaccard_matrix)\n",
    "# print(\"Global Jaccard Similarity:\", global_similarity)"
   ]
  },
  {
   "cell_type": "code",
   "execution_count": 723,
   "metadata": {},
   "outputs": [],
   "source": [
    "def connection_oriented_cluster_match_joel(groups, contributions):\n",
    "    # groups: a 2d array. groups[i] is a list of people in group i (assume every person has an index).\n",
    "    # contributions: an array. contributions[i] is the amount agent i contributed to a project.\n",
    "\n",
    "    agents = list(range(len(contributions)))\n",
    "\n",
    "    if any(contributions[i] < 0 for i in agents):\n",
    "        raise NotImplementedError(\"negative contributions not supported\")\n",
    "\n",
    "    # memberships[i] is the number of groups agent i is in\n",
    "    memberships = [len([g for g in groups if i in g]) for i in agents]\n",
    "\n",
    "    # friend_matrix[i][j] is the number of groups that agent i and j are both in\n",
    "    friend_matrix = [[len([g for g in groups if i in g and j in g])  for i in agents] for j in agents]\n",
    "\n",
    "    # build up the funding amount. First, add in everyone's contributions\n",
    "    funding_amount = sum(contributions)\n",
    "\n",
    "    def K(i, h):\n",
    "        if sum([friend_matrix[i][j] for j in h]) > 0:\n",
    "            return math.sqrt(contributions[i])\n",
    "        return contributions[i]\n",
    "\n",
    "    funding_amount += sum(2 * math.sqrt(sum(K(i,p[1])/memberships[i] for i in p[0])) * math.sqrt(sum(K(j,p[0])/memberships[j] for j in p[1])) for p in combinations(groups, 2))\n",
    "    \n",
    "    return funding_amount"
   ]
  },
  {
   "cell_type": "code",
   "execution_count": 724,
   "metadata": {},
   "outputs": [
    {
     "name": "stdout",
     "output_type": "stream",
     "text": [
      "5.430035117219646\n"
     ]
    }
   ],
   "source": [
    "result = connection_oriented_cluster_match_joel(group_dist, vote_dist)\n",
    "result_sqrt = math.sqrt(result)\n",
    "print(result_sqrt)"
   ]
  }
 ],
 "metadata": {
  "kernelspec": {
   "display_name": "Python 3",
   "language": "python",
   "name": "python3"
  },
  "language_info": {
   "codemirror_mode": {
    "name": "ipython",
    "version": 3
   },
   "file_extension": ".py",
   "mimetype": "text/x-python",
   "name": "python",
   "nbconvert_exporter": "python",
   "pygments_lexer": "ipython3",
   "version": "3.10.13"
  }
 },
 "nbformat": 4,
 "nbformat_minor": 2
}
