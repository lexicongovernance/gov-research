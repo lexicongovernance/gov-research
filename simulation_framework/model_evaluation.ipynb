{
 "cells": [
  {
   "cell_type": "markdown",
   "metadata": {},
   "source": [
    "## Model Evaluation "
   ]
  },
  {
   "cell_type": "code",
   "execution_count": 26,
   "metadata": {},
   "outputs": [],
   "source": [
    "# import dependencies \n",
    "import math "
   ]
  },
  {
   "cell_type": "code",
   "execution_count": 1,
   "metadata": {},
   "outputs": [],
   "source": [
    "# Define input variables  \n",
    "groups = [[1, 2, 3], [1], [0, 2]] \n",
    "votes = [5, 5, 5, 5]"
   ]
  },
  {
   "cell_type": "code",
   "execution_count": 2,
   "metadata": {},
   "outputs": [],
   "source": [
    "# Calculate group membership \n",
    "def group_memberships(groups, votes):\n",
    "    \"\"\"\n",
    "    Define group memberships for each participant\n",
    "    :groups (list of lists): a list denotes the group and contains its members \n",
    "    :votes (list): number of participant's votes for a given project \n",
    "    :returns (list of lists): retunrs a list of group membersips for each participant  \n",
    "    \"\"\"\n",
    "    group_memberships = [[] for _ in range(len(votes))]\n",
    "\n",
    "    for i in range(len(groups)):\n",
    "        for j in groups[i]:\n",
    "            group_memberships[j].append(i)\n",
    "        \n",
    "    return group_memberships"
   ]
  },
  {
   "cell_type": "code",
   "execution_count": 3,
   "metadata": {},
   "outputs": [
    {
     "name": "stdout",
     "output_type": "stream",
     "text": [
      "[[2], [0, 1], [0, 2], [0]]\n"
     ]
    }
   ],
   "source": [
    "print(group_memberships(groups, votes))"
   ]
  },
  {
   "cell_type": "code",
   "execution_count": null,
   "metadata": {},
   "outputs": [],
   "source": [
    "def common_group(i, j):\n",
    "    \"\"\"\n",
    "    Define an identifyer indicating whether two participants share any common group. \n",
    "    param: i denotes a voter not equal to a voter j \n",
    "    :param: j denotes a voter not equal to a voter i\n",
    "    :returns (bool): returns true if two participants share a common group and false otherwise.  \n",
    "    \"\"\"\n",
    "    common_group = any(group in group_memberships[j] for group in group_memberships[i])\n",
    "\n",
    "    return common_group"
   ]
  },
  {
   "cell_type": "code",
   "execution_count": 19,
   "metadata": {},
   "outputs": [],
   "source": [
    "def cluster_match(groups, contributions):\n",
    "    \"\"\"\n",
    "    groups: bag of groups (list of lists of integers)\n",
    "    contributions: list of contributions (floats)\n",
    "    group_memberships: list of sets (lists of lists) where\n",
    "                        group_memberships[i] is the groups agent i belongs to\n",
    "    \"\"\"\n",
    "    group_memberships = [[] for _ in range(len(contributions))]\n",
    "\n",
    "    for i in range(len(groups)):\n",
    "        for j in groups[i]:\n",
    "            group_memberships[j].append(i)\n",
    "\n",
    "    def common_group(i, j):\n",
    "        \"\"\"\n",
    "        If voter i and voter j share any common group, return true. Else return false.\n",
    "        \"\"\"\n",
    "        return any(group in group_memberships[j] for group in group_memberships[i])\n",
    "\n",
    "    def K(i, group):\n",
    "        \"\"\"\n",
    "        If group includes voter i, or any member of group shares a different group with voter i\n",
    "        \"\"\"\n",
    "        if i in group or any(common_group(i, j) for j in group):\n",
    "            return math.sqrt(contributions[i])\n",
    "        return contributions[i]\n",
    "\n",
    "    result = 0\n",
    "\n",
    "    for g in groups:\n",
    "        for i in g:\n",
    "            result += contributions[i] / len(group_memberships[i])\n",
    "\n",
    "    for g in groups:\n",
    "        for h in groups:\n",
    "            if g == h:\n",
    "                continue\n",
    "\n",
    "            term1 = sum(K(i, h) / len(group_memberships[i]) for i in g)\n",
    "            term1 = math.sqrt(term1)\n",
    "\n",
    "            term2 = sum(K(j, g) / len(group_memberships[j]) for j in h)\n",
    "            term2 = math.sqrt(term2)\n",
    "\n",
    "            result += term1 * term2\n",
    "\n",
    "    return math.sqrt(result)"
   ]
  },
  {
   "cell_type": "code",
   "execution_count": 20,
   "metadata": {},
   "outputs": [
    {
     "name": "stdout",
     "output_type": "stream",
     "text": [
      "6.119546254329342\n"
     ]
    }
   ],
   "source": [
    "result = cluster_match(groups, contributions) \n",
    "print(result)"
   ]
  },
  {
   "cell_type": "markdown",
   "metadata": {},
   "source": []
  }
 ],
 "metadata": {
  "kernelspec": {
   "display_name": "Python 3",
   "language": "python",
   "name": "python3"
  },
  "language_info": {
   "codemirror_mode": {
    "name": "ipython",
    "version": 3
   },
   "file_extension": ".py",
   "mimetype": "text/x-python",
   "name": "python",
   "nbconvert_exporter": "python",
   "pygments_lexer": "ipython3",
   "version": "3.10.13"
  }
 },
 "nbformat": 4,
 "nbformat_minor": 2
}
