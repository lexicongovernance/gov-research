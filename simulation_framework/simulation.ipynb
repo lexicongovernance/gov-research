{
 "cells": [
  {
   "cell_type": "markdown",
   "metadata": {},
   "source": [
    "## Simulation Framework "
   ]
  },
  {
   "cell_type": "code",
   "execution_count": 1,
   "metadata": {},
   "outputs": [
    {
     "name": "stdout",
     "output_type": "stream",
     "text": [
      "importing Jupyter notebook from model_evaluation.ipynb\n"
     ]
    }
   ],
   "source": [
    "import import_ipynb\n",
    "import math \n",
    "import importlib\n",
    "\n",
    "# import functions from model_evaluation.ipynb  \n",
    "import model_evaluation "
   ]
  },
  {
   "cell_type": "code",
   "execution_count": 2,
   "metadata": {},
   "outputs": [],
   "source": [
    "# Define input variables  \n",
    "group_dist = [[0], [1], [2], [3]] \n",
    "vote_dist = [5, 5, 5, 5]"
   ]
  },
  {
   "cell_type": "code",
   "execution_count": 3,
   "metadata": {},
   "outputs": [
    {
     "name": "stdout",
     "output_type": "stream",
     "text": [
      "[[0], [1], [2], [3]]\n"
     ]
    }
   ],
   "source": [
    "# Assuming this is the correct function signature\n",
    "result_group_memberships = model_evaluation.group_memberships(group_dist, vote_dist)\n",
    "print(result_group_memberships)"
   ]
  },
  {
   "cell_type": "code",
   "execution_count": 4,
   "metadata": {},
   "outputs": [
    {
     "name": "stdout",
     "output_type": "stream",
     "text": [
      "{'group_0': {'agent_0': {'votes': 5, 'num_groups': 1, 'vote_weight': 5.0}}, 'group_1': {'agent_1': {'votes': 5, 'num_groups': 1, 'vote_weight': 5.0}}, 'group_2': {'agent_2': {'votes': 5, 'num_groups': 1, 'vote_weight': 5.0}}, 'group_3': {'agent_3': {'votes': 5, 'num_groups': 1, 'vote_weight': 5.0}}}\n",
      "20.0\n"
     ]
    }
   ],
   "source": [
    "result_groups, result_aggregate_weight = model_evaluation.first_term(group_dist, vote_dist, result_group_memberships)\n",
    "print(result_groups)\n",
    "print(result_aggregate_weight)"
   ]
  },
  {
   "cell_type": "code",
   "execution_count": 5,
   "metadata": {},
   "outputs": [
    {
     "name": "stdout",
     "output_type": "stream",
     "text": [
      "{'group_0': {'other_group_1': {'components_int_term1': {'agent_i_0': {'vote_attenuation_i': 5, 'num_groups_i': 1, 'vote_weight_i': 5.0}}, 'components_int_term2': {'agent_j_1': {'vote_attenuation_j': 5, 'num_groups_j': 1, 'vote_weight_j': 5.0}}, 'sum_vote_weight_i': 5.0, 'sqrt_sum_vote_weight_i': 2.23606797749979, 'sum_vote_weight_j': 5.0, 'sqrt_sum_vote_weight_j': 2.23606797749979, 'multiplied_interaction': 5.000000000000001}, 'other_group_2': {'components_int_term1': {'agent_i_0': {'vote_attenuation_i': 5, 'num_groups_i': 1, 'vote_weight_i': 5.0}}, 'components_int_term2': {'agent_j_2': {'vote_attenuation_j': 5, 'num_groups_j': 1, 'vote_weight_j': 5.0}}, 'sum_vote_weight_i': 5.0, 'sqrt_sum_vote_weight_i': 2.23606797749979, 'sum_vote_weight_j': 5.0, 'sqrt_sum_vote_weight_j': 2.23606797749979, 'multiplied_interaction': 5.000000000000001}, 'other_group_3': {'components_int_term1': {'agent_i_0': {'vote_attenuation_i': 5, 'num_groups_i': 1, 'vote_weight_i': 5.0}}, 'components_int_term2': {'agent_j_3': {'vote_attenuation_j': 5, 'num_groups_j': 1, 'vote_weight_j': 5.0}}, 'sum_vote_weight_i': 5.0, 'sqrt_sum_vote_weight_i': 2.23606797749979, 'sum_vote_weight_j': 5.0, 'sqrt_sum_vote_weight_j': 2.23606797749979, 'multiplied_interaction': 5.000000000000001}}, 'group_1': {'other_group_0': {'components_int_term1': {'agent_i_1': {'vote_attenuation_i': 5, 'num_groups_i': 1, 'vote_weight_i': 5.0}}, 'components_int_term2': {'agent_j_0': {'vote_attenuation_j': 5, 'num_groups_j': 1, 'vote_weight_j': 5.0}}, 'sum_vote_weight_i': 5.0, 'sqrt_sum_vote_weight_i': 2.23606797749979, 'sum_vote_weight_j': 5.0, 'sqrt_sum_vote_weight_j': 2.23606797749979, 'multiplied_interaction': 5.000000000000001}, 'other_group_2': {'components_int_term1': {'agent_i_1': {'vote_attenuation_i': 5, 'num_groups_i': 1, 'vote_weight_i': 5.0}}, 'components_int_term2': {'agent_j_2': {'vote_attenuation_j': 5, 'num_groups_j': 1, 'vote_weight_j': 5.0}}, 'sum_vote_weight_i': 5.0, 'sqrt_sum_vote_weight_i': 2.23606797749979, 'sum_vote_weight_j': 5.0, 'sqrt_sum_vote_weight_j': 2.23606797749979, 'multiplied_interaction': 5.000000000000001}, 'other_group_3': {'components_int_term1': {'agent_i_1': {'vote_attenuation_i': 5, 'num_groups_i': 1, 'vote_weight_i': 5.0}}, 'components_int_term2': {'agent_j_3': {'vote_attenuation_j': 5, 'num_groups_j': 1, 'vote_weight_j': 5.0}}, 'sum_vote_weight_i': 5.0, 'sqrt_sum_vote_weight_i': 2.23606797749979, 'sum_vote_weight_j': 5.0, 'sqrt_sum_vote_weight_j': 2.23606797749979, 'multiplied_interaction': 5.000000000000001}}, 'group_2': {'other_group_0': {'components_int_term1': {'agent_i_2': {'vote_attenuation_i': 5, 'num_groups_i': 1, 'vote_weight_i': 5.0}}, 'components_int_term2': {'agent_j_0': {'vote_attenuation_j': 5, 'num_groups_j': 1, 'vote_weight_j': 5.0}}, 'sum_vote_weight_i': 5.0, 'sqrt_sum_vote_weight_i': 2.23606797749979, 'sum_vote_weight_j': 5.0, 'sqrt_sum_vote_weight_j': 2.23606797749979, 'multiplied_interaction': 5.000000000000001}, 'other_group_1': {'components_int_term1': {'agent_i_2': {'vote_attenuation_i': 5, 'num_groups_i': 1, 'vote_weight_i': 5.0}}, 'components_int_term2': {'agent_j_1': {'vote_attenuation_j': 5, 'num_groups_j': 1, 'vote_weight_j': 5.0}}, 'sum_vote_weight_i': 5.0, 'sqrt_sum_vote_weight_i': 2.23606797749979, 'sum_vote_weight_j': 5.0, 'sqrt_sum_vote_weight_j': 2.23606797749979, 'multiplied_interaction': 5.000000000000001}, 'other_group_3': {'components_int_term1': {'agent_i_2': {'vote_attenuation_i': 5, 'num_groups_i': 1, 'vote_weight_i': 5.0}}, 'components_int_term2': {'agent_j_3': {'vote_attenuation_j': 5, 'num_groups_j': 1, 'vote_weight_j': 5.0}}, 'sum_vote_weight_i': 5.0, 'sqrt_sum_vote_weight_i': 2.23606797749979, 'sum_vote_weight_j': 5.0, 'sqrt_sum_vote_weight_j': 2.23606797749979, 'multiplied_interaction': 5.000000000000001}}, 'group_3': {'other_group_0': {'components_int_term1': {'agent_i_3': {'vote_attenuation_i': 5, 'num_groups_i': 1, 'vote_weight_i': 5.0}}, 'components_int_term2': {'agent_j_0': {'vote_attenuation_j': 5, 'num_groups_j': 1, 'vote_weight_j': 5.0}}, 'sum_vote_weight_i': 5.0, 'sqrt_sum_vote_weight_i': 2.23606797749979, 'sum_vote_weight_j': 5.0, 'sqrt_sum_vote_weight_j': 2.23606797749979, 'multiplied_interaction': 5.000000000000001}, 'other_group_1': {'components_int_term1': {'agent_i_3': {'vote_attenuation_i': 5, 'num_groups_i': 1, 'vote_weight_i': 5.0}}, 'components_int_term2': {'agent_j_1': {'vote_attenuation_j': 5, 'num_groups_j': 1, 'vote_weight_j': 5.0}}, 'sum_vote_weight_i': 5.0, 'sqrt_sum_vote_weight_i': 2.23606797749979, 'sum_vote_weight_j': 5.0, 'sqrt_sum_vote_weight_j': 2.23606797749979, 'multiplied_interaction': 5.000000000000001}, 'other_group_2': {'components_int_term1': {'agent_i_3': {'vote_attenuation_i': 5, 'num_groups_i': 1, 'vote_weight_i': 5.0}}, 'components_int_term2': {'agent_j_2': {'vote_attenuation_j': 5, 'num_groups_j': 1, 'vote_weight_j': 5.0}}, 'sum_vote_weight_i': 5.0, 'sqrt_sum_vote_weight_i': 2.23606797749979, 'sum_vote_weight_j': 5.0, 'sqrt_sum_vote_weight_j': 2.23606797749979, 'multiplied_interaction': 5.000000000000001}}}\n",
      "60.00000000000001\n"
     ]
    }
   ],
   "source": [
    "result_individual, result_aggregated = model_evaluation.interaction_terms(group_dist, result_group_memberships, vote_dist)\n",
    "print(result_individual)\n",
    "print(result_aggregated)"
   ]
  },
  {
   "cell_type": "code",
   "execution_count": 6,
   "metadata": {},
   "outputs": [
    {
     "name": "stdout",
     "output_type": "stream",
     "text": [
      "8.94427190999916\n"
     ]
    }
   ],
   "source": [
    "plurality_score = model_evaluation.connection_oriented_cluster_match(result_aggregate_weight, result_aggregated)\n",
    "print(plurality_score)"
   ]
  },
  {
   "cell_type": "code",
   "execution_count": 7,
   "metadata": {},
   "outputs": [
    {
     "name": "stdout",
     "output_type": "stream",
     "text": [
      "{0: 2.23606797749979, 1: 2.23606797749979, 2: 2.23606797749979, 3: 2.23606797749979}\n",
      "8.94427190999916\n"
     ]
    }
   ],
   "source": [
    "result_quadratic_voting, result_sum_quadratic_votes = model_evaluation.quadratic_voting(vote_dist)\n",
    "print(result_quadratic_voting)\n",
    "print(result_sum_quadratic_votes)"
   ]
  }
 ],
 "metadata": {
  "kernelspec": {
   "display_name": "gov-research",
   "language": "python",
   "name": "python3"
  },
  "language_info": {
   "codemirror_mode": {
    "name": "ipython",
    "version": 3
   },
   "file_extension": ".py",
   "mimetype": "text/x-python",
   "name": "python",
   "nbconvert_exporter": "python",
   "pygments_lexer": "ipython3",
   "version": "3.10.13"
  }
 },
 "nbformat": 4,
 "nbformat_minor": 2
}
