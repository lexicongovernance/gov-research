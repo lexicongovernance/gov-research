{
 "cells": [
  {
   "cell_type": "markdown",
   "metadata": {},
   "source": [
    "## Simulation Framework "
   ]
  },
  {
   "cell_type": "code",
   "execution_count": 33,
   "metadata": {},
   "outputs": [],
   "source": [
    "import import_ipynb\n",
    "import math \n",
    "import importlib\n",
    "import random\n",
    "import copy\n",
    "\n",
    "# import functions from model_evaluation.ipynb  \n",
    "import model_evaluation "
   ]
  },
  {
   "cell_type": "code",
   "execution_count": 18,
   "metadata": {},
   "outputs": [],
   "source": [
    "# simulation parameters \n",
    "\n",
    "# number of groups\n",
    "n_groups = 4 \n",
    "\n",
    "# number of agents \n",
    "n_agents = 4"
   ]
  },
  {
   "cell_type": "markdown",
   "metadata": {},
   "source": [
    "### Group Distributions "
   ]
  },
  {
   "cell_type": "code",
   "execution_count": 19,
   "metadata": {},
   "outputs": [],
   "source": [
    "# create random distributions \n",
    "def distribute_agents(n_agents, n_groups):\n",
    "    \"\"\"\n",
    "    This function randomly selects a subset of group indices for each agent. The number of groups for each agent is randomly chosen between 1 and the total number of groups.\n",
    "    :returns (list of lists): Each inner list represents the agents assigned to a particular group.\n",
    "    \"\"\"\n",
    "    group_dist = [[] for _ in range(n_groups)]\n",
    "\n",
    "    for agent in range(n_agents):\n",
    "        groups = random.sample(range(n_groups), random.randint(1, n_groups))\n",
    "        for group in groups:\n",
    "            group_dist[group].append(agent)\n",
    "\n",
    "    return group_dist"
   ]
  },
  {
   "cell_type": "code",
   "execution_count": 35,
   "metadata": {},
   "outputs": [],
   "source": [
    "# Create random group distributions with a gradual transition from one to the other extreme \n",
    "def gradual_distribution_transition(n_agents, n_groups, iterations):\n",
    "    \"\"\"\n",
    "    This function starts with a distribution where each group contains only one agent and gradually modifies it in each iteration.\n",
    "    :returns (list of lists): Each inner list represents the agents assigned to a particular group.\n",
    "    \"\"\"\n",
    "    # Initial distribution: Each group contains only one agent\n",
    "    group_dist = [[agent] for agent in range(n_agents)]\n",
    "\n",
    "    # List to store distributions at each iteration\n",
    "    distributions = [copy.deepcopy(group_dist)]\n",
    "\n",
    "    for _ in range(iterations):  # Start from iteration 1\n",
    "        # Randomly select a group\n",
    "        source_group = random.randint(0, n_groups - 1)\n",
    "        \n",
    "        # Randomly select a destination group different from the source group\n",
    "        possible_destination_groups = [group for group in range(n_groups) if group != source_group]\n",
    "        destination_group = random.choice(possible_destination_groups)\n",
    "\n",
    "        # Randomly select an agent from the source group\n",
    "        if group_dist[source_group]:\n",
    "            agent_to_move = random.choice(group_dist[source_group])\n",
    "\n",
    "            # Move the agent to the destination group if not already present\n",
    "            if agent_to_move not in group_dist[destination_group]:\n",
    "                group_dist[destination_group].append(agent_to_move)\n",
    "            else:\n",
    "                continue\n",
    "\n",
    "        # Save the current distribution (deep copy to avoid referencing the same object)\n",
    "        distributions.append(copy.deepcopy(group_dist))\n",
    "\n",
    "    return distributions"
   ]
  },
  {
   "cell_type": "code",
   "execution_count": 37,
   "metadata": {},
   "outputs": [
    {
     "name": "stdout",
     "output_type": "stream",
     "text": [
      "[[[0], [1], [2], [3]], [[0], [1], [2, 1], [3]], [[0], [1], [2, 1], [3, 0]], [[0], [1, 3], [2, 1], [3, 0]], [[0, 3], [1, 3], [2, 1], [3, 0]], [[0, 3], [1, 3, 0], [2, 1], [3, 0]], [[0, 3], [1, 3, 0], [2, 1], [3, 0, 1]], [[0, 3], [1, 3, 0], [2, 1, 3], [3, 0, 1]], [[0, 3, 2], [1, 3, 0], [2, 1, 3], [3, 0, 1]], [[0, 3, 2, 1], [1, 3, 0], [2, 1, 3], [3, 0, 1]], [[0, 3, 2, 1], [1, 3, 0], [2, 1, 3, 0], [3, 0, 1]], [[0, 3, 2, 1], [1, 3, 0], [2, 1, 3, 0], [3, 0, 1, 2]], [[0, 3, 2, 1], [1, 3, 0, 2], [2, 1, 3, 0], [3, 0, 1, 2]]]\n"
     ]
    },
    {
     "data": {
      "text/plain": [
       "13"
      ]
     },
     "execution_count": 37,
     "metadata": {},
     "output_type": "execute_result"
    }
   ],
   "source": [
    "# Example usage\n",
    "n_agents = 4\n",
    "n_groups = 4\n",
    "iterations = 100  # Adjust the number of iterations as needed\n",
    "result = gradual_distribution_transition(n_agents, n_groups, iterations)\n",
    "print(result)\n",
    "len(result)"
   ]
  },
  {
   "cell_type": "markdown",
   "metadata": {},
   "source": [
    "### Vote Distribution "
   ]
  },
  {
   "cell_type": "code",
   "execution_count": 23,
   "metadata": {},
   "outputs": [],
   "source": [
    "# define fixed vote distribution \n",
    "def vote_distribution_fixed(n_agents, votes_agent):\n",
    "    return [votes_agent] * n_agents"
   ]
  },
  {
   "cell_type": "code",
   "execution_count": 24,
   "metadata": {},
   "outputs": [
    {
     "name": "stdout",
     "output_type": "stream",
     "text": [
      "[5, 5, 5, 5]\n"
     ]
    }
   ],
   "source": [
    "vote_dist = vote_distribution_fixed(n_agents=n_agents, votes_agent=5)\n",
    "print(vote_dist)"
   ]
  },
  {
   "cell_type": "code",
   "execution_count": 25,
   "metadata": {},
   "outputs": [],
   "source": [
    "# Define input variables  \n",
    "group_dist = [[0], [1], [2], [3]] \n",
    "vote_dist = [5, 5, 5, 5]"
   ]
  },
  {
   "cell_type": "code",
   "execution_count": 26,
   "metadata": {},
   "outputs": [
    {
     "name": "stdout",
     "output_type": "stream",
     "text": [
      "[[0], [1], [2], [3]]\n"
     ]
    }
   ],
   "source": [
    "# Assuming this is the correct function signature\n",
    "result_group_memberships = model_evaluation.group_memberships(group_dist, vote_dist)\n",
    "print(result_group_memberships)"
   ]
  },
  {
   "cell_type": "code",
   "execution_count": 27,
   "metadata": {},
   "outputs": [
    {
     "name": "stdout",
     "output_type": "stream",
     "text": [
      "{'group_0': {'agent_0': {'votes': 5, 'num_groups': 1, 'vote_weight': 5.0}}, 'group_1': {'agent_1': {'votes': 5, 'num_groups': 1, 'vote_weight': 5.0}}, 'group_2': {'agent_2': {'votes': 5, 'num_groups': 1, 'vote_weight': 5.0}}, 'group_3': {'agent_3': {'votes': 5, 'num_groups': 1, 'vote_weight': 5.0}}}\n",
      "20.0\n"
     ]
    }
   ],
   "source": [
    "result_groups, result_aggregate_weight = model_evaluation.first_term(group_dist, vote_dist, result_group_memberships)\n",
    "print(result_groups)\n",
    "print(result_aggregate_weight)"
   ]
  },
  {
   "cell_type": "code",
   "execution_count": 28,
   "metadata": {},
   "outputs": [
    {
     "name": "stdout",
     "output_type": "stream",
     "text": [
      "{'group_0': {'other_group_1': {'components_int_term1': {'agent_i_0': {'vote_attenuation_i': 5, 'num_groups_i': 1, 'vote_weight_i': 5.0}}, 'components_int_term2': {'agent_j_1': {'vote_attenuation_j': 5, 'num_groups_j': 1, 'vote_weight_j': 5.0}}, 'sum_vote_weight_i': 5.0, 'sqrt_sum_vote_weight_i': 2.23606797749979, 'sum_vote_weight_j': 5.0, 'sqrt_sum_vote_weight_j': 2.23606797749979, 'multiplied_interaction': 5.000000000000001}, 'other_group_2': {'components_int_term1': {'agent_i_0': {'vote_attenuation_i': 5, 'num_groups_i': 1, 'vote_weight_i': 5.0}}, 'components_int_term2': {'agent_j_2': {'vote_attenuation_j': 5, 'num_groups_j': 1, 'vote_weight_j': 5.0}}, 'sum_vote_weight_i': 5.0, 'sqrt_sum_vote_weight_i': 2.23606797749979, 'sum_vote_weight_j': 5.0, 'sqrt_sum_vote_weight_j': 2.23606797749979, 'multiplied_interaction': 5.000000000000001}, 'other_group_3': {'components_int_term1': {'agent_i_0': {'vote_attenuation_i': 5, 'num_groups_i': 1, 'vote_weight_i': 5.0}}, 'components_int_term2': {'agent_j_3': {'vote_attenuation_j': 5, 'num_groups_j': 1, 'vote_weight_j': 5.0}}, 'sum_vote_weight_i': 5.0, 'sqrt_sum_vote_weight_i': 2.23606797749979, 'sum_vote_weight_j': 5.0, 'sqrt_sum_vote_weight_j': 2.23606797749979, 'multiplied_interaction': 5.000000000000001}}, 'group_1': {'other_group_0': {'components_int_term1': {'agent_i_1': {'vote_attenuation_i': 5, 'num_groups_i': 1, 'vote_weight_i': 5.0}}, 'components_int_term2': {'agent_j_0': {'vote_attenuation_j': 5, 'num_groups_j': 1, 'vote_weight_j': 5.0}}, 'sum_vote_weight_i': 5.0, 'sqrt_sum_vote_weight_i': 2.23606797749979, 'sum_vote_weight_j': 5.0, 'sqrt_sum_vote_weight_j': 2.23606797749979, 'multiplied_interaction': 5.000000000000001}, 'other_group_2': {'components_int_term1': {'agent_i_1': {'vote_attenuation_i': 5, 'num_groups_i': 1, 'vote_weight_i': 5.0}}, 'components_int_term2': {'agent_j_2': {'vote_attenuation_j': 5, 'num_groups_j': 1, 'vote_weight_j': 5.0}}, 'sum_vote_weight_i': 5.0, 'sqrt_sum_vote_weight_i': 2.23606797749979, 'sum_vote_weight_j': 5.0, 'sqrt_sum_vote_weight_j': 2.23606797749979, 'multiplied_interaction': 5.000000000000001}, 'other_group_3': {'components_int_term1': {'agent_i_1': {'vote_attenuation_i': 5, 'num_groups_i': 1, 'vote_weight_i': 5.0}}, 'components_int_term2': {'agent_j_3': {'vote_attenuation_j': 5, 'num_groups_j': 1, 'vote_weight_j': 5.0}}, 'sum_vote_weight_i': 5.0, 'sqrt_sum_vote_weight_i': 2.23606797749979, 'sum_vote_weight_j': 5.0, 'sqrt_sum_vote_weight_j': 2.23606797749979, 'multiplied_interaction': 5.000000000000001}}, 'group_2': {'other_group_0': {'components_int_term1': {'agent_i_2': {'vote_attenuation_i': 5, 'num_groups_i': 1, 'vote_weight_i': 5.0}}, 'components_int_term2': {'agent_j_0': {'vote_attenuation_j': 5, 'num_groups_j': 1, 'vote_weight_j': 5.0}}, 'sum_vote_weight_i': 5.0, 'sqrt_sum_vote_weight_i': 2.23606797749979, 'sum_vote_weight_j': 5.0, 'sqrt_sum_vote_weight_j': 2.23606797749979, 'multiplied_interaction': 5.000000000000001}, 'other_group_1': {'components_int_term1': {'agent_i_2': {'vote_attenuation_i': 5, 'num_groups_i': 1, 'vote_weight_i': 5.0}}, 'components_int_term2': {'agent_j_1': {'vote_attenuation_j': 5, 'num_groups_j': 1, 'vote_weight_j': 5.0}}, 'sum_vote_weight_i': 5.0, 'sqrt_sum_vote_weight_i': 2.23606797749979, 'sum_vote_weight_j': 5.0, 'sqrt_sum_vote_weight_j': 2.23606797749979, 'multiplied_interaction': 5.000000000000001}, 'other_group_3': {'components_int_term1': {'agent_i_2': {'vote_attenuation_i': 5, 'num_groups_i': 1, 'vote_weight_i': 5.0}}, 'components_int_term2': {'agent_j_3': {'vote_attenuation_j': 5, 'num_groups_j': 1, 'vote_weight_j': 5.0}}, 'sum_vote_weight_i': 5.0, 'sqrt_sum_vote_weight_i': 2.23606797749979, 'sum_vote_weight_j': 5.0, 'sqrt_sum_vote_weight_j': 2.23606797749979, 'multiplied_interaction': 5.000000000000001}}, 'group_3': {'other_group_0': {'components_int_term1': {'agent_i_3': {'vote_attenuation_i': 5, 'num_groups_i': 1, 'vote_weight_i': 5.0}}, 'components_int_term2': {'agent_j_0': {'vote_attenuation_j': 5, 'num_groups_j': 1, 'vote_weight_j': 5.0}}, 'sum_vote_weight_i': 5.0, 'sqrt_sum_vote_weight_i': 2.23606797749979, 'sum_vote_weight_j': 5.0, 'sqrt_sum_vote_weight_j': 2.23606797749979, 'multiplied_interaction': 5.000000000000001}, 'other_group_1': {'components_int_term1': {'agent_i_3': {'vote_attenuation_i': 5, 'num_groups_i': 1, 'vote_weight_i': 5.0}}, 'components_int_term2': {'agent_j_1': {'vote_attenuation_j': 5, 'num_groups_j': 1, 'vote_weight_j': 5.0}}, 'sum_vote_weight_i': 5.0, 'sqrt_sum_vote_weight_i': 2.23606797749979, 'sum_vote_weight_j': 5.0, 'sqrt_sum_vote_weight_j': 2.23606797749979, 'multiplied_interaction': 5.000000000000001}, 'other_group_2': {'components_int_term1': {'agent_i_3': {'vote_attenuation_i': 5, 'num_groups_i': 1, 'vote_weight_i': 5.0}}, 'components_int_term2': {'agent_j_2': {'vote_attenuation_j': 5, 'num_groups_j': 1, 'vote_weight_j': 5.0}}, 'sum_vote_weight_i': 5.0, 'sqrt_sum_vote_weight_i': 2.23606797749979, 'sum_vote_weight_j': 5.0, 'sqrt_sum_vote_weight_j': 2.23606797749979, 'multiplied_interaction': 5.000000000000001}}}\n",
      "60.00000000000001\n"
     ]
    }
   ],
   "source": [
    "result_individual, result_aggregated = model_evaluation.interaction_terms(group_dist, result_group_memberships, vote_dist)\n",
    "print(result_individual)\n",
    "print(result_aggregated)"
   ]
  },
  {
   "cell_type": "code",
   "execution_count": 29,
   "metadata": {},
   "outputs": [
    {
     "name": "stdout",
     "output_type": "stream",
     "text": [
      "8.94427190999916\n"
     ]
    }
   ],
   "source": [
    "plurality_score = model_evaluation.connection_oriented_cluster_match(result_aggregate_weight, result_aggregated)\n",
    "print(plurality_score)"
   ]
  },
  {
   "cell_type": "code",
   "execution_count": 30,
   "metadata": {},
   "outputs": [
    {
     "name": "stdout",
     "output_type": "stream",
     "text": [
      "{0: 2.23606797749979, 1: 2.23606797749979, 2: 2.23606797749979, 3: 2.23606797749979}\n",
      "8.94427190999916\n"
     ]
    }
   ],
   "source": [
    "result_quadratic_voting, result_sum_quadratic_votes = model_evaluation.quadratic_voting(vote_dist)\n",
    "print(result_quadratic_voting)\n",
    "print(result_sum_quadratic_votes)"
   ]
  },
  {
   "cell_type": "code",
   "execution_count": 31,
   "metadata": {},
   "outputs": [
    {
     "name": "stdout",
     "output_type": "stream",
     "text": [
      "Pairwise Jaccard Similarity Matrix:\n",
      "[0.0, 0.0, 0.0, 0.0]\n",
      "[0.0, 0.0, 0.0, 0.0]\n",
      "[0.0, 0.0, 0.0, 0.0]\n",
      "[0.0, 0.0, 0.0, 0.0]\n",
      "Global Jaccard Similarity: 0.0\n"
     ]
    }
   ],
   "source": [
    "# Jaccard Index \n",
    "pairwise_jaccard_matrix = model_evaluation.pairwise_jaccard_similarity(group_dist)\n",
    "print(\"Pairwise Jaccard Similarity Matrix:\")\n",
    "for row in pairwise_jaccard_matrix:\n",
    "    print(row)\n",
    "\n",
    "global_similarity = model_evaluation.global_jaccard_similarity(pairwise_jaccard_matrix)\n",
    "print(\"Global Jaccard Similarity:\", global_similarity)"
   ]
  }
 ],
 "metadata": {
  "kernelspec": {
   "display_name": "gov-research",
   "language": "python",
   "name": "python3"
  },
  "language_info": {
   "codemirror_mode": {
    "name": "ipython",
    "version": 3
   },
   "file_extension": ".py",
   "mimetype": "text/x-python",
   "name": "python",
   "nbconvert_exporter": "python",
   "pygments_lexer": "ipython3",
   "version": "3.10.13"
  }
 },
 "nbformat": 4,
 "nbformat_minor": 2
}
