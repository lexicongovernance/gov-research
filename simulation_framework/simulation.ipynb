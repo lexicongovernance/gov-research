{
 "cells": [
  {
   "cell_type": "markdown",
   "metadata": {},
   "source": [
    "## Simulation Framework "
   ]
  },
  {
   "cell_type": "code",
   "execution_count": 14,
   "metadata": {},
   "outputs": [],
   "source": [
    "import import_ipynb\n",
    "import math \n",
    "import importlib\n",
    "import random\n",
    "\n",
    "# import functions from model_evaluation.ipynb  \n",
    "import model_evaluation "
   ]
  },
  {
   "cell_type": "code",
   "execution_count": 56,
   "metadata": {},
   "outputs": [],
   "source": [
    "# simulation parameters \n",
    "\n",
    "# number of groups\n",
    "n_groups = 4 \n",
    "\n",
    "# number of agents \n",
    "n_agents = 4"
   ]
  },
  {
   "cell_type": "code",
   "execution_count": 57,
   "metadata": {},
   "outputs": [],
   "source": [
    "# create group distributions \n",
    "def distribute_agents(n_agents, n_groups):\n",
    "    \"\"\"\n",
    "    This function randomly selects a subset of group indices for each agent. The number of groups for each agent is randomly chosen between 1 and the total number of groups.\n",
    "    :returns (list of lists): Each inner list represents the agents assigned to a particular group.\n",
    "    \"\"\"\n",
    "    group_dist = [[] for _ in range(n_groups)]\n",
    "\n",
    "    for agent in range(n_agents):\n",
    "        groups = random.sample(range(n_groups), random.randint(1, n_groups))\n",
    "        for group in groups:\n",
    "            group_dist[group].append(agent)\n",
    "\n",
    "    return group_dist"
   ]
  },
  {
   "cell_type": "code",
   "execution_count": 68,
   "metadata": {},
   "outputs": [
    {
     "name": "stdout",
     "output_type": "stream",
     "text": [
      "Iteration 1: [[0], [1], [2], [3]]\n",
      "Iteration 2: [[0], [1], [2], [3]]\n",
      "Iteration 3: [[0], [1], [2], [3, 0]]\n",
      "Iteration 4: [[0], [1], [2, 1], [3, 0]]\n",
      "Iteration 5: [[0], [1], [2, 1], [3, 0]]\n",
      "Iteration 6: [[0], [1], [2, 1], [3, 0, 1]]\n",
      "Iteration 7: [[0], [1, 0], [2, 1], [3, 0, 1]]\n",
      "Iteration 8: [[0], [1, 0], [2, 1], [3, 0, 1]]\n",
      "Iteration 9: [[0, 1], [1, 0], [2, 1], [3, 0, 1]]\n",
      "Iteration 10: [[0, 1], [1, 0], [2, 1], [3, 0, 1]]\n",
      "Iteration 11: [[0, 1], [1, 0], [2, 1], [3, 0, 1]]\n",
      "Iteration 12: [[0, 1], [1, 0], [2, 1], [3, 0, 1, 2]]\n",
      "Iteration 13: [[0, 1], [1, 0], [2, 1, 0], [3, 0, 1, 2]]\n",
      "Iteration 14: [[0, 1], [1, 0], [2, 1, 0], [3, 0, 1, 2]]\n",
      "Iteration 15: [[0, 1], [1, 0], [2, 1, 0], [3, 0, 1, 2]]\n",
      "Iteration 16: [[0, 1], [1, 0], [2, 1, 0], [3, 0, 1, 2]]\n",
      "Iteration 17: [[0, 1], [1, 0, 2], [2, 1, 0], [3, 0, 1, 2]]\n",
      "Iteration 18: [[0, 1], [1, 0, 2], [2, 1, 0], [3, 0, 1, 2]]\n",
      "Iteration 19: [[0, 1], [1, 0, 2], [2, 1, 0], [3, 0, 1, 2]]\n",
      "Iteration 20: [[0, 1], [1, 0, 2], [2, 1, 0], [3, 0, 1, 2]]\n",
      "Iteration 21: [[0, 1], [1, 0, 2], [2, 1, 0], [3, 0, 1, 2]]\n",
      "Iteration 22: [[0, 1], [1, 0, 2], [2, 1, 0], [3, 0, 1, 2]]\n",
      "Iteration 23: [[0, 1], [1, 0, 2], [2, 1, 0], [3, 0, 1, 2]]\n",
      "Iteration 24: [[0, 1], [1, 0, 2], [2, 1, 0], [3, 0, 1, 2]]\n",
      "Iteration 25: [[0, 1], [1, 0, 2], [2, 1, 0], [3, 0, 1, 2]]\n",
      "Iteration 26: [[0, 1], [1, 0, 2], [2, 1, 0], [3, 0, 1, 2]]\n",
      "Iteration 27: [[0, 1], [1, 0, 2], [2, 1, 0], [3, 0, 1, 2]]\n",
      "Iteration 28: [[0, 1, 2], [1, 0, 2], [2, 1, 0], [3, 0, 1, 2]]\n",
      "Iteration 29: [[0, 1, 2], [1, 0, 2], [2, 1, 0], [3, 0, 1, 2]]\n",
      "Iteration 30: [[0, 1, 2], [1, 0, 2], [2, 1, 0], [3, 0, 1, 2]]\n",
      "Iteration 31: [[0, 1, 2], [1, 0, 2], [2, 1, 0], [3, 0, 1, 2]]\n",
      "Iteration 32: [[0, 1, 2], [1, 0, 2], [2, 1, 0], [3, 0, 1, 2]]\n",
      "Iteration 33: [[0, 1, 2, 3], [1, 0, 2], [2, 1, 0], [3, 0, 1, 2]]\n",
      "Iteration 34: [[0, 1, 2, 3], [1, 0, 2], [2, 1, 0], [3, 0, 1, 2]]\n",
      "Iteration 35: [[0, 1, 2, 3], [1, 0, 2], [2, 1, 0], [3, 0, 1, 2]]\n",
      "Iteration 36: [[0, 1, 2, 3], [1, 0, 2], [2, 1, 0], [3, 0, 1, 2]]\n",
      "Iteration 37: [[0, 1, 2, 3], [1, 0, 2], [2, 1, 0], [3, 0, 1, 2]]\n",
      "Iteration 38: [[0, 1, 2, 3], [1, 0, 2], [2, 1, 0], [3, 0, 1, 2]]\n",
      "Iteration 39: [[0, 1, 2, 3], [1, 0, 2], [2, 1, 0], [3, 0, 1, 2]]\n",
      "Iteration 40: [[0, 1, 2, 3], [1, 0, 2], [2, 1, 0], [3, 0, 1, 2]]\n",
      "Iteration 41: [[0, 1, 2, 3], [1, 0, 2], [2, 1, 0], [3, 0, 1, 2]]\n",
      "Iteration 42: [[0, 1, 2, 3], [1, 0, 2], [2, 1, 0], [3, 0, 1, 2]]\n",
      "Iteration 43: [[0, 1, 2, 3], [1, 0, 2], [2, 1, 0], [3, 0, 1, 2]]\n",
      "Iteration 44: [[0, 1, 2, 3], [1, 0, 2], [2, 1, 0], [3, 0, 1, 2]]\n",
      "Iteration 45: [[0, 1, 2, 3], [1, 0, 2], [2, 1, 0], [3, 0, 1, 2]]\n",
      "Iteration 46: [[0, 1, 2, 3], [1, 0, 2], [2, 1, 0], [3, 0, 1, 2]]\n",
      "Iteration 47: [[0, 1, 2, 3], [1, 0, 2], [2, 1, 0], [3, 0, 1, 2]]\n",
      "Iteration 48: [[0, 1, 2, 3], [1, 0, 2, 3], [2, 1, 0], [3, 0, 1, 2]]\n",
      "Iteration 49: [[0, 1, 2, 3], [1, 0, 2, 3], [2, 1, 0], [3, 0, 1, 2]]\n",
      "Iteration 50: [[0, 1, 2, 3], [1, 0, 2, 3], [2, 1, 0], [3, 0, 1, 2]]\n",
      "Iteration 51: [[0, 1, 2, 3], [1, 0, 2, 3], [2, 1, 0, 3], [3, 0, 1, 2]]\n",
      "Iteration 52: [[0, 1, 2, 3], [1, 0, 2, 3], [2, 1, 0, 3], [3, 0, 1, 2]]\n",
      "Iteration 53: [[0, 1, 2, 3], [1, 0, 2, 3], [2, 1, 0, 3], [3, 0, 1, 2]]\n",
      "Iteration 54: [[0, 1, 2, 3], [1, 0, 2, 3], [2, 1, 0, 3], [3, 0, 1, 2]]\n",
      "Iteration 55: [[0, 1, 2, 3], [1, 0, 2, 3], [2, 1, 0, 3], [3, 0, 1, 2]]\n",
      "Iteration 56: [[0, 1, 2, 3], [1, 0, 2, 3], [2, 1, 0, 3], [3, 0, 1, 2]]\n",
      "Iteration 57: [[0, 1, 2, 3], [1, 0, 2, 3], [2, 1, 0, 3], [3, 0, 1, 2]]\n",
      "Iteration 58: [[0, 1, 2, 3], [1, 0, 2, 3], [2, 1, 0, 3], [3, 0, 1, 2]]\n",
      "Iteration 59: [[0, 1, 2, 3], [1, 0, 2, 3], [2, 1, 0, 3], [3, 0, 1, 2]]\n",
      "Iteration 60: [[0, 1, 2, 3], [1, 0, 2, 3], [2, 1, 0, 3], [3, 0, 1, 2]]\n",
      "Iteration 61: [[0, 1, 2, 3], [1, 0, 2, 3], [2, 1, 0, 3], [3, 0, 1, 2]]\n",
      "Iteration 62: [[0, 1, 2, 3], [1, 0, 2, 3], [2, 1, 0, 3], [3, 0, 1, 2]]\n",
      "Iteration 63: [[0, 1, 2, 3], [1, 0, 2, 3], [2, 1, 0, 3], [3, 0, 1, 2]]\n",
      "Iteration 64: [[0, 1, 2, 3], [1, 0, 2, 3], [2, 1, 0, 3], [3, 0, 1, 2]]\n",
      "Iteration 65: [[0, 1, 2, 3], [1, 0, 2, 3], [2, 1, 0, 3], [3, 0, 1, 2]]\n",
      "Iteration 66: [[0, 1, 2, 3], [1, 0, 2, 3], [2, 1, 0, 3], [3, 0, 1, 2]]\n",
      "Iteration 67: [[0, 1, 2, 3], [1, 0, 2, 3], [2, 1, 0, 3], [3, 0, 1, 2]]\n",
      "Iteration 68: [[0, 1, 2, 3], [1, 0, 2, 3], [2, 1, 0, 3], [3, 0, 1, 2]]\n",
      "Iteration 69: [[0, 1, 2, 3], [1, 0, 2, 3], [2, 1, 0, 3], [3, 0, 1, 2]]\n",
      "Iteration 70: [[0, 1, 2, 3], [1, 0, 2, 3], [2, 1, 0, 3], [3, 0, 1, 2]]\n",
      "Iteration 71: [[0, 1, 2, 3], [1, 0, 2, 3], [2, 1, 0, 3], [3, 0, 1, 2]]\n",
      "Iteration 72: [[0, 1, 2, 3], [1, 0, 2, 3], [2, 1, 0, 3], [3, 0, 1, 2]]\n",
      "Iteration 73: [[0, 1, 2, 3], [1, 0, 2, 3], [2, 1, 0, 3], [3, 0, 1, 2]]\n",
      "Iteration 74: [[0, 1, 2, 3], [1, 0, 2, 3], [2, 1, 0, 3], [3, 0, 1, 2]]\n",
      "Iteration 75: [[0, 1, 2, 3], [1, 0, 2, 3], [2, 1, 0, 3], [3, 0, 1, 2]]\n",
      "Iteration 76: [[0, 1, 2, 3], [1, 0, 2, 3], [2, 1, 0, 3], [3, 0, 1, 2]]\n",
      "Iteration 77: [[0, 1, 2, 3], [1, 0, 2, 3], [2, 1, 0, 3], [3, 0, 1, 2]]\n",
      "Iteration 78: [[0, 1, 2, 3], [1, 0, 2, 3], [2, 1, 0, 3], [3, 0, 1, 2]]\n",
      "Iteration 79: [[0, 1, 2, 3], [1, 0, 2, 3], [2, 1, 0, 3], [3, 0, 1, 2]]\n",
      "Iteration 80: [[0, 1, 2, 3], [1, 0, 2, 3], [2, 1, 0, 3], [3, 0, 1, 2]]\n",
      "Iteration 81: [[0, 1, 2, 3], [1, 0, 2, 3], [2, 1, 0, 3], [3, 0, 1, 2]]\n",
      "Iteration 82: [[0, 1, 2, 3], [1, 0, 2, 3], [2, 1, 0, 3], [3, 0, 1, 2]]\n",
      "Iteration 83: [[0, 1, 2, 3], [1, 0, 2, 3], [2, 1, 0, 3], [3, 0, 1, 2]]\n",
      "Iteration 84: [[0, 1, 2, 3], [1, 0, 2, 3], [2, 1, 0, 3], [3, 0, 1, 2]]\n",
      "Iteration 85: [[0, 1, 2, 3], [1, 0, 2, 3], [2, 1, 0, 3], [3, 0, 1, 2]]\n",
      "Iteration 86: [[0, 1, 2, 3], [1, 0, 2, 3], [2, 1, 0, 3], [3, 0, 1, 2]]\n",
      "Iteration 87: [[0, 1, 2, 3], [1, 0, 2, 3], [2, 1, 0, 3], [3, 0, 1, 2]]\n",
      "Iteration 88: [[0, 1, 2, 3], [1, 0, 2, 3], [2, 1, 0, 3], [3, 0, 1, 2]]\n",
      "Iteration 89: [[0, 1, 2, 3], [1, 0, 2, 3], [2, 1, 0, 3], [3, 0, 1, 2]]\n",
      "Iteration 90: [[0, 1, 2, 3], [1, 0, 2, 3], [2, 1, 0, 3], [3, 0, 1, 2]]\n",
      "Iteration 91: [[0, 1, 2, 3], [1, 0, 2, 3], [2, 1, 0, 3], [3, 0, 1, 2]]\n",
      "Iteration 92: [[0, 1, 2, 3], [1, 0, 2, 3], [2, 1, 0, 3], [3, 0, 1, 2]]\n",
      "Iteration 93: [[0, 1, 2, 3], [1, 0, 2, 3], [2, 1, 0, 3], [3, 0, 1, 2]]\n",
      "Iteration 94: [[0, 1, 2, 3], [1, 0, 2, 3], [2, 1, 0, 3], [3, 0, 1, 2]]\n",
      "Iteration 95: [[0, 1, 2, 3], [1, 0, 2, 3], [2, 1, 0, 3], [3, 0, 1, 2]]\n",
      "Iteration 96: [[0, 1, 2, 3], [1, 0, 2, 3], [2, 1, 0, 3], [3, 0, 1, 2]]\n",
      "Iteration 97: [[0, 1, 2, 3], [1, 0, 2, 3], [2, 1, 0, 3], [3, 0, 1, 2]]\n",
      "Iteration 98: [[0, 1, 2, 3], [1, 0, 2, 3], [2, 1, 0, 3], [3, 0, 1, 2]]\n",
      "Iteration 99: [[0, 1, 2, 3], [1, 0, 2, 3], [2, 1, 0, 3], [3, 0, 1, 2]]\n",
      "Iteration 100: [[0, 1, 2, 3], [1, 0, 2, 3], [2, 1, 0, 3], [3, 0, 1, 2]]\n"
     ]
    }
   ],
   "source": [
    "def gradual_distribution_transition(n_agents, n_groups, iterations):\n",
    "    \"\"\"\n",
    "    This function starts with a distribution where each group contains only one agent and gradually modifies it in each iteration.\n",
    "    :returns (list of lists): Each inner list represents the agents assigned to a particular group.\n",
    "    \"\"\"\n",
    "    # Initial distribution: Each group contains only one agent\n",
    "    group_dist = [[agent] for agent in range(n_agents)]\n",
    "\n",
    "    for iteration in range(iterations):\n",
    "        # Randomly select a group\n",
    "        source_group = random.randint(0, n_groups - 1)\n",
    "        destination_group = random.randint(0, n_groups - 1)\n",
    "\n",
    "        # Randomly select an agent from the source group\n",
    "        if group_dist[source_group]:\n",
    "            agent_to_move = random.choice(group_dist[source_group])\n",
    "\n",
    "            # Move the agent to the destination group if not already present\n",
    "            if agent_to_move not in group_dist[destination_group]:\n",
    "                group_dist[destination_group].append(agent_to_move)\n",
    "\n",
    "        print(f\"Iteration {iteration + 1}: {group_dist}\")\n",
    "\n",
    "    return group_dist\n",
    "\n",
    "# Example usage\n",
    "n_agents = 4\n",
    "n_groups = 4\n",
    "iterations = 100  # Adjust the number of iterations as needed\n",
    "result = gradual_distribution_transition(n_agents, n_groups, iterations)\n"
   ]
  },
  {
   "cell_type": "code",
   "execution_count": 65,
   "metadata": {},
   "outputs": [
    {
     "name": "stdout",
     "output_type": "stream",
     "text": [
      "[[2, 3], [0, 2], [2], [1, 2, 3]]\n"
     ]
    }
   ],
   "source": [
    "group_dist = distribute_agents(n_agents=n_agents, n_groups=n_groups)\n",
    "print(group_dist)"
   ]
  },
  {
   "cell_type": "code",
   "execution_count": 59,
   "metadata": {},
   "outputs": [],
   "source": [
    "# define vote distribution \n",
    "def vote_distribution_fixed(n_agents, votes_agent):\n",
    "    return [votes_agent] * n_agents"
   ]
  },
  {
   "cell_type": "code",
   "execution_count": 60,
   "metadata": {},
   "outputs": [
    {
     "name": "stdout",
     "output_type": "stream",
     "text": [
      "[5, 5, 5, 5]\n"
     ]
    }
   ],
   "source": [
    "vote_dist = vote_distribution_fixed(n_agents=n_agents, votes_agent=5)\n",
    "print(vote_dist)"
   ]
  },
  {
   "cell_type": "code",
   "execution_count": 2,
   "metadata": {},
   "outputs": [],
   "source": [
    "# Define input variables  \n",
    "group_dist = [[0], [1], [2], [3]] \n",
    "vote_dist = [5, 5, 5, 5]"
   ]
  },
  {
   "cell_type": "code",
   "execution_count": 61,
   "metadata": {},
   "outputs": [
    {
     "name": "stdout",
     "output_type": "stream",
     "text": [
      "[[0, 2], [1], [1], [3]]\n"
     ]
    }
   ],
   "source": [
    "# Assuming this is the correct function signature\n",
    "result_group_memberships = model_evaluation.group_memberships(group_dist, vote_dist)\n",
    "print(result_group_memberships)"
   ]
  },
  {
   "cell_type": "code",
   "execution_count": 50,
   "metadata": {},
   "outputs": [
    {
     "name": "stdout",
     "output_type": "stream",
     "text": [
      "{'group_0': {'agent_2': {'votes': 5, 'num_groups': 5, 'vote_weight': 1.0}, 'agent_4': {'votes': 5, 'num_groups': 5, 'vote_weight': 1.0}, 'agent_6': {'votes': 5, 'num_groups': 5, 'vote_weight': 1.0}, 'agent_8': {'votes': 5, 'num_groups': 4, 'vote_weight': 1.25}}, 'group_1': {'agent_0': {'votes': 5, 'num_groups': 3, 'vote_weight': 1.6666666666666667}, 'agent_2': {'votes': 5, 'num_groups': 5, 'vote_weight': 1.0}, 'agent_3': {'votes': 5, 'num_groups': 4, 'vote_weight': 1.25}, 'agent_4': {'votes': 5, 'num_groups': 5, 'vote_weight': 1.0}, 'agent_6': {'votes': 5, 'num_groups': 5, 'vote_weight': 1.0}, 'agent_7': {'votes': 5, 'num_groups': 2, 'vote_weight': 2.5}, 'agent_8': {'votes': 5, 'num_groups': 4, 'vote_weight': 1.25}}, 'group_2': {'agent_1': {'votes': 5, 'num_groups': 3, 'vote_weight': 1.6666666666666667}, 'agent_2': {'votes': 5, 'num_groups': 5, 'vote_weight': 1.0}, 'agent_3': {'votes': 5, 'num_groups': 4, 'vote_weight': 1.25}, 'agent_4': {'votes': 5, 'num_groups': 5, 'vote_weight': 1.0}, 'agent_5': {'votes': 5, 'num_groups': 1, 'vote_weight': 5.0}, 'agent_6': {'votes': 5, 'num_groups': 5, 'vote_weight': 1.0}, 'agent_8': {'votes': 5, 'num_groups': 4, 'vote_weight': 1.25}, 'agent_9': {'votes': 5, 'num_groups': 2, 'vote_weight': 2.5}}, 'group_3': {'agent_0': {'votes': 5, 'num_groups': 3, 'vote_weight': 1.6666666666666667}, 'agent_1': {'votes': 5, 'num_groups': 3, 'vote_weight': 1.6666666666666667}, 'agent_2': {'votes': 5, 'num_groups': 5, 'vote_weight': 1.0}, 'agent_3': {'votes': 5, 'num_groups': 4, 'vote_weight': 1.25}, 'agent_4': {'votes': 5, 'num_groups': 5, 'vote_weight': 1.0}, 'agent_6': {'votes': 5, 'num_groups': 5, 'vote_weight': 1.0}, 'agent_7': {'votes': 5, 'num_groups': 2, 'vote_weight': 2.5}, 'agent_8': {'votes': 5, 'num_groups': 4, 'vote_weight': 1.25}}, 'group_4': {'agent_0': {'votes': 5, 'num_groups': 3, 'vote_weight': 1.6666666666666667}, 'agent_1': {'votes': 5, 'num_groups': 3, 'vote_weight': 1.6666666666666667}, 'agent_2': {'votes': 5, 'num_groups': 5, 'vote_weight': 1.0}, 'agent_3': {'votes': 5, 'num_groups': 4, 'vote_weight': 1.25}, 'agent_4': {'votes': 5, 'num_groups': 5, 'vote_weight': 1.0}, 'agent_6': {'votes': 5, 'num_groups': 5, 'vote_weight': 1.0}, 'agent_9': {'votes': 5, 'num_groups': 2, 'vote_weight': 2.5}}}\n",
      "50.0\n"
     ]
    }
   ],
   "source": [
    "result_groups, result_aggregate_weight = model_evaluation.first_term(group_dist, vote_dist, result_group_memberships)\n",
    "print(result_groups)\n",
    "print(result_aggregate_weight)"
   ]
  },
  {
   "cell_type": "code",
   "execution_count": 51,
   "metadata": {},
   "outputs": [
    {
     "name": "stdout",
     "output_type": "stream",
     "text": [
      "{'group_0': {'other_group_1': {'components_int_term1': {'agent_i_2': {'vote_attenuation_i': 2.23606797749979, 'num_groups_i': 5, 'vote_weight_i': 0.447213595499958}, 'agent_i_4': {'vote_attenuation_i': 2.23606797749979, 'num_groups_i': 5, 'vote_weight_i': 0.447213595499958}, 'agent_i_6': {'vote_attenuation_i': 2.23606797749979, 'num_groups_i': 5, 'vote_weight_i': 0.447213595499958}, 'agent_i_8': {'vote_attenuation_i': 2.23606797749979, 'num_groups_i': 4, 'vote_weight_i': 0.5590169943749475}}, 'components_int_term2': {'agent_j_0': {'vote_attenuation_j': 2.23606797749979, 'num_groups_j': 3, 'vote_weight_j': 0.7453559924999299}, 'agent_j_2': {'vote_attenuation_j': 2.23606797749979, 'num_groups_j': 5, 'vote_weight_j': 0.447213595499958}, 'agent_j_3': {'vote_attenuation_j': 2.23606797749979, 'num_groups_j': 4, 'vote_weight_j': 0.5590169943749475}, 'agent_j_4': {'vote_attenuation_j': 2.23606797749979, 'num_groups_j': 5, 'vote_weight_j': 0.447213595499958}, 'agent_j_6': {'vote_attenuation_j': 2.23606797749979, 'num_groups_j': 5, 'vote_weight_j': 0.447213595499958}, 'agent_j_7': {'vote_attenuation_j': 2.23606797749979, 'num_groups_j': 2, 'vote_weight_j': 1.118033988749895}, 'agent_j_8': {'vote_attenuation_j': 2.23606797749979, 'num_groups_j': 4, 'vote_weight_j': 0.5590169943749475}}, 'sum_vote_weight_i': 1.9006577808748215, 'sqrt_sum_vote_weight_i': 1.3786434567627779, 'sum_vote_weight_j': 4.323064756499594, 'sqrt_sum_vote_weight_j': 2.0791981041977685, 'multiplied_interaction': 2.866472861665826}, 'other_group_2': {'components_int_term1': {'agent_i_2': {'vote_attenuation_i': 2.23606797749979, 'num_groups_i': 5, 'vote_weight_i': 0.447213595499958}, 'agent_i_4': {'vote_attenuation_i': 2.23606797749979, 'num_groups_i': 5, 'vote_weight_i': 0.447213595499958}, 'agent_i_6': {'vote_attenuation_i': 2.23606797749979, 'num_groups_i': 5, 'vote_weight_i': 0.447213595499958}, 'agent_i_8': {'vote_attenuation_i': 2.23606797749979, 'num_groups_i': 4, 'vote_weight_i': 0.5590169943749475}}, 'components_int_term2': {'agent_j_1': {'vote_attenuation_j': 2.23606797749979, 'num_groups_j': 3, 'vote_weight_j': 0.7453559924999299}, 'agent_j_2': {'vote_attenuation_j': 2.23606797749979, 'num_groups_j': 5, 'vote_weight_j': 0.447213595499958}, 'agent_j_3': {'vote_attenuation_j': 2.23606797749979, 'num_groups_j': 4, 'vote_weight_j': 0.5590169943749475}, 'agent_j_4': {'vote_attenuation_j': 2.23606797749979, 'num_groups_j': 5, 'vote_weight_j': 0.447213595499958}, 'agent_j_5': {'vote_attenuation_j': 2.23606797749979, 'num_groups_j': 1, 'vote_weight_j': 2.23606797749979}, 'agent_j_6': {'vote_attenuation_j': 2.23606797749979, 'num_groups_j': 5, 'vote_weight_j': 0.447213595499958}, 'agent_j_8': {'vote_attenuation_j': 2.23606797749979, 'num_groups_j': 4, 'vote_weight_j': 0.5590169943749475}, 'agent_j_9': {'vote_attenuation_j': 2.23606797749979, 'num_groups_j': 2, 'vote_weight_j': 1.118033988749895}}, 'sum_vote_weight_i': 1.9006577808748215, 'sqrt_sum_vote_weight_i': 1.3786434567627779, 'sum_vote_weight_j': 6.559132733999384, 'sqrt_sum_vote_weight_j': 2.561080384134669, 'multiplied_interaction': 3.530816713830763}, 'other_group_3': {'components_int_term1': {'agent_i_2': {'vote_attenuation_i': 2.23606797749979, 'num_groups_i': 5, 'vote_weight_i': 0.447213595499958}, 'agent_i_4': {'vote_attenuation_i': 2.23606797749979, 'num_groups_i': 5, 'vote_weight_i': 0.447213595499958}, 'agent_i_6': {'vote_attenuation_i': 2.23606797749979, 'num_groups_i': 5, 'vote_weight_i': 0.447213595499958}, 'agent_i_8': {'vote_attenuation_i': 2.23606797749979, 'num_groups_i': 4, 'vote_weight_i': 0.5590169943749475}}, 'components_int_term2': {'agent_j_0': {'vote_attenuation_j': 2.23606797749979, 'num_groups_j': 3, 'vote_weight_j': 0.7453559924999299}, 'agent_j_1': {'vote_attenuation_j': 2.23606797749979, 'num_groups_j': 3, 'vote_weight_j': 0.7453559924999299}, 'agent_j_2': {'vote_attenuation_j': 2.23606797749979, 'num_groups_j': 5, 'vote_weight_j': 0.447213595499958}, 'agent_j_3': {'vote_attenuation_j': 2.23606797749979, 'num_groups_j': 4, 'vote_weight_j': 0.5590169943749475}, 'agent_j_4': {'vote_attenuation_j': 2.23606797749979, 'num_groups_j': 5, 'vote_weight_j': 0.447213595499958}, 'agent_j_6': {'vote_attenuation_j': 2.23606797749979, 'num_groups_j': 5, 'vote_weight_j': 0.447213595499958}, 'agent_j_7': {'vote_attenuation_j': 2.23606797749979, 'num_groups_j': 2, 'vote_weight_j': 1.118033988749895}, 'agent_j_8': {'vote_attenuation_j': 2.23606797749979, 'num_groups_j': 4, 'vote_weight_j': 0.5590169943749475}}, 'sum_vote_weight_i': 1.9006577808748215, 'sqrt_sum_vote_weight_i': 1.3786434567627779, 'sum_vote_weight_j': 5.068420748999523, 'sqrt_sum_vote_weight_j': 2.2513153375303787, 'multiplied_interaction': 3.1037611591959413}, 'other_group_4': {'components_int_term1': {'agent_i_2': {'vote_attenuation_i': 2.23606797749979, 'num_groups_i': 5, 'vote_weight_i': 0.447213595499958}, 'agent_i_4': {'vote_attenuation_i': 2.23606797749979, 'num_groups_i': 5, 'vote_weight_i': 0.447213595499958}, 'agent_i_6': {'vote_attenuation_i': 2.23606797749979, 'num_groups_i': 5, 'vote_weight_i': 0.447213595499958}, 'agent_i_8': {'vote_attenuation_i': 2.23606797749979, 'num_groups_i': 4, 'vote_weight_i': 0.5590169943749475}}, 'components_int_term2': {'agent_j_0': {'vote_attenuation_j': 2.23606797749979, 'num_groups_j': 3, 'vote_weight_j': 0.7453559924999299}, 'agent_j_1': {'vote_attenuation_j': 2.23606797749979, 'num_groups_j': 3, 'vote_weight_j': 0.7453559924999299}, 'agent_j_2': {'vote_attenuation_j': 2.23606797749979, 'num_groups_j': 5, 'vote_weight_j': 0.447213595499958}, 'agent_j_3': {'vote_attenuation_j': 2.23606797749979, 'num_groups_j': 4, 'vote_weight_j': 0.5590169943749475}, 'agent_j_4': {'vote_attenuation_j': 2.23606797749979, 'num_groups_j': 5, 'vote_weight_j': 0.447213595499958}, 'agent_j_6': {'vote_attenuation_j': 2.23606797749979, 'num_groups_j': 5, 'vote_weight_j': 0.447213595499958}, 'agent_j_9': {'vote_attenuation_j': 2.23606797749979, 'num_groups_j': 2, 'vote_weight_j': 1.118033988749895}}, 'sum_vote_weight_i': 1.9006577808748215, 'sqrt_sum_vote_weight_i': 1.3786434567627779, 'sum_vote_weight_j': 4.509403754624576, 'sqrt_sum_vote_weight_j': 2.1235356730284933, 'multiplied_interaction': 2.927598560823074}}, 'group_1': {'other_group_0': {'components_int_term1': {'agent_i_0': {'vote_attenuation_i': 2.23606797749979, 'num_groups_i': 3, 'vote_weight_i': 0.7453559924999299}, 'agent_i_2': {'vote_attenuation_i': 2.23606797749979, 'num_groups_i': 5, 'vote_weight_i': 0.447213595499958}, 'agent_i_3': {'vote_attenuation_i': 2.23606797749979, 'num_groups_i': 4, 'vote_weight_i': 0.5590169943749475}, 'agent_i_4': {'vote_attenuation_i': 2.23606797749979, 'num_groups_i': 5, 'vote_weight_i': 0.447213595499958}, 'agent_i_6': {'vote_attenuation_i': 2.23606797749979, 'num_groups_i': 5, 'vote_weight_i': 0.447213595499958}, 'agent_i_7': {'vote_attenuation_i': 2.23606797749979, 'num_groups_i': 2, 'vote_weight_i': 1.118033988749895}, 'agent_i_8': {'vote_attenuation_i': 2.23606797749979, 'num_groups_i': 4, 'vote_weight_i': 0.5590169943749475}}, 'components_int_term2': {'agent_j_2': {'vote_attenuation_j': 2.23606797749979, 'num_groups_j': 5, 'vote_weight_j': 0.447213595499958}, 'agent_j_4': {'vote_attenuation_j': 2.23606797749979, 'num_groups_j': 5, 'vote_weight_j': 0.447213595499958}, 'agent_j_6': {'vote_attenuation_j': 2.23606797749979, 'num_groups_j': 5, 'vote_weight_j': 0.447213595499958}, 'agent_j_8': {'vote_attenuation_j': 2.23606797749979, 'num_groups_j': 4, 'vote_weight_j': 0.5590169943749475}}, 'sum_vote_weight_i': 4.323064756499594, 'sqrt_sum_vote_weight_i': 2.0791981041977685, 'sum_vote_weight_j': 1.9006577808748215, 'sqrt_sum_vote_weight_j': 1.3786434567627779, 'multiplied_interaction': 2.866472861665826}, 'other_group_2': {'components_int_term1': {'agent_i_0': {'vote_attenuation_i': 2.23606797749979, 'num_groups_i': 3, 'vote_weight_i': 0.7453559924999299}, 'agent_i_2': {'vote_attenuation_i': 2.23606797749979, 'num_groups_i': 5, 'vote_weight_i': 0.447213595499958}, 'agent_i_3': {'vote_attenuation_i': 2.23606797749979, 'num_groups_i': 4, 'vote_weight_i': 0.5590169943749475}, 'agent_i_4': {'vote_attenuation_i': 2.23606797749979, 'num_groups_i': 5, 'vote_weight_i': 0.447213595499958}, 'agent_i_6': {'vote_attenuation_i': 2.23606797749979, 'num_groups_i': 5, 'vote_weight_i': 0.447213595499958}, 'agent_i_7': {'vote_attenuation_i': 2.23606797749979, 'num_groups_i': 2, 'vote_weight_i': 1.118033988749895}, 'agent_i_8': {'vote_attenuation_i': 2.23606797749979, 'num_groups_i': 4, 'vote_weight_i': 0.5590169943749475}}, 'components_int_term2': {'agent_j_1': {'vote_attenuation_j': 2.23606797749979, 'num_groups_j': 3, 'vote_weight_j': 0.7453559924999299}, 'agent_j_2': {'vote_attenuation_j': 2.23606797749979, 'num_groups_j': 5, 'vote_weight_j': 0.447213595499958}, 'agent_j_3': {'vote_attenuation_j': 2.23606797749979, 'num_groups_j': 4, 'vote_weight_j': 0.5590169943749475}, 'agent_j_4': {'vote_attenuation_j': 2.23606797749979, 'num_groups_j': 5, 'vote_weight_j': 0.447213595499958}, 'agent_j_5': {'vote_attenuation_j': 2.23606797749979, 'num_groups_j': 1, 'vote_weight_j': 2.23606797749979}, 'agent_j_6': {'vote_attenuation_j': 2.23606797749979, 'num_groups_j': 5, 'vote_weight_j': 0.447213595499958}, 'agent_j_8': {'vote_attenuation_j': 2.23606797749979, 'num_groups_j': 4, 'vote_weight_j': 0.5590169943749475}, 'agent_j_9': {'vote_attenuation_j': 2.23606797749979, 'num_groups_j': 2, 'vote_weight_j': 1.118033988749895}}, 'sum_vote_weight_i': 4.323064756499594, 'sqrt_sum_vote_weight_i': 2.0791981041977685, 'sum_vote_weight_j': 6.559132733999384, 'sqrt_sum_vote_weight_j': 2.561080384134669, 'multiplied_interaction': 5.324993479390897}, 'other_group_3': {'components_int_term1': {'agent_i_0': {'vote_attenuation_i': 2.23606797749979, 'num_groups_i': 3, 'vote_weight_i': 0.7453559924999299}, 'agent_i_2': {'vote_attenuation_i': 2.23606797749979, 'num_groups_i': 5, 'vote_weight_i': 0.447213595499958}, 'agent_i_3': {'vote_attenuation_i': 2.23606797749979, 'num_groups_i': 4, 'vote_weight_i': 0.5590169943749475}, 'agent_i_4': {'vote_attenuation_i': 2.23606797749979, 'num_groups_i': 5, 'vote_weight_i': 0.447213595499958}, 'agent_i_6': {'vote_attenuation_i': 2.23606797749979, 'num_groups_i': 5, 'vote_weight_i': 0.447213595499958}, 'agent_i_7': {'vote_attenuation_i': 2.23606797749979, 'num_groups_i': 2, 'vote_weight_i': 1.118033988749895}, 'agent_i_8': {'vote_attenuation_i': 2.23606797749979, 'num_groups_i': 4, 'vote_weight_i': 0.5590169943749475}}, 'components_int_term2': {'agent_j_0': {'vote_attenuation_j': 2.23606797749979, 'num_groups_j': 3, 'vote_weight_j': 0.7453559924999299}, 'agent_j_1': {'vote_attenuation_j': 2.23606797749979, 'num_groups_j': 3, 'vote_weight_j': 0.7453559924999299}, 'agent_j_2': {'vote_attenuation_j': 2.23606797749979, 'num_groups_j': 5, 'vote_weight_j': 0.447213595499958}, 'agent_j_3': {'vote_attenuation_j': 2.23606797749979, 'num_groups_j': 4, 'vote_weight_j': 0.5590169943749475}, 'agent_j_4': {'vote_attenuation_j': 2.23606797749979, 'num_groups_j': 5, 'vote_weight_j': 0.447213595499958}, 'agent_j_6': {'vote_attenuation_j': 2.23606797749979, 'num_groups_j': 5, 'vote_weight_j': 0.447213595499958}, 'agent_j_7': {'vote_attenuation_j': 2.23606797749979, 'num_groups_j': 2, 'vote_weight_j': 1.118033988749895}, 'agent_j_8': {'vote_attenuation_j': 2.23606797749979, 'num_groups_j': 4, 'vote_weight_j': 0.5590169943749475}}, 'sum_vote_weight_i': 4.323064756499594, 'sqrt_sum_vote_weight_i': 2.0791981041977685, 'sum_vote_weight_j': 5.068420748999523, 'sqrt_sum_vote_weight_j': 2.2513153375303787, 'multiplied_interaction': 4.680930581744523}, 'other_group_4': {'components_int_term1': {'agent_i_0': {'vote_attenuation_i': 2.23606797749979, 'num_groups_i': 3, 'vote_weight_i': 0.7453559924999299}, 'agent_i_2': {'vote_attenuation_i': 2.23606797749979, 'num_groups_i': 5, 'vote_weight_i': 0.447213595499958}, 'agent_i_3': {'vote_attenuation_i': 2.23606797749979, 'num_groups_i': 4, 'vote_weight_i': 0.5590169943749475}, 'agent_i_4': {'vote_attenuation_i': 2.23606797749979, 'num_groups_i': 5, 'vote_weight_i': 0.447213595499958}, 'agent_i_6': {'vote_attenuation_i': 2.23606797749979, 'num_groups_i': 5, 'vote_weight_i': 0.447213595499958}, 'agent_i_7': {'vote_attenuation_i': 2.23606797749979, 'num_groups_i': 2, 'vote_weight_i': 1.118033988749895}, 'agent_i_8': {'vote_attenuation_i': 2.23606797749979, 'num_groups_i': 4, 'vote_weight_i': 0.5590169943749475}}, 'components_int_term2': {'agent_j_0': {'vote_attenuation_j': 2.23606797749979, 'num_groups_j': 3, 'vote_weight_j': 0.7453559924999299}, 'agent_j_1': {'vote_attenuation_j': 2.23606797749979, 'num_groups_j': 3, 'vote_weight_j': 0.7453559924999299}, 'agent_j_2': {'vote_attenuation_j': 2.23606797749979, 'num_groups_j': 5, 'vote_weight_j': 0.447213595499958}, 'agent_j_3': {'vote_attenuation_j': 2.23606797749979, 'num_groups_j': 4, 'vote_weight_j': 0.5590169943749475}, 'agent_j_4': {'vote_attenuation_j': 2.23606797749979, 'num_groups_j': 5, 'vote_weight_j': 0.447213595499958}, 'agent_j_6': {'vote_attenuation_j': 2.23606797749979, 'num_groups_j': 5, 'vote_weight_j': 0.447213595499958}, 'agent_j_9': {'vote_attenuation_j': 2.23606797749979, 'num_groups_j': 2, 'vote_weight_j': 1.118033988749895}}, 'sum_vote_weight_i': 4.323064756499594, 'sqrt_sum_vote_weight_i': 2.0791981041977685, 'sum_vote_weight_j': 4.509403754624576, 'sqrt_sum_vote_weight_j': 2.1235356730284933, 'multiplied_interaction': 4.415251345557175}}, 'group_2': {'other_group_0': {'components_int_term1': {'agent_i_1': {'vote_attenuation_i': 2.23606797749979, 'num_groups_i': 3, 'vote_weight_i': 0.7453559924999299}, 'agent_i_2': {'vote_attenuation_i': 2.23606797749979, 'num_groups_i': 5, 'vote_weight_i': 0.447213595499958}, 'agent_i_3': {'vote_attenuation_i': 2.23606797749979, 'num_groups_i': 4, 'vote_weight_i': 0.5590169943749475}, 'agent_i_4': {'vote_attenuation_i': 2.23606797749979, 'num_groups_i': 5, 'vote_weight_i': 0.447213595499958}, 'agent_i_5': {'vote_attenuation_i': 2.23606797749979, 'num_groups_i': 1, 'vote_weight_i': 2.23606797749979}, 'agent_i_6': {'vote_attenuation_i': 2.23606797749979, 'num_groups_i': 5, 'vote_weight_i': 0.447213595499958}, 'agent_i_8': {'vote_attenuation_i': 2.23606797749979, 'num_groups_i': 4, 'vote_weight_i': 0.5590169943749475}, 'agent_i_9': {'vote_attenuation_i': 2.23606797749979, 'num_groups_i': 2, 'vote_weight_i': 1.118033988749895}}, 'components_int_term2': {'agent_j_2': {'vote_attenuation_j': 2.23606797749979, 'num_groups_j': 5, 'vote_weight_j': 0.447213595499958}, 'agent_j_4': {'vote_attenuation_j': 2.23606797749979, 'num_groups_j': 5, 'vote_weight_j': 0.447213595499958}, 'agent_j_6': {'vote_attenuation_j': 2.23606797749979, 'num_groups_j': 5, 'vote_weight_j': 0.447213595499958}, 'agent_j_8': {'vote_attenuation_j': 2.23606797749979, 'num_groups_j': 4, 'vote_weight_j': 0.5590169943749475}}, 'sum_vote_weight_i': 6.559132733999384, 'sqrt_sum_vote_weight_i': 2.561080384134669, 'sum_vote_weight_j': 1.9006577808748215, 'sqrt_sum_vote_weight_j': 1.3786434567627779, 'multiplied_interaction': 3.530816713830763}, 'other_group_1': {'components_int_term1': {'agent_i_1': {'vote_attenuation_i': 2.23606797749979, 'num_groups_i': 3, 'vote_weight_i': 0.7453559924999299}, 'agent_i_2': {'vote_attenuation_i': 2.23606797749979, 'num_groups_i': 5, 'vote_weight_i': 0.447213595499958}, 'agent_i_3': {'vote_attenuation_i': 2.23606797749979, 'num_groups_i': 4, 'vote_weight_i': 0.5590169943749475}, 'agent_i_4': {'vote_attenuation_i': 2.23606797749979, 'num_groups_i': 5, 'vote_weight_i': 0.447213595499958}, 'agent_i_5': {'vote_attenuation_i': 2.23606797749979, 'num_groups_i': 1, 'vote_weight_i': 2.23606797749979}, 'agent_i_6': {'vote_attenuation_i': 2.23606797749979, 'num_groups_i': 5, 'vote_weight_i': 0.447213595499958}, 'agent_i_8': {'vote_attenuation_i': 2.23606797749979, 'num_groups_i': 4, 'vote_weight_i': 0.5590169943749475}, 'agent_i_9': {'vote_attenuation_i': 2.23606797749979, 'num_groups_i': 2, 'vote_weight_i': 1.118033988749895}}, 'components_int_term2': {'agent_j_0': {'vote_attenuation_j': 2.23606797749979, 'num_groups_j': 3, 'vote_weight_j': 0.7453559924999299}, 'agent_j_2': {'vote_attenuation_j': 2.23606797749979, 'num_groups_j': 5, 'vote_weight_j': 0.447213595499958}, 'agent_j_3': {'vote_attenuation_j': 2.23606797749979, 'num_groups_j': 4, 'vote_weight_j': 0.5590169943749475}, 'agent_j_4': {'vote_attenuation_j': 2.23606797749979, 'num_groups_j': 5, 'vote_weight_j': 0.447213595499958}, 'agent_j_6': {'vote_attenuation_j': 2.23606797749979, 'num_groups_j': 5, 'vote_weight_j': 0.447213595499958}, 'agent_j_7': {'vote_attenuation_j': 2.23606797749979, 'num_groups_j': 2, 'vote_weight_j': 1.118033988749895}, 'agent_j_8': {'vote_attenuation_j': 2.23606797749979, 'num_groups_j': 4, 'vote_weight_j': 0.5590169943749475}}, 'sum_vote_weight_i': 6.559132733999384, 'sqrt_sum_vote_weight_i': 2.561080384134669, 'sum_vote_weight_j': 4.323064756499594, 'sqrt_sum_vote_weight_j': 2.0791981041977685, 'multiplied_interaction': 5.324993479390897}, 'other_group_3': {'components_int_term1': {'agent_i_1': {'vote_attenuation_i': 2.23606797749979, 'num_groups_i': 3, 'vote_weight_i': 0.7453559924999299}, 'agent_i_2': {'vote_attenuation_i': 2.23606797749979, 'num_groups_i': 5, 'vote_weight_i': 0.447213595499958}, 'agent_i_3': {'vote_attenuation_i': 2.23606797749979, 'num_groups_i': 4, 'vote_weight_i': 0.5590169943749475}, 'agent_i_4': {'vote_attenuation_i': 2.23606797749979, 'num_groups_i': 5, 'vote_weight_i': 0.447213595499958}, 'agent_i_5': {'vote_attenuation_i': 2.23606797749979, 'num_groups_i': 1, 'vote_weight_i': 2.23606797749979}, 'agent_i_6': {'vote_attenuation_i': 2.23606797749979, 'num_groups_i': 5, 'vote_weight_i': 0.447213595499958}, 'agent_i_8': {'vote_attenuation_i': 2.23606797749979, 'num_groups_i': 4, 'vote_weight_i': 0.5590169943749475}, 'agent_i_9': {'vote_attenuation_i': 2.23606797749979, 'num_groups_i': 2, 'vote_weight_i': 1.118033988749895}}, 'components_int_term2': {'agent_j_0': {'vote_attenuation_j': 2.23606797749979, 'num_groups_j': 3, 'vote_weight_j': 0.7453559924999299}, 'agent_j_1': {'vote_attenuation_j': 2.23606797749979, 'num_groups_j': 3, 'vote_weight_j': 0.7453559924999299}, 'agent_j_2': {'vote_attenuation_j': 2.23606797749979, 'num_groups_j': 5, 'vote_weight_j': 0.447213595499958}, 'agent_j_3': {'vote_attenuation_j': 2.23606797749979, 'num_groups_j': 4, 'vote_weight_j': 0.5590169943749475}, 'agent_j_4': {'vote_attenuation_j': 2.23606797749979, 'num_groups_j': 5, 'vote_weight_j': 0.447213595499958}, 'agent_j_6': {'vote_attenuation_j': 2.23606797749979, 'num_groups_j': 5, 'vote_weight_j': 0.447213595499958}, 'agent_j_7': {'vote_attenuation_j': 2.23606797749979, 'num_groups_j': 2, 'vote_weight_j': 1.118033988749895}, 'agent_j_8': {'vote_attenuation_j': 2.23606797749979, 'num_groups_j': 4, 'vote_weight_j': 0.5590169943749475}}, 'sum_vote_weight_i': 6.559132733999384, 'sqrt_sum_vote_weight_i': 2.561080384134669, 'sum_vote_weight_j': 5.068420748999523, 'sqrt_sum_vote_weight_j': 2.2513153375303787, 'multiplied_interaction': 5.765799549450574}, 'other_group_4': {'components_int_term1': {'agent_i_1': {'vote_attenuation_i': 2.23606797749979, 'num_groups_i': 3, 'vote_weight_i': 0.7453559924999299}, 'agent_i_2': {'vote_attenuation_i': 2.23606797749979, 'num_groups_i': 5, 'vote_weight_i': 0.447213595499958}, 'agent_i_3': {'vote_attenuation_i': 2.23606797749979, 'num_groups_i': 4, 'vote_weight_i': 0.5590169943749475}, 'agent_i_4': {'vote_attenuation_i': 2.23606797749979, 'num_groups_i': 5, 'vote_weight_i': 0.447213595499958}, 'agent_i_5': {'vote_attenuation_i': 2.23606797749979, 'num_groups_i': 1, 'vote_weight_i': 2.23606797749979}, 'agent_i_6': {'vote_attenuation_i': 2.23606797749979, 'num_groups_i': 5, 'vote_weight_i': 0.447213595499958}, 'agent_i_8': {'vote_attenuation_i': 2.23606797749979, 'num_groups_i': 4, 'vote_weight_i': 0.5590169943749475}, 'agent_i_9': {'vote_attenuation_i': 2.23606797749979, 'num_groups_i': 2, 'vote_weight_i': 1.118033988749895}}, 'components_int_term2': {'agent_j_0': {'vote_attenuation_j': 2.23606797749979, 'num_groups_j': 3, 'vote_weight_j': 0.7453559924999299}, 'agent_j_1': {'vote_attenuation_j': 2.23606797749979, 'num_groups_j': 3, 'vote_weight_j': 0.7453559924999299}, 'agent_j_2': {'vote_attenuation_j': 2.23606797749979, 'num_groups_j': 5, 'vote_weight_j': 0.447213595499958}, 'agent_j_3': {'vote_attenuation_j': 2.23606797749979, 'num_groups_j': 4, 'vote_weight_j': 0.5590169943749475}, 'agent_j_4': {'vote_attenuation_j': 2.23606797749979, 'num_groups_j': 5, 'vote_weight_j': 0.447213595499958}, 'agent_j_6': {'vote_attenuation_j': 2.23606797749979, 'num_groups_j': 5, 'vote_weight_j': 0.447213595499958}, 'agent_j_9': {'vote_attenuation_j': 2.23606797749979, 'num_groups_j': 2, 'vote_weight_j': 1.118033988749895}}, 'sum_vote_weight_i': 6.559132733999384, 'sqrt_sum_vote_weight_i': 2.561080384134669, 'sum_vote_weight_j': 4.509403754624576, 'sqrt_sum_vote_weight_j': 2.1235356730284933, 'multiplied_interaction': 5.438545557203486}}, 'group_3': {'other_group_0': {'components_int_term1': {'agent_i_0': {'vote_attenuation_i': 2.23606797749979, 'num_groups_i': 3, 'vote_weight_i': 0.7453559924999299}, 'agent_i_1': {'vote_attenuation_i': 2.23606797749979, 'num_groups_i': 3, 'vote_weight_i': 0.7453559924999299}, 'agent_i_2': {'vote_attenuation_i': 2.23606797749979, 'num_groups_i': 5, 'vote_weight_i': 0.447213595499958}, 'agent_i_3': {'vote_attenuation_i': 2.23606797749979, 'num_groups_i': 4, 'vote_weight_i': 0.5590169943749475}, 'agent_i_4': {'vote_attenuation_i': 2.23606797749979, 'num_groups_i': 5, 'vote_weight_i': 0.447213595499958}, 'agent_i_6': {'vote_attenuation_i': 2.23606797749979, 'num_groups_i': 5, 'vote_weight_i': 0.447213595499958}, 'agent_i_7': {'vote_attenuation_i': 2.23606797749979, 'num_groups_i': 2, 'vote_weight_i': 1.118033988749895}, 'agent_i_8': {'vote_attenuation_i': 2.23606797749979, 'num_groups_i': 4, 'vote_weight_i': 0.5590169943749475}}, 'components_int_term2': {'agent_j_2': {'vote_attenuation_j': 2.23606797749979, 'num_groups_j': 5, 'vote_weight_j': 0.447213595499958}, 'agent_j_4': {'vote_attenuation_j': 2.23606797749979, 'num_groups_j': 5, 'vote_weight_j': 0.447213595499958}, 'agent_j_6': {'vote_attenuation_j': 2.23606797749979, 'num_groups_j': 5, 'vote_weight_j': 0.447213595499958}, 'agent_j_8': {'vote_attenuation_j': 2.23606797749979, 'num_groups_j': 4, 'vote_weight_j': 0.5590169943749475}}, 'sum_vote_weight_i': 5.068420748999523, 'sqrt_sum_vote_weight_i': 2.2513153375303787, 'sum_vote_weight_j': 1.9006577808748215, 'sqrt_sum_vote_weight_j': 1.3786434567627779, 'multiplied_interaction': 3.1037611591959413}, 'other_group_1': {'components_int_term1': {'agent_i_0': {'vote_attenuation_i': 2.23606797749979, 'num_groups_i': 3, 'vote_weight_i': 0.7453559924999299}, 'agent_i_1': {'vote_attenuation_i': 2.23606797749979, 'num_groups_i': 3, 'vote_weight_i': 0.7453559924999299}, 'agent_i_2': {'vote_attenuation_i': 2.23606797749979, 'num_groups_i': 5, 'vote_weight_i': 0.447213595499958}, 'agent_i_3': {'vote_attenuation_i': 2.23606797749979, 'num_groups_i': 4, 'vote_weight_i': 0.5590169943749475}, 'agent_i_4': {'vote_attenuation_i': 2.23606797749979, 'num_groups_i': 5, 'vote_weight_i': 0.447213595499958}, 'agent_i_6': {'vote_attenuation_i': 2.23606797749979, 'num_groups_i': 5, 'vote_weight_i': 0.447213595499958}, 'agent_i_7': {'vote_attenuation_i': 2.23606797749979, 'num_groups_i': 2, 'vote_weight_i': 1.118033988749895}, 'agent_i_8': {'vote_attenuation_i': 2.23606797749979, 'num_groups_i': 4, 'vote_weight_i': 0.5590169943749475}}, 'components_int_term2': {'agent_j_0': {'vote_attenuation_j': 2.23606797749979, 'num_groups_j': 3, 'vote_weight_j': 0.7453559924999299}, 'agent_j_2': {'vote_attenuation_j': 2.23606797749979, 'num_groups_j': 5, 'vote_weight_j': 0.447213595499958}, 'agent_j_3': {'vote_attenuation_j': 2.23606797749979, 'num_groups_j': 4, 'vote_weight_j': 0.5590169943749475}, 'agent_j_4': {'vote_attenuation_j': 2.23606797749979, 'num_groups_j': 5, 'vote_weight_j': 0.447213595499958}, 'agent_j_6': {'vote_attenuation_j': 2.23606797749979, 'num_groups_j': 5, 'vote_weight_j': 0.447213595499958}, 'agent_j_7': {'vote_attenuation_j': 2.23606797749979, 'num_groups_j': 2, 'vote_weight_j': 1.118033988749895}, 'agent_j_8': {'vote_attenuation_j': 2.23606797749979, 'num_groups_j': 4, 'vote_weight_j': 0.5590169943749475}}, 'sum_vote_weight_i': 5.068420748999523, 'sqrt_sum_vote_weight_i': 2.2513153375303787, 'sum_vote_weight_j': 4.323064756499594, 'sqrt_sum_vote_weight_j': 2.0791981041977685, 'multiplied_interaction': 4.680930581744523}, 'other_group_2': {'components_int_term1': {'agent_i_0': {'vote_attenuation_i': 2.23606797749979, 'num_groups_i': 3, 'vote_weight_i': 0.7453559924999299}, 'agent_i_1': {'vote_attenuation_i': 2.23606797749979, 'num_groups_i': 3, 'vote_weight_i': 0.7453559924999299}, 'agent_i_2': {'vote_attenuation_i': 2.23606797749979, 'num_groups_i': 5, 'vote_weight_i': 0.447213595499958}, 'agent_i_3': {'vote_attenuation_i': 2.23606797749979, 'num_groups_i': 4, 'vote_weight_i': 0.5590169943749475}, 'agent_i_4': {'vote_attenuation_i': 2.23606797749979, 'num_groups_i': 5, 'vote_weight_i': 0.447213595499958}, 'agent_i_6': {'vote_attenuation_i': 2.23606797749979, 'num_groups_i': 5, 'vote_weight_i': 0.447213595499958}, 'agent_i_7': {'vote_attenuation_i': 2.23606797749979, 'num_groups_i': 2, 'vote_weight_i': 1.118033988749895}, 'agent_i_8': {'vote_attenuation_i': 2.23606797749979, 'num_groups_i': 4, 'vote_weight_i': 0.5590169943749475}}, 'components_int_term2': {'agent_j_1': {'vote_attenuation_j': 2.23606797749979, 'num_groups_j': 3, 'vote_weight_j': 0.7453559924999299}, 'agent_j_2': {'vote_attenuation_j': 2.23606797749979, 'num_groups_j': 5, 'vote_weight_j': 0.447213595499958}, 'agent_j_3': {'vote_attenuation_j': 2.23606797749979, 'num_groups_j': 4, 'vote_weight_j': 0.5590169943749475}, 'agent_j_4': {'vote_attenuation_j': 2.23606797749979, 'num_groups_j': 5, 'vote_weight_j': 0.447213595499958}, 'agent_j_5': {'vote_attenuation_j': 2.23606797749979, 'num_groups_j': 1, 'vote_weight_j': 2.23606797749979}, 'agent_j_6': {'vote_attenuation_j': 2.23606797749979, 'num_groups_j': 5, 'vote_weight_j': 0.447213595499958}, 'agent_j_8': {'vote_attenuation_j': 2.23606797749979, 'num_groups_j': 4, 'vote_weight_j': 0.5590169943749475}, 'agent_j_9': {'vote_attenuation_j': 2.23606797749979, 'num_groups_j': 2, 'vote_weight_j': 1.118033988749895}}, 'sum_vote_weight_i': 5.068420748999523, 'sqrt_sum_vote_weight_i': 2.2513153375303787, 'sum_vote_weight_j': 6.559132733999384, 'sqrt_sum_vote_weight_j': 2.561080384134669, 'multiplied_interaction': 5.765799549450574}, 'other_group_4': {'components_int_term1': {'agent_i_0': {'vote_attenuation_i': 2.23606797749979, 'num_groups_i': 3, 'vote_weight_i': 0.7453559924999299}, 'agent_i_1': {'vote_attenuation_i': 2.23606797749979, 'num_groups_i': 3, 'vote_weight_i': 0.7453559924999299}, 'agent_i_2': {'vote_attenuation_i': 2.23606797749979, 'num_groups_i': 5, 'vote_weight_i': 0.447213595499958}, 'agent_i_3': {'vote_attenuation_i': 2.23606797749979, 'num_groups_i': 4, 'vote_weight_i': 0.5590169943749475}, 'agent_i_4': {'vote_attenuation_i': 2.23606797749979, 'num_groups_i': 5, 'vote_weight_i': 0.447213595499958}, 'agent_i_6': {'vote_attenuation_i': 2.23606797749979, 'num_groups_i': 5, 'vote_weight_i': 0.447213595499958}, 'agent_i_7': {'vote_attenuation_i': 2.23606797749979, 'num_groups_i': 2, 'vote_weight_i': 1.118033988749895}, 'agent_i_8': {'vote_attenuation_i': 2.23606797749979, 'num_groups_i': 4, 'vote_weight_i': 0.5590169943749475}}, 'components_int_term2': {'agent_j_0': {'vote_attenuation_j': 2.23606797749979, 'num_groups_j': 3, 'vote_weight_j': 0.7453559924999299}, 'agent_j_1': {'vote_attenuation_j': 2.23606797749979, 'num_groups_j': 3, 'vote_weight_j': 0.7453559924999299}, 'agent_j_2': {'vote_attenuation_j': 2.23606797749979, 'num_groups_j': 5, 'vote_weight_j': 0.447213595499958}, 'agent_j_3': {'vote_attenuation_j': 2.23606797749979, 'num_groups_j': 4, 'vote_weight_j': 0.5590169943749475}, 'agent_j_4': {'vote_attenuation_j': 2.23606797749979, 'num_groups_j': 5, 'vote_weight_j': 0.447213595499958}, 'agent_j_6': {'vote_attenuation_j': 2.23606797749979, 'num_groups_j': 5, 'vote_weight_j': 0.447213595499958}, 'agent_j_9': {'vote_attenuation_j': 2.23606797749979, 'num_groups_j': 2, 'vote_weight_j': 1.118033988749895}}, 'sum_vote_weight_i': 5.068420748999523, 'sqrt_sum_vote_weight_i': 2.2513153375303787, 'sum_vote_weight_j': 4.509403754624576, 'sqrt_sum_vote_weight_j': 2.1235356730284933, 'multiplied_interaction': 4.7807484304819425}}, 'group_4': {'other_group_0': {'components_int_term1': {'agent_i_0': {'vote_attenuation_i': 2.23606797749979, 'num_groups_i': 3, 'vote_weight_i': 0.7453559924999299}, 'agent_i_1': {'vote_attenuation_i': 2.23606797749979, 'num_groups_i': 3, 'vote_weight_i': 0.7453559924999299}, 'agent_i_2': {'vote_attenuation_i': 2.23606797749979, 'num_groups_i': 5, 'vote_weight_i': 0.447213595499958}, 'agent_i_3': {'vote_attenuation_i': 2.23606797749979, 'num_groups_i': 4, 'vote_weight_i': 0.5590169943749475}, 'agent_i_4': {'vote_attenuation_i': 2.23606797749979, 'num_groups_i': 5, 'vote_weight_i': 0.447213595499958}, 'agent_i_6': {'vote_attenuation_i': 2.23606797749979, 'num_groups_i': 5, 'vote_weight_i': 0.447213595499958}, 'agent_i_9': {'vote_attenuation_i': 2.23606797749979, 'num_groups_i': 2, 'vote_weight_i': 1.118033988749895}}, 'components_int_term2': {'agent_j_2': {'vote_attenuation_j': 2.23606797749979, 'num_groups_j': 5, 'vote_weight_j': 0.447213595499958}, 'agent_j_4': {'vote_attenuation_j': 2.23606797749979, 'num_groups_j': 5, 'vote_weight_j': 0.447213595499958}, 'agent_j_6': {'vote_attenuation_j': 2.23606797749979, 'num_groups_j': 5, 'vote_weight_j': 0.447213595499958}, 'agent_j_8': {'vote_attenuation_j': 2.23606797749979, 'num_groups_j': 4, 'vote_weight_j': 0.5590169943749475}}, 'sum_vote_weight_i': 4.509403754624576, 'sqrt_sum_vote_weight_i': 2.1235356730284933, 'sum_vote_weight_j': 1.9006577808748215, 'sqrt_sum_vote_weight_j': 1.3786434567627779, 'multiplied_interaction': 2.927598560823074}, 'other_group_1': {'components_int_term1': {'agent_i_0': {'vote_attenuation_i': 2.23606797749979, 'num_groups_i': 3, 'vote_weight_i': 0.7453559924999299}, 'agent_i_1': {'vote_attenuation_i': 2.23606797749979, 'num_groups_i': 3, 'vote_weight_i': 0.7453559924999299}, 'agent_i_2': {'vote_attenuation_i': 2.23606797749979, 'num_groups_i': 5, 'vote_weight_i': 0.447213595499958}, 'agent_i_3': {'vote_attenuation_i': 2.23606797749979, 'num_groups_i': 4, 'vote_weight_i': 0.5590169943749475}, 'agent_i_4': {'vote_attenuation_i': 2.23606797749979, 'num_groups_i': 5, 'vote_weight_i': 0.447213595499958}, 'agent_i_6': {'vote_attenuation_i': 2.23606797749979, 'num_groups_i': 5, 'vote_weight_i': 0.447213595499958}, 'agent_i_9': {'vote_attenuation_i': 2.23606797749979, 'num_groups_i': 2, 'vote_weight_i': 1.118033988749895}}, 'components_int_term2': {'agent_j_0': {'vote_attenuation_j': 2.23606797749979, 'num_groups_j': 3, 'vote_weight_j': 0.7453559924999299}, 'agent_j_2': {'vote_attenuation_j': 2.23606797749979, 'num_groups_j': 5, 'vote_weight_j': 0.447213595499958}, 'agent_j_3': {'vote_attenuation_j': 2.23606797749979, 'num_groups_j': 4, 'vote_weight_j': 0.5590169943749475}, 'agent_j_4': {'vote_attenuation_j': 2.23606797749979, 'num_groups_j': 5, 'vote_weight_j': 0.447213595499958}, 'agent_j_6': {'vote_attenuation_j': 2.23606797749979, 'num_groups_j': 5, 'vote_weight_j': 0.447213595499958}, 'agent_j_7': {'vote_attenuation_j': 2.23606797749979, 'num_groups_j': 2, 'vote_weight_j': 1.118033988749895}, 'agent_j_8': {'vote_attenuation_j': 2.23606797749979, 'num_groups_j': 4, 'vote_weight_j': 0.5590169943749475}}, 'sum_vote_weight_i': 4.509403754624576, 'sqrt_sum_vote_weight_i': 2.1235356730284933, 'sum_vote_weight_j': 4.323064756499594, 'sqrt_sum_vote_weight_j': 2.0791981041977685, 'multiplied_interaction': 4.415251345557175}, 'other_group_2': {'components_int_term1': {'agent_i_0': {'vote_attenuation_i': 2.23606797749979, 'num_groups_i': 3, 'vote_weight_i': 0.7453559924999299}, 'agent_i_1': {'vote_attenuation_i': 2.23606797749979, 'num_groups_i': 3, 'vote_weight_i': 0.7453559924999299}, 'agent_i_2': {'vote_attenuation_i': 2.23606797749979, 'num_groups_i': 5, 'vote_weight_i': 0.447213595499958}, 'agent_i_3': {'vote_attenuation_i': 2.23606797749979, 'num_groups_i': 4, 'vote_weight_i': 0.5590169943749475}, 'agent_i_4': {'vote_attenuation_i': 2.23606797749979, 'num_groups_i': 5, 'vote_weight_i': 0.447213595499958}, 'agent_i_6': {'vote_attenuation_i': 2.23606797749979, 'num_groups_i': 5, 'vote_weight_i': 0.447213595499958}, 'agent_i_9': {'vote_attenuation_i': 2.23606797749979, 'num_groups_i': 2, 'vote_weight_i': 1.118033988749895}}, 'components_int_term2': {'agent_j_1': {'vote_attenuation_j': 2.23606797749979, 'num_groups_j': 3, 'vote_weight_j': 0.7453559924999299}, 'agent_j_2': {'vote_attenuation_j': 2.23606797749979, 'num_groups_j': 5, 'vote_weight_j': 0.447213595499958}, 'agent_j_3': {'vote_attenuation_j': 2.23606797749979, 'num_groups_j': 4, 'vote_weight_j': 0.5590169943749475}, 'agent_j_4': {'vote_attenuation_j': 2.23606797749979, 'num_groups_j': 5, 'vote_weight_j': 0.447213595499958}, 'agent_j_5': {'vote_attenuation_j': 2.23606797749979, 'num_groups_j': 1, 'vote_weight_j': 2.23606797749979}, 'agent_j_6': {'vote_attenuation_j': 2.23606797749979, 'num_groups_j': 5, 'vote_weight_j': 0.447213595499958}, 'agent_j_8': {'vote_attenuation_j': 2.23606797749979, 'num_groups_j': 4, 'vote_weight_j': 0.5590169943749475}, 'agent_j_9': {'vote_attenuation_j': 2.23606797749979, 'num_groups_j': 2, 'vote_weight_j': 1.118033988749895}}, 'sum_vote_weight_i': 4.509403754624576, 'sqrt_sum_vote_weight_i': 2.1235356730284933, 'sum_vote_weight_j': 6.559132733999384, 'sqrt_sum_vote_weight_j': 2.561080384134669, 'multiplied_interaction': 5.438545557203486}, 'other_group_3': {'components_int_term1': {'agent_i_0': {'vote_attenuation_i': 2.23606797749979, 'num_groups_i': 3, 'vote_weight_i': 0.7453559924999299}, 'agent_i_1': {'vote_attenuation_i': 2.23606797749979, 'num_groups_i': 3, 'vote_weight_i': 0.7453559924999299}, 'agent_i_2': {'vote_attenuation_i': 2.23606797749979, 'num_groups_i': 5, 'vote_weight_i': 0.447213595499958}, 'agent_i_3': {'vote_attenuation_i': 2.23606797749979, 'num_groups_i': 4, 'vote_weight_i': 0.5590169943749475}, 'agent_i_4': {'vote_attenuation_i': 2.23606797749979, 'num_groups_i': 5, 'vote_weight_i': 0.447213595499958}, 'agent_i_6': {'vote_attenuation_i': 2.23606797749979, 'num_groups_i': 5, 'vote_weight_i': 0.447213595499958}, 'agent_i_9': {'vote_attenuation_i': 2.23606797749979, 'num_groups_i': 2, 'vote_weight_i': 1.118033988749895}}, 'components_int_term2': {'agent_j_0': {'vote_attenuation_j': 2.23606797749979, 'num_groups_j': 3, 'vote_weight_j': 0.7453559924999299}, 'agent_j_1': {'vote_attenuation_j': 2.23606797749979, 'num_groups_j': 3, 'vote_weight_j': 0.7453559924999299}, 'agent_j_2': {'vote_attenuation_j': 2.23606797749979, 'num_groups_j': 5, 'vote_weight_j': 0.447213595499958}, 'agent_j_3': {'vote_attenuation_j': 2.23606797749979, 'num_groups_j': 4, 'vote_weight_j': 0.5590169943749475}, 'agent_j_4': {'vote_attenuation_j': 2.23606797749979, 'num_groups_j': 5, 'vote_weight_j': 0.447213595499958}, 'agent_j_6': {'vote_attenuation_j': 2.23606797749979, 'num_groups_j': 5, 'vote_weight_j': 0.447213595499958}, 'agent_j_7': {'vote_attenuation_j': 2.23606797749979, 'num_groups_j': 2, 'vote_weight_j': 1.118033988749895}, 'agent_j_8': {'vote_attenuation_j': 2.23606797749979, 'num_groups_j': 4, 'vote_weight_j': 0.5590169943749475}}, 'sum_vote_weight_i': 4.509403754624576, 'sqrt_sum_vote_weight_i': 2.1235356730284933, 'sum_vote_weight_j': 5.068420748999523, 'sqrt_sum_vote_weight_j': 2.2513153375303787, 'multiplied_interaction': 4.7807484304819425}}}\n",
      "85.66983647868841\n"
     ]
    }
   ],
   "source": [
    "result_individual, result_aggregated = model_evaluation.interaction_terms(group_dist, result_group_memberships, vote_dist)\n",
    "print(result_individual)\n",
    "print(result_aggregated)"
   ]
  },
  {
   "cell_type": "code",
   "execution_count": 53,
   "metadata": {},
   "outputs": [
    {
     "name": "stdout",
     "output_type": "stream",
     "text": [
      "11.647739543735016\n"
     ]
    }
   ],
   "source": [
    "plurality_score = model_evaluation.connection_oriented_cluster_match(result_aggregate_weight, result_aggregated)\n",
    "print(plurality_score)"
   ]
  },
  {
   "cell_type": "code",
   "execution_count": 54,
   "metadata": {},
   "outputs": [
    {
     "name": "stdout",
     "output_type": "stream",
     "text": [
      "{0: 2.23606797749979, 1: 2.23606797749979, 2: 2.23606797749979, 3: 2.23606797749979, 4: 2.23606797749979, 5: 2.23606797749979, 6: 2.23606797749979, 7: 2.23606797749979, 8: 2.23606797749979, 9: 2.23606797749979}\n",
      "22.360679774997898\n"
     ]
    }
   ],
   "source": [
    "result_quadratic_voting, result_sum_quadratic_votes = model_evaluation.quadratic_voting(vote_dist)\n",
    "print(result_quadratic_voting)\n",
    "print(result_sum_quadratic_votes)"
   ]
  },
  {
   "cell_type": "code",
   "execution_count": 55,
   "metadata": {},
   "outputs": [
    {
     "name": "stdout",
     "output_type": "stream",
     "text": [
      "Pairwise Jaccard Similarity Matrix:\n",
      "[0.0, 0.5714285714285714, 0.5, 0.5, 0.375]\n",
      "[0.5714285714285714, 0.0, 0.5, 0.875, 0.5555555555555556]\n",
      "[0.5, 0.5, 0.0, 0.6, 0.6666666666666666]\n",
      "[0.5, 0.875, 0.6, 0.0, 0.6666666666666666]\n",
      "[0.375, 0.5555555555555556, 0.6666666666666666, 0.6666666666666666, 0.0]\n",
      "Global Jaccard Similarity: 0.581031746031746\n"
     ]
    }
   ],
   "source": [
    "# Jaccard Index \n",
    "pairwise_jaccard_matrix = model_evaluation.pairwise_jaccard_similarity(group_dist)\n",
    "print(\"Pairwise Jaccard Similarity Matrix:\")\n",
    "for row in pairwise_jaccard_matrix:\n",
    "    print(row)\n",
    "\n",
    "global_similarity = model_evaluation.global_jaccard_similarity(pairwise_jaccard_matrix)\n",
    "print(\"Global Jaccard Similarity:\", global_similarity)"
   ]
  }
 ],
 "metadata": {
  "kernelspec": {
   "display_name": "gov-research",
   "language": "python",
   "name": "python3"
  },
  "language_info": {
   "codemirror_mode": {
    "name": "ipython",
    "version": 3
   },
   "file_extension": ".py",
   "mimetype": "text/x-python",
   "name": "python",
   "nbconvert_exporter": "python",
   "pygments_lexer": "ipython3",
   "version": "3.10.13"
  }
 },
 "nbformat": 4,
 "nbformat_minor": 2
}
