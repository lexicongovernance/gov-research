{
 "cells": [
  {
   "cell_type": "markdown",
   "metadata": {},
   "source": [
    "## Simulation Framework "
   ]
  },
  {
   "cell_type": "code",
   "execution_count": 1,
   "metadata": {},
   "outputs": [
    {
     "name": "stdout",
     "output_type": "stream",
     "text": [
      "importing Jupyter notebook from model_evaluation.ipynb\n"
     ]
    }
   ],
   "source": [
    "import import_ipynb\n",
    "import math \n",
    "\n",
    "# import functions from model_evaluation.ipynb  \n",
    "import model_evaluation "
   ]
  },
  {
   "cell_type": "code",
   "execution_count": 2,
   "metadata": {},
   "outputs": [],
   "source": [
    "# Define input variables  \n",
    "group_dist = [[1, 2, 3], [1], [0, 2]] \n",
    "vote_dist = [5, 5, 5, 5]"
   ]
  },
  {
   "cell_type": "code",
   "execution_count": 3,
   "metadata": {},
   "outputs": [
    {
     "name": "stdout",
     "output_type": "stream",
     "text": [
      "[[2], [0, 1], [0, 2], [0]]\n"
     ]
    }
   ],
   "source": [
    "# Assuming this is the correct function signature\n",
    "result_group_memberships = model_evaluation.group_memberships(group_dist, vote_dist)\n",
    "print(result_group_memberships)"
   ]
  },
  {
   "cell_type": "code",
   "execution_count": 4,
   "metadata": {},
   "outputs": [
    {
     "name": "stdout",
     "output_type": "stream",
     "text": [
      "{'group_0': {'agent_1': {'votes': 5, 'num_groups': 2, 'vote_weight': 2.5}, 'agent_2': {'votes': 5, 'num_groups': 2, 'vote_weight': 2.5}, 'agent_3': {'votes': 5, 'num_groups': 1, 'vote_weight': 5.0}}, 'group_1': {'agent_1': {'votes': 5, 'num_groups': 2, 'vote_weight': 2.5}}, 'group_2': {'agent_0': {'votes': 5, 'num_groups': 1, 'vote_weight': 5.0}, 'agent_2': {'votes': 5, 'num_groups': 2, 'vote_weight': 2.5}}}\n",
      "20.0\n"
     ]
    }
   ],
   "source": [
    "result_groups, result_aggregate_weight = model_evaluation.first_term(group_dist, vote_dist, result_group_memberships)\n",
    "print(result_groups)\n",
    "print(result_aggregate_weight)"
   ]
  },
  {
   "cell_type": "code",
   "execution_count": 5,
   "metadata": {},
   "outputs": [
    {
     "name": "stdout",
     "output_type": "stream",
     "text": [
      "{'group_0': {'other_group_1': {'components_int_term1': {'agent_i_1': {'vote_attenuation_i': 2.23606797749979, 'num_groups_i': 2, 'vote_weight_i': 1.118033988749895}, 'agent_i_2': {'vote_attenuation_i': 2.23606797749979, 'num_groups_i': 2, 'vote_weight_i': 1.118033988749895}, 'agent_i_3': {'vote_attenuation_i': 2.23606797749979, 'num_groups_i': 1, 'vote_weight_i': 2.23606797749979}}, 'components_int_term2': {'agent_j_1': {'vote_attenuation_j': 2.23606797749979, 'num_groups_j': 2, 'vote_weight_j': 1.118033988749895}}, 'sum_vote_weight_i': 4.47213595499958, 'sqrt_sum_vote_weight_i': 2.114742526881128, 'sum_vote_weight_j': 1.118033988749895, 'sqrt_sum_vote_weight_j': 1.057371263440564, 'multiplied_interaction': 2.2360679774997894}, 'other_group_2': {'components_int_term1': {'agent_i_1': {'vote_attenuation_i': 2.23606797749979, 'num_groups_i': 2, 'vote_weight_i': 1.118033988749895}, 'agent_i_2': {'vote_attenuation_i': 2.23606797749979, 'num_groups_i': 2, 'vote_weight_i': 1.118033988749895}, 'agent_i_3': {'vote_attenuation_i': 2.23606797749979, 'num_groups_i': 1, 'vote_weight_i': 2.23606797749979}}, 'components_int_term2': {'agent_j_0': {'vote_attenuation_j': 2.23606797749979, 'num_groups_j': 1, 'vote_weight_j': 2.23606797749979}, 'agent_j_2': {'vote_attenuation_j': 2.23606797749979, 'num_groups_j': 2, 'vote_weight_j': 1.118033988749895}}, 'sum_vote_weight_i': 4.47213595499958, 'sqrt_sum_vote_weight_i': 2.114742526881128, 'sum_vote_weight_j': 3.3541019662496847, 'sqrt_sum_vote_weight_j': 1.8314207507423532, 'multiplied_interaction': 3.872983346207417}}, 'group_1': {'other_group_0': {'components_int_term1': {'agent_i_1': {'vote_attenuation_i': 2.23606797749979, 'num_groups_i': 2, 'vote_weight_i': 1.118033988749895}}, 'components_int_term2': {'agent_j_1': {'vote_attenuation_j': 2.23606797749979, 'num_groups_j': 2, 'vote_weight_j': 1.118033988749895}, 'agent_j_2': {'vote_attenuation_j': 2.23606797749979, 'num_groups_j': 2, 'vote_weight_j': 1.118033988749895}, 'agent_j_3': {'vote_attenuation_j': 2.23606797749979, 'num_groups_j': 1, 'vote_weight_j': 2.23606797749979}}, 'sum_vote_weight_i': 1.118033988749895, 'sqrt_sum_vote_weight_i': 1.057371263440564, 'sum_vote_weight_j': 4.47213595499958, 'sqrt_sum_vote_weight_j': 2.114742526881128, 'multiplied_interaction': 2.2360679774997894}, 'other_group_2': {'components_int_term1': {'agent_i_1': {'vote_attenuation_i': 2.23606797749979, 'num_groups_i': 2, 'vote_weight_i': 1.118033988749895}}, 'components_int_term2': {'agent_j_0': {'vote_attenuation_j': 5, 'num_groups_j': 1, 'vote_weight_j': 5.0}, 'agent_j_2': {'vote_attenuation_j': 2.23606797749979, 'num_groups_j': 2, 'vote_weight_j': 1.118033988749895}}, 'sum_vote_weight_i': 1.118033988749895, 'sqrt_sum_vote_weight_i': 1.057371263440564, 'sum_vote_weight_j': 6.118033988749895, 'sqrt_sum_vote_weight_j': 2.4734659869805964, 'multiplied_interaction': 2.615371855730935}}, 'group_2': {'other_group_0': {'components_int_term1': {'agent_i_0': {'vote_attenuation_i': 2.23606797749979, 'num_groups_i': 1, 'vote_weight_i': 2.23606797749979}, 'agent_i_2': {'vote_attenuation_i': 2.23606797749979, 'num_groups_i': 2, 'vote_weight_i': 1.118033988749895}}, 'components_int_term2': {'agent_j_1': {'vote_attenuation_j': 2.23606797749979, 'num_groups_j': 2, 'vote_weight_j': 1.118033988749895}, 'agent_j_2': {'vote_attenuation_j': 2.23606797749979, 'num_groups_j': 2, 'vote_weight_j': 1.118033988749895}, 'agent_j_3': {'vote_attenuation_j': 2.23606797749979, 'num_groups_j': 1, 'vote_weight_j': 2.23606797749979}}, 'sum_vote_weight_i': 3.3541019662496847, 'sqrt_sum_vote_weight_i': 1.8314207507423532, 'sum_vote_weight_j': 4.47213595499958, 'sqrt_sum_vote_weight_j': 2.114742526881128, 'multiplied_interaction': 3.872983346207417}, 'other_group_1': {'components_int_term1': {'agent_i_0': {'vote_attenuation_i': 5, 'num_groups_i': 1, 'vote_weight_i': 5.0}, 'agent_i_2': {'vote_attenuation_i': 2.23606797749979, 'num_groups_i': 2, 'vote_weight_i': 1.118033988749895}}, 'components_int_term2': {'agent_j_1': {'vote_attenuation_j': 2.23606797749979, 'num_groups_j': 2, 'vote_weight_j': 1.118033988749895}}, 'sum_vote_weight_i': 6.118033988749895, 'sqrt_sum_vote_weight_i': 2.4734659869805964, 'sum_vote_weight_j': 1.118033988749895, 'sqrt_sum_vote_weight_j': 1.057371263440564, 'multiplied_interaction': 2.615371855730935}}}\n",
      "17.44884635887628\n"
     ]
    }
   ],
   "source": [
    "result_individual, result_aggregated = model_evaluation.interaction_terms(group_dist, result_group_memberships, vote_dist)\n",
    "print(result_individual)\n",
    "print(result_aggregated)"
   ]
  },
  {
   "cell_type": "code",
   "execution_count": 6,
   "metadata": {},
   "outputs": [
    {
     "name": "stdout",
     "output_type": "stream",
     "text": [
      "6.119546254329342\n"
     ]
    }
   ],
   "source": [
    "plurality_score = model_evaluation.connection_oriented_cluster_match(result_aggregate_weight, result_aggregated)\n",
    "print(plurality_score)"
   ]
  }
 ],
 "metadata": {
  "kernelspec": {
   "display_name": "gov-research",
   "language": "python",
   "name": "python3"
  },
  "language_info": {
   "codemirror_mode": {
    "name": "ipython",
    "version": 3
   },
   "file_extension": ".py",
   "mimetype": "text/x-python",
   "name": "python",
   "nbconvert_exporter": "python",
   "pygments_lexer": "ipython3",
   "version": "3.10.13"
  }
 },
 "nbformat": 4,
 "nbformat_minor": 2
}
