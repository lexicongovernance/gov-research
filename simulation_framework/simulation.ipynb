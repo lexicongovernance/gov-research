{
 "cells": [
  {
   "cell_type": "markdown",
   "metadata": {},
   "source": [
    "## Simulation Framework "
   ]
  },
  {
   "cell_type": "code",
   "execution_count": 1,
   "metadata": {},
   "outputs": [
    {
     "name": "stdout",
     "output_type": "stream",
     "text": [
      "importing Jupyter notebook from model_evaluation.ipynb\n"
     ]
    }
   ],
   "source": [
    "import import_ipynb\n",
    "import math \n",
    "\n",
    "# import functions from model_evaluation.ipynb  \n",
    "from model_evaluation import group_memberships\n",
    "from model_evaluation import common_group\n",
    "from model_evaluation import K\n",
    "from model_evaluation import first_term \n",
    "from model_evaluation import interaction_terms\n",
    "from model_evaluation import connection_oriented_cluster_match"
   ]
  },
  {
   "cell_type": "code",
   "execution_count": 2,
   "metadata": {},
   "outputs": [],
   "source": [
    "# Define input variables  \n",
    "groups = [[1, 2, 3], [1], [0, 2]] \n",
    "votes = [5, 5, 5, 5]"
   ]
  },
  {
   "cell_type": "code",
   "execution_count": 3,
   "metadata": {},
   "outputs": [
    {
     "name": "stdout",
     "output_type": "stream",
     "text": [
      "[[2], [0, 1], [0, 2], [0]]\n"
     ]
    }
   ],
   "source": [
    "# Assuming this is the correct function signature\n",
    "group_memberships = group_memberships(groups, votes)\n",
    "print(group_memberships)"
   ]
  },
  {
   "cell_type": "code",
   "execution_count": 4,
   "metadata": {},
   "outputs": [
    {
     "name": "stdout",
     "output_type": "stream",
     "text": [
      "{'group_0': {'agent_1': {'votes': 5, 'num_groups': 2, 'vote_weight': 2.5}, 'agent_2': {'votes': 5, 'num_groups': 2, 'vote_weight': 2.5}, 'agent_3': {'votes': 5, 'num_groups': 1, 'vote_weight': 5.0}}, 'group_1': {'agent_1': {'votes': 5, 'num_groups': 2, 'vote_weight': 2.5}}, 'group_2': {'agent_0': {'votes': 5, 'num_groups': 1, 'vote_weight': 5.0}, 'agent_2': {'votes': 5, 'num_groups': 2, 'vote_weight': 2.5}}}\n",
      "20.0\n"
     ]
    }
   ],
   "source": [
    "result_groups, result_aggregate_weight = first_term(groups, votes, group_memberships)\n",
    "print(result_groups)\n",
    "print(result_aggregate_weight)"
   ]
  },
  {
   "cell_type": "code",
   "execution_count": 5,
   "metadata": {},
   "outputs": [
    {
     "name": "stdout",
     "output_type": "stream",
     "text": [
      "agent_i: 2, agent_j: 1\n"
     ]
    },
    {
     "ename": "TypeError",
     "evalue": "'function' object is not subscriptable",
     "output_type": "error",
     "traceback": [
      "\u001b[1;31m---------------------------------------------------------------------------\u001b[0m",
      "\u001b[1;31mTypeError\u001b[0m                                 Traceback (most recent call last)",
      "\u001b[1;32mc:\\Users\\beneb\\gov-research-1\\simulation_framework\\simulation.ipynb Cell 6\u001b[0m line \u001b[0;36m1\n\u001b[1;32m----> <a href='vscode-notebook-cell:/c%3A/Users/beneb/gov-research-1/simulation_framework/simulation.ipynb#W5sZmlsZQ%3D%3D?line=0'>1</a>\u001b[0m result_individual, result_aggregated \u001b[39m=\u001b[39m interaction_terms(groups, group_memberships, votes)\n\u001b[0;32m      <a href='vscode-notebook-cell:/c%3A/Users/beneb/gov-research-1/simulation_framework/simulation.ipynb#W5sZmlsZQ%3D%3D?line=1'>2</a>\u001b[0m \u001b[39mprint\u001b[39m(result_individual)\n\u001b[0;32m      <a href='vscode-notebook-cell:/c%3A/Users/beneb/gov-research-1/simulation_framework/simulation.ipynb#W5sZmlsZQ%3D%3D?line=2'>3</a>\u001b[0m \u001b[39mprint\u001b[39m(result_aggregated)\n",
      "File \u001b[1;32m<string>:18\u001b[0m, in \u001b[0;36minteraction_terms\u001b[1;34m(groups, group_memberships, votes)\u001b[0m\n",
      "File \u001b[1;32m<string>:8\u001b[0m, in \u001b[0;36mK\u001b[1;34m(agent_i, group, votes)\u001b[0m\n",
      "File \u001b[1;32m<string>:8\u001b[0m, in \u001b[0;36m<genexpr>\u001b[1;34m(.0)\u001b[0m\n",
      "File \u001b[1;32m<string>:9\u001b[0m, in \u001b[0;36mcommon_group\u001b[1;34m(agent_i, agent_j)\u001b[0m\n",
      "\u001b[1;31mTypeError\u001b[0m: 'function' object is not subscriptable"
     ]
    }
   ],
   "source": [
    "result_individual, result_aggregated = interaction_terms(groups, group_memberships, votes)\n",
    "print(result_individual)\n",
    "print(result_aggregated)"
   ]
  },
  {
   "cell_type": "code",
   "execution_count": null,
   "metadata": {},
   "outputs": [],
   "source": [
    "model_evaluation."
   ]
  }
 ],
 "metadata": {
  "kernelspec": {
   "display_name": "gov-research",
   "language": "python",
   "name": "python3"
  },
  "language_info": {
   "codemirror_mode": {
    "name": "ipython",
    "version": 3
   },
   "file_extension": ".py",
   "mimetype": "text/x-python",
   "name": "python",
   "nbconvert_exporter": "python",
   "pygments_lexer": "ipython3",
   "version": "3.10.13"
  }
 },
 "nbformat": 4,
 "nbformat_minor": 2
}
