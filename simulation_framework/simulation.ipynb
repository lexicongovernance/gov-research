{
 "cells": [
  {
   "cell_type": "markdown",
   "metadata": {},
   "source": [
    "## Simulation Framework "
   ]
  },
  {
   "cell_type": "code",
   "execution_count": 94,
   "metadata": {},
   "outputs": [],
   "source": [
    "import import_ipynb\n",
    "import math \n",
    "import importlib\n",
    "import random\n",
    "import copy\n",
    "import os\n",
    "import numpy as np\n",
    "import matplotlib.pyplot as plt\n",
    "from datetime import datetime\n",
    "\n",
    "# import functions from model_evaluation.ipynb  \n",
    "import model_evaluation "
   ]
  },
  {
   "cell_type": "code",
   "execution_count": 95,
   "metadata": {},
   "outputs": [],
   "source": [
    "# simulation parameters \n",
    "\n",
    "# number of groups\n",
    "n_groups = 5 \n",
    "\n",
    "# number of agents \n",
    "n_agents = 100\n",
    "\n",
    "# Iterations for group distributions \n",
    "iterations = 1000\n",
    "\n",
    "# Number of vote distributions \n",
    "sim = 100"
   ]
  },
  {
   "cell_type": "markdown",
   "metadata": {},
   "source": [
    "### Group Distributions "
   ]
  },
  {
   "cell_type": "code",
   "execution_count": 96,
   "metadata": {},
   "outputs": [],
   "source": [
    "# create random distributions \n",
    "def distribute_agents(n_agents, n_groups):\n",
    "    \"\"\"\n",
    "    This function randomly selects a subset of group indices for each agent. The number of groups for each agent is randomly chosen between 1 and the total number of groups.\n",
    "    :returns (list of lists): Each inner list represents the agents assigned to a particular group.\n",
    "    \"\"\"\n",
    "    group_dist = [[] for _ in range(n_groups)]\n",
    "\n",
    "    for agent in range(n_agents):\n",
    "        groups = random.sample(range(n_groups), random.randint(1, n_groups))\n",
    "        for group in groups:\n",
    "            group_dist[group].append(agent)\n",
    "\n",
    "    return group_dist"
   ]
  },
  {
   "cell_type": "code",
   "execution_count": 97,
   "metadata": {},
   "outputs": [],
   "source": [
    "def initial_distribution(n_agents, n_groups):\n",
    "    \"\"\"\n",
    "    Create an initial distribution where agents are assigned to groups, and in case the number of agents exceeds the number of groups, start assigning agents to groups from the beginning.\n",
    "    :returns (list of lists): Each inner list represents the agents assigned to a particular group.\n",
    "    \"\"\"\n",
    "    # Create agents\n",
    "    agents = [agent for agent in range(n_agents)]\n",
    "\n",
    "    # Initialize groups\n",
    "    group_dist = [[] for _ in range(n_groups)]\n",
    "\n",
    "    # Distribute agents to groups\n",
    "    for i, agent in enumerate(agents):\n",
    "        group_dist[i % n_groups].append(agent)\n",
    "\n",
    "    return group_dist"
   ]
  },
  {
   "cell_type": "code",
   "execution_count": 98,
   "metadata": {},
   "outputs": [],
   "source": [
    "result_initial_distribution = initial_distribution(n_agents=n_agents, n_groups=n_groups)\n",
    "# print(result_initial_distribution)"
   ]
  },
  {
   "cell_type": "code",
   "execution_count": 99,
   "metadata": {},
   "outputs": [],
   "source": [
    "# Create random group distributions with a gradual transition from one to the other extreme \n",
    "def gradual_distribution_transition(n_agents, n_groups, iterations):\n",
    "    \"\"\"\n",
    "    This function starts with a distribution where each group contains only one agent and gradually modifies it in each iteration.\n",
    "    :returns (list of lists): Each inner list represents the agents assigned to a particular group.\n",
    "    \"\"\"\n",
    "    # Initial distribution: Use the provided initial_distribution function\n",
    "    group_dist = initial_distribution(n_agents, n_groups)\n",
    "\n",
    "    # List to store distributions at each iteration\n",
    "    distributions = [copy.deepcopy(group_dist)]\n",
    "\n",
    "    for _ in range(iterations):  # Start from iteration 1\n",
    "        # Randomly select a group\n",
    "        source_group = random.randint(0, n_groups - 1)\n",
    "        \n",
    "        # Randomly select a destination group different from the source group\n",
    "        possible_destination_groups = [group for group in range(n_groups) if group != source_group]\n",
    "        destination_group = random.choice(possible_destination_groups)\n",
    "\n",
    "        # Randomly select an agent from the source group\n",
    "        if group_dist[source_group]:\n",
    "            agent_to_move = random.choice(group_dist[source_group])\n",
    "\n",
    "            # Move the agent to the destination group if not already present\n",
    "            if agent_to_move not in group_dist[destination_group]:\n",
    "                group_dist[destination_group].append(agent_to_move)\n",
    "            else:\n",
    "                continue\n",
    "\n",
    "        # Save the current distribution (deep copy to avoid referencing the same object)\n",
    "        distributions.append(copy.deepcopy(group_dist))\n",
    "\n",
    "    return distributions"
   ]
  },
  {
   "cell_type": "code",
   "execution_count": 100,
   "metadata": {},
   "outputs": [
    {
     "name": "stdout",
     "output_type": "stream",
     "text": [
      "346\n"
     ]
    }
   ],
   "source": [
    "result_group_distributions = gradual_distribution_transition(n_agents=n_agents, n_groups=n_groups, iterations=iterations)\n",
    "# print(result_group_distributions[0])\n",
    "# print(result_group_distributions[-1])\n",
    "print(len(result_group_distributions))"
   ]
  },
  {
   "cell_type": "code",
   "execution_count": 101,
   "metadata": {},
   "outputs": [],
   "source": [
    "# Custom Group Distributions \n",
    "\n",
    "# result_group_distributions = [[[0], [1]], [[0, 1], [1]], [[0, 1], [1, 0]]]\n",
    "# result_group_distributions = [[[0], [1]], [[0, 1], [1, 0]]]\n",
    "# result_group_distributions = [[[0, 1], [1]], [[0, 1], [1, 0]]]\n",
    "# print(result_group_distributions)"
   ]
  },
  {
   "cell_type": "markdown",
   "metadata": {},
   "source": [
    "### Vote Distribution "
   ]
  },
  {
   "cell_type": "code",
   "execution_count": 102,
   "metadata": {},
   "outputs": [],
   "source": [
    "# define fixed vote distribution \n",
    "def vote_distribution_fixed(n_agents, votes_agent):\n",
    "    return [votes_agent] * n_agents"
   ]
  },
  {
   "cell_type": "code",
   "execution_count": 103,
   "metadata": {},
   "outputs": [],
   "source": [
    "vote_dist = vote_distribution_fixed(n_agents=n_agents, votes_agent=5)\n",
    "# print(vote_dist)"
   ]
  },
  {
   "cell_type": "code",
   "execution_count": 104,
   "metadata": {},
   "outputs": [],
   "source": [
    "def vote_distribution_random(n_agents, sim):\n",
    "    list_vote_dist = []\n",
    "    for _ in range(sim):\n",
    "        vote_dist = [random.randint(1, 100) for _ in range(n_agents)]\n",
    "        list_vote_dist.append(vote_dist)\n",
    "    return list_vote_dist "
   ]
  },
  {
   "cell_type": "code",
   "execution_count": 105,
   "metadata": {},
   "outputs": [],
   "source": [
    "list_vote_dist = vote_distribution_random(n_agents=n_agents, sim=sim)\n",
    "# print(list_vote_dist)"
   ]
  },
  {
   "cell_type": "markdown",
   "metadata": {},
   "source": [
    "### Group Membership"
   ]
  },
  {
   "cell_type": "code",
   "execution_count": 106,
   "metadata": {},
   "outputs": [],
   "source": [
    "list_result_group_memberships = []\n",
    "for i in range(len(result_group_distributions)): \n",
    "    result_group_memberships = model_evaluation.group_memberships(groups=result_group_distributions[i], n_agents=n_agents)\n",
    "    list_result_group_memberships.append(result_group_memberships)\n",
    "\n",
    "# print(list_result_group_memberships[-1])"
   ]
  },
  {
   "cell_type": "code",
   "execution_count": 107,
   "metadata": {},
   "outputs": [],
   "source": [
    "# result_commom_group = model_evaluation.common_group(1,0, memberships_group=list_result_group_memberships[1])\n",
    "# print(result_commom_group)"
   ]
  },
  {
   "cell_type": "code",
   "execution_count": 108,
   "metadata": {},
   "outputs": [],
   "source": [
    "# result_K = model_evaluation.K(agent_i=0, group=result_group_distributions[1][1], votes=vote_dist, memberships_group=list_result_group_memberships[1])\n",
    "# print(result_K)"
   ]
  },
  {
   "cell_type": "markdown",
   "metadata": {},
   "source": [
    "### Model Terms "
   ]
  },
  {
   "cell_type": "code",
   "execution_count": 109,
   "metadata": {},
   "outputs": [],
   "source": [
    "# first term \n",
    "output_first_term = []\n",
    "for j in range(len(list_vote_dist)):\n",
    "    dict_result_group_first_term = {}\n",
    "    list_result_aggregated_weight_term_1 = []\n",
    "    for i in range(len(result_group_distributions)):  # len(result_group_distributions) == len(list_result_group_memberships)\n",
    "        result_groups, result_aggregate_weight = model_evaluation.first_term(groups=result_group_distributions[i], votes=list_vote_dist[j], memberships_group=list_result_group_memberships[i])\n",
    "        dict_result_group_first_term[i] = {'individual_contributions': result_groups}\n",
    "        list_result_aggregated_weight_term_1.append(result_aggregate_weight)\n",
    "    output_first_term.append(list_result_aggregated_weight_term_1)\n",
    "\n",
    "# print(list_result_aggregated_weight_term_1)\n",
    "# print(dict_result_group_first_term)\n",
    "# print(output_first_term[0])\n",
    "# print(len(output_first_term[0]))"
   ]
  },
  {
   "cell_type": "code",
   "execution_count": 110,
   "metadata": {},
   "outputs": [],
   "source": [
    "# interaction terms\n",
    "output_interaction_terms = []\n",
    "for j in range(len(list_vote_dist)):\n",
    "    dict_result_individual_interaction_terms = {}\n",
    "    list_result_aggregated_weight_interaction_terms = []\n",
    "    for i in range(len(result_group_distributions)):  # len(result_group_distributions) == len(list_result_group_memberships)\n",
    "        result_individual, result_aggregated = model_evaluation.interaction_terms(groups=result_group_distributions[i], memberships_group=list_result_group_memberships[i], votes=list_vote_dist[j])\n",
    "        dict_result_individual_interaction_terms[i] = {'individual_contributions': result_individual}\n",
    "        list_result_aggregated_weight_interaction_terms.append(result_aggregated)\n",
    "    output_interaction_terms.append(list_result_aggregated_weight_interaction_terms)\n",
    "\n",
    "# print(dict_result_individual_interaction_terms)\n",
    "# print(list_result_aggregated_weight_interaction_terms)   \n"
   ]
  },
  {
   "cell_type": "code",
   "execution_count": 111,
   "metadata": {},
   "outputs": [],
   "source": [
    "# print(output_interaction_terms[0])\n",
    "# print(len(output_interaction_terms))\n",
    "# print(len(output_interaction_terms[0]))"
   ]
  },
  {
   "cell_type": "markdown",
   "metadata": {},
   "source": [
    "### Plurality and QV Scores "
   ]
  },
  {
   "cell_type": "code",
   "execution_count": 112,
   "metadata": {},
   "outputs": [],
   "source": [
    "output_plurality_scores = []\n",
    "for i in range(sim):\n",
    "    list_plurality_scores = []\n",
    "    for j in range(len(result_group_distributions)):   \n",
    "        plurality_score = model_evaluation.connection_oriented_cluster_match(term_1=output_first_term[i][j], interaction_terms=output_interaction_terms[i][j])\n",
    "        list_plurality_scores.append(plurality_score)\n",
    "    output_plurality_scores.append(list_plurality_scores)\n",
    "\n",
    "# print(output_plurality_scores)\n",
    "# print(len(output_plurality_scores))\n",
    "# print(len(output_plurality_scores[0]))\n"
   ]
  },
  {
   "cell_type": "code",
   "execution_count": 113,
   "metadata": {},
   "outputs": [
    {
     "name": "stdout",
     "output_type": "stream",
     "text": [
      "[663.7686211827493, 692.467943006577, 669.4328510528812, 675.2687340263245, 655.6162191709691, 635.1150285106066, 640.556897526517, 645.332474005006, 701.015089955306, 698.4319284955849, 688.5161156144037, 649.876924054205, 684.3580678595731, 631.4134156281079, 642.8110151586965, 653.1787329882243, 650.3994297381328, 672.8681194110336, 694.9121407028358, 644.9379032052489, 656.7296165484788, 684.1200975961965, 676.197079685377, 674.2685430894062, 702.8279602463127, 680.3486671516798, 705.5315467360778, 679.8971162601979, 674.2640940155557, 666.7184676582696, 699.4764174643562, 659.8923178691712, 653.2039380823327, 701.8700665819807, 684.1215771855278, 679.2390552178249, 665.5637123045882, 655.2148085222642, 668.1172552763311, 664.2080264855886, 645.4028701254514, 632.9540517876271, 706.3031104968793, 683.9406214381814, 652.6765965530057, 658.2555170488937, 670.2829586888536, 650.7354160014635, 678.7889521587382, 663.8151296610334, 669.0452224838467, 675.3846906079447, 669.0683335399484, 656.6613727581536, 691.0626441704044, 652.856902140062, 600.7474264396179, 623.3587899602499, 685.1355764829605, 665.3290849957517, 659.9865302976303, 673.5449157873043, 665.7429541197288, 680.1593445574358, 644.24475283669, 628.2480864994538, 695.2051786386493, 676.4625552473202, 699.3128106771117, 664.3852087629265, 677.3483901690847, 713.3352785067354, 659.1942495300202, 684.6191131637022, 638.4044369137694, 668.8559117154648, 705.2302542793846, 699.2057013288044, 669.7049792064221, 678.9561793200344, 690.8034730178542, 667.4662120421617, 691.1395926453523, 687.5251737971747, 682.4851911380155, 676.2409692044562, 690.0105799966219, 686.6807082760267, 690.201545980156, 655.625221364973, 678.4140399107348, 694.8894744230023, 634.4965361596187, 670.6569279040889, 646.8618098548093, 634.0974875452332, 686.9109380918462, 660.5448634623609, 684.8188233511444, 691.7581163684196]\n",
      "100\n",
      "670.3766779890129\n"
     ]
    }
   ],
   "source": [
    "output_qv_scores = []\n",
    "for i in range(len(list_vote_dist)):\n",
    "    _, result_sum_quadratic_votes = model_evaluation.quadratic_voting(votes=list_vote_dist[i])\n",
    "    output_qv_scores.append(result_sum_quadratic_votes)\n",
    "\n",
    "print(output_qv_scores)\n",
    "print(len(output_qv_scores))\n",
    "print(np.mean(output_qv_scores))"
   ]
  },
  {
   "cell_type": "markdown",
   "metadata": {},
   "source": [
    "### Jaccard Index "
   ]
  },
  {
   "cell_type": "code",
   "execution_count": 114,
   "metadata": {},
   "outputs": [
    {
     "name": "stdout",
     "output_type": "stream",
     "text": [
      "[0.0, 0.0025, 0.0049390243902439025, 0.007378048780487806, 0.009700929152148662, 0.012023809523809523, 0.014238648947951274, 0.01644788374794047, 0.01861741963840659, 0.02084199093274533, 0.023070953970606243, 0.025341164380351538, 0.027308359077576567, 0.029345707585785384, 0.03127638871673867, 0.03365734109769104, 0.036040994502331405, 0.0401118101270984, 0.04203257052611966, 0.046228160872462475, 0.050559514273583316, 0.0522741256500488, 0.05420842138584185, 0.05579649229104637, 0.057593494070481546, 0.05934458902839022, 0.060966809111186, 0.06467560031997721, 0.06624247728847144, 0.06778686191863378, 0.06945590529355952, 0.07344502052028541, 0.077445484103807, 0.08128442436218461, 0.08546000696560101, 0.08669665653299419, 0.08844033946478039, 0.08996679047071468, 0.09141193353651733, 0.09507509880262377, 0.0983781521877205, 0.09968698341251811, 0.10102373872422188, 0.10218364065398833, 0.10571689508657475, 0.10732022014643192, 0.11244503147813978, 0.11568119132885253, 0.12331448238112248, 0.12704132763236092, 0.132324057628686, 0.1333504637398379, 0.13457555784702926, 0.1378327663827109, 0.14110189961627345, 0.14196500304682488, 0.1432131428632723, 0.1441163819341321, 0.14509942661975772, 0.14611475360610462, 0.14696732358552902, 0.1482382486520553, 0.1534169321781964, 0.15431591232437245, 0.15554387722468238, 0.15877471614834604, 0.15967415860624526, 0.1603394579187502, 0.1634691609666769, 0.1682676318543801, 0.16908070771013192, 0.1696843962655711, 0.17452726487545833, 0.17729677831068574, 0.17805316005591346, 0.17891708175341198, 0.18168222092215286, 0.18618156364782584, 0.18695607191377564, 0.18766971418495954, 0.18847401873396344, 0.18925508164728716, 0.19009689607979435, 0.1908962575287943, 0.19136211486774257, 0.19201202942053167, 0.19459392737601847, 0.19732860887691664, 0.20384025320836074, 0.2043948260846947, 0.20483917495721524, 0.20926955939912756, 0.21153472323302275, 0.2140063772575182, 0.21646841352179091, 0.2192029299632039, 0.22168283304895162, 0.22205105882575565, 0.2241691626860939, 0.22860055058550305, 0.23094865695264066, 0.2351975383678356, 0.23766694396224125, 0.24407839543044227, 0.24453978704013396, 0.2488404055776953, 0.251098909944998, 0.25317252624415776, 0.25524645443344385, 0.25757613406211244, 0.25976259603255303, 0.2601763723551285, 0.26237186626211323, 0.2664591464532292, 0.2665690755394247, 0.2688207229932781, 0.27270452134699896, 0.2731312957788122, 0.27347678825545396, 0.27761532375178927, 0.27792098699521306, 0.27821544497138284, 0.28043636913411574, 0.28235927959459023, 0.2844945702736525, 0.28843588793173086, 0.29058526611982655, 0.29251335347700336, 0.29614472517216567, 0.3000606381966454, 0.3036034048529354, 0.3038359169619144, 0.30590940199188615, 0.3113260184274899, 0.31337512720457683, 0.31726480480898556, 0.3231348939647014, 0.3228805978476227, 0.32497637789593875, 0.32677606836538453, 0.32849079461369535, 0.3284892255679195, 0.328250902918689, 0.3303025793037488, 0.3321576406010914, 0.3375016124258939, 0.3391365481887191, 0.3391962472739936, 0.3410142533496633, 0.3410907236524469, 0.34479513911938897, 0.3445322393427429, 0.3464757361114962, 0.34831237087077394, 0.3518594764576836, 0.3570239920529512, 0.3587122941132009, 0.3620858540087169, 0.3620321581251724, 0.3654171101373437, 0.3708471235269821, 0.3759912978846515, 0.37751768297341326, 0.3809135889439069, 0.38636445189476987, 0.38984444671303914, 0.3934754898440823, 0.3932767386631987, 0.3967791446439508, 0.3984068401923925, 0.3981756082587922, 0.3981061374437074, 0.40310967521623253, 0.4063787470293779, 0.40779840212101226, 0.41093726689338156, 0.41438536420878114, 0.4178458710245511, 0.4175195035952523, 0.4227887060413368, 0.42623125961733555, 0.42775282223527916, 0.43106196313724626, 0.43270851228379537, 0.4361316450314895, 0.43752209214123494, 0.43878918172133263, 0.44191491936605765, 0.44527929816259276, 0.4447825723654354, 0.44816001821276086, 0.45126248474597935, 0.45430375719901656, 0.45765208272176017, 0.46255812019547415, 0.46395520240895644, 0.46729500182331724, 0.4720201120088813, 0.47336442626302955, 0.4728408195348871, 0.4743803702712249, 0.47907674486011553, 0.48377311944900614, 0.4870817937955129, 0.4864936811951786, 0.4878289315480083, 0.4869949178947467, 0.4918108482829663, 0.49295279652349233, 0.4975678812457499, 0.5025253938668282, 0.5074829064879065, 0.5085943328604172, 0.5081874312253095, 0.5129911516013191, 0.5175404880326779, 0.5220898244640368, 0.5251180313240266, 0.5278466394640688, 0.5308766635066278, 0.5339269980759498, 0.5332477761781801, 0.5341719440169048, 0.5353848376221206, 0.5402528382829482, 0.5430761906411842, 0.5442979439281549, 0.5487577033575807, 0.5481992847674259, 0.55115296745308, 0.5520475677969328, 0.5548001431839712, 0.5556688015620204, 0.5565728174289365, 0.5594185432250003, 0.5624293243027683, 0.5636135331787843, 0.564453858576725, 0.5691880267673943, 0.5702276609915883, 0.569534350772329, 0.5687033465394128, 0.5694938019470254, 0.5706055622571651, 0.5697185476579758, 0.5742706788689487, 0.5769754005132104, 0.5798923238462952, 0.5825870099157189, 0.5835078351986986, 0.5827076948187189, 0.5835302232661398, 0.5862910109062824, 0.5870610487581377, 0.5879083588982186, 0.5887875137365199, 0.5933234218221237, 0.5960025398774997, 0.5986974534177969, 0.6013177455027424, 0.605619574993316, 0.6100672431643883, 0.6108682173107464, 0.6153525770370415, 0.6198754234716526, 0.6206072958328301, 0.6196694568768223, 0.6241664134086625, 0.6267660981025381, 0.6311635356054023, 0.6339352194419721, 0.6365013266481112, 0.6373373589486169, 0.6399287264483225, 0.638890452779644, 0.6379260218001443, 0.6405448955134709, 0.6431535501561552, 0.6475999441752629, 0.6519503411759336, 0.6544405633950813, 0.6586744497413818, 0.6611808605160439, 0.6655187731222078, 0.6643115392641118, 0.6687326616200168, 0.6675835237525105, 0.6701310123939781, 0.6690554323591396, 0.6697003369651551, 0.672160101663826, 0.672850380240004, 0.6771541222174349, 0.67967917194415, 0.6821733699739143, 0.6847287684680149, 0.6853382387414574, 0.6877754670644955, 0.6884368726946575, 0.6909098725277178, 0.6951430285560866, 0.6975844712585875, 0.7018064290786696, 0.7060639175870904, 0.7066671825767196, 0.7108889071007957, 0.7133216230208876, 0.7175791115293084, 0.7182701342989984, 0.7225271634307477, 0.7230289956236614, 0.7254604298124789, 0.7277779919917392, 0.7319565281878525, 0.7361789601256242, 0.7403675566168524, 0.7445899885546241, 0.7487685247507374, 0.7510552564190803, 0.7535106095774292, 0.7557966560987722, 0.7599852525900003, 0.7641203671621449, 0.7645982878475108, 0.7687761455071238, 0.7729434834949505, 0.7752682709791248, 0.7776644160849889, 0.780021706125259, 0.7822811493762437, 0.7864267836201744, 0.7905724178641054, 0.7892726938195359, 0.7915348482908214, 0.7956701753815881, 0.7997311937283207, 0.8019552617940153, 0.8060162801407479, 0.8101516072315146, 0.8142126255782471, 0.8164062793555477, 0.8167427959521895, 0.8190855694474909, 0.8212774886394101, 0.8234979221131553, 0.8237891592265575]\n"
     ]
    }
   ],
   "source": [
    "global_jaccard_index = []\n",
    "for i in range(len(result_group_distributions)):\n",
    "    pairwise_jaccard_matrix = model_evaluation.pairwise_jaccard_similarity(groups=result_group_distributions[i])\n",
    "    # print(\"Pairwise Jaccard Similarity Matrix:\")\n",
    "    # for row in pairwise_jaccard_matrix:\n",
    "    #    print(row)\n",
    "\n",
    "    global_similarity = model_evaluation.global_jaccard_similarity(pairwise_jaccard_matrix)\n",
    "    global_jaccard_index.append(global_similarity)\n",
    "\n",
    "print(global_jaccard_index)\n"
   ]
  },
  {
   "cell_type": "code",
   "execution_count": 115,
   "metadata": {},
   "outputs": [],
   "source": [
    "y_values = np.array(output_plurality_scores)\n",
    "# print(y_values)"
   ]
  },
  {
   "cell_type": "code",
   "execution_count": 116,
   "metadata": {},
   "outputs": [],
   "source": [
    "y_values_transposed = np.transpose(y_values)\n",
    "# print(y_values_transposed[0])"
   ]
  },
  {
   "cell_type": "markdown",
   "metadata": {},
   "source": [
    "### Plot\n"
   ]
  },
  {
   "cell_type": "code",
   "execution_count": 117,
   "metadata": {},
   "outputs": [
    {
     "name": "stdout",
     "output_type": "stream",
     "text": [
      "Plot saved to: plots\\plot_20231124172228.png\n"
     ]
    },
    {
     "data": {
      "image/png": "[encoded data removed]",
      "text/plain": [
       "<Figure size 640x480 with 1 Axes>"
      ]
     },
     "metadata": {},
     "output_type": "display_data"
    }
   ],
   "source": [
    "x_values = global_jaccard_index\n",
    "y_values = np.array(output_plurality_scores)\n",
    "qv_scores = np.array(output_qv_scores)\n",
    "\n",
    "# Transpose the matrix to calculate mean and confidence interval by column\n",
    "y_values_transposed = np.transpose(y_values)\n",
    "\n",
    "# Calculate mean and standard deviation\n",
    "mean_values = np.mean(y_values_transposed, axis=1)\n",
    "std_values = np.std(y_values_transposed, axis=1)\n",
    "\n",
    "# Plot\n",
    "plt.plot(x_values, mean_values, color='b', label='Mean Plurality Score')\n",
    "plt.fill_between(x_values, mean_values - std_values, mean_values + std_values, color='b', alpha=0.2, label='Standard Deviation')\n",
    "\n",
    "# qv_mean = np.mean(qv_scores)\n",
    "# plt.axhline(y=qv_mean, color='r', linestyle='--', label='QV Score Mean')\n",
    "\n",
    "# Plot QV score standard deviation as a shaded band\n",
    "# qv_std = np.std(qv_scores)\n",
    "# plt.fill_between(x_values, qv_mean - qv_std, qv_mean + qv_std, color='r', alpha=0.2, label='QV Score Standard Deviation')\n",
    "\n",
    "plt.xlabel('Group Similarity')\n",
    "plt.ylabel('Score')\n",
    "plt.title('')  \n",
    "\n",
    "plt.gca().spines['right'].set_visible(False)\n",
    "plt.gca().spines['top'].set_visible(False)\n",
    "\n",
    "plt.ylim(0.8 * np.min(mean_values), 1.2 * np.max(mean_values))\n",
    "plt.xlim(0, 1)\n",
    "\n",
    "plt.legend()\n",
    "\n",
    "# Safe Plot \n",
    "# Create a folder named \"plots\" if it doesn't exist\n",
    "output_folder = \"plots\"\n",
    "os.makedirs(output_folder, exist_ok=True)\n",
    "\n",
    "# Get the current timestamp\n",
    "timestamp = datetime.now().strftime(\"%Y%m%d%H%M%S\")\n",
    "\n",
    "# Construct the output filename\n",
    "output_filename = f\"plot_{timestamp}.png\"\n",
    "\n",
    "# Save the plot to the specified folder and filename\n",
    "output_path = os.path.join(output_folder, output_filename)\n",
    "plt.savefig(output_path)\n",
    "\n",
    "# Display the saved file path\n",
    "print(f\"Plot saved to: {output_path}\")\n",
    "\n",
    "plt.show()\n"
   ]
  },
  {
   "cell_type": "code",
   "execution_count": 118,
   "metadata": {},
   "outputs": [
    {
     "name": "stdout",
     "output_type": "stream",
     "text": [
      "3.872983346207417\n",
      "6.708203932499369\n"
     ]
    }
   ],
   "source": [
    "print(math.sqrt(15))\n",
    "print(math.sqrt(5) + math.sqrt(5) + math.sqrt(5))"
   ]
  }
 ],
 "metadata": {
  "kernelspec": {
   "display_name": "gov-research",
   "language": "python",
   "name": "python3"
  },
  "language_info": {
   "codemirror_mode": {
    "name": "ipython",
    "version": 3
   },
   "file_extension": ".py",
   "mimetype": "text/x-python",
   "name": "python",
   "nbconvert_exporter": "python",
   "pygments_lexer": "ipython3",
   "version": "3.10.13"
  }
 },
 "nbformat": 4,
 "nbformat_minor": 2
}
