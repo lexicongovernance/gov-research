{
 "cells": [
  {
   "cell_type": "markdown",
   "metadata": {},
   "source": [
    "## Simulation Framework "
   ]
  },
  {
   "cell_type": "code",
   "execution_count": 1,
   "metadata": {},
   "outputs": [
    {
     "name": "stdout",
     "output_type": "stream",
     "text": [
      "importing Jupyter notebook from model_evaluation.ipynb\n"
     ]
    }
   ],
   "source": [
    "import import_ipynb\n",
    "import math \n",
    "import importlib\n",
    "import random\n",
    "import copy\n",
    "\n",
    "# import functions from model_evaluation.ipynb  \n",
    "import model_evaluation "
   ]
  },
  {
   "cell_type": "code",
   "execution_count": 2,
   "metadata": {},
   "outputs": [],
   "source": [
    "# simulation parameters \n",
    "\n",
    "# number of groups\n",
    "n_groups = 4 \n",
    "\n",
    "# number of agents \n",
    "n_agents = 4\n",
    "\n",
    "# Iterations for group distributions \n",
    "iterations = 100"
   ]
  },
  {
   "cell_type": "markdown",
   "metadata": {},
   "source": [
    "### Group Distributions "
   ]
  },
  {
   "cell_type": "code",
   "execution_count": 3,
   "metadata": {},
   "outputs": [],
   "source": [
    "# create random distributions \n",
    "def distribute_agents(n_agents, n_groups):\n",
    "    \"\"\"\n",
    "    This function randomly selects a subset of group indices for each agent. The number of groups for each agent is randomly chosen between 1 and the total number of groups.\n",
    "    :returns (list of lists): Each inner list represents the agents assigned to a particular group.\n",
    "    \"\"\"\n",
    "    group_dist = [[] for _ in range(n_groups)]\n",
    "\n",
    "    for agent in range(n_agents):\n",
    "        groups = random.sample(range(n_groups), random.randint(1, n_groups))\n",
    "        for group in groups:\n",
    "            group_dist[group].append(agent)\n",
    "\n",
    "    return group_dist"
   ]
  },
  {
   "cell_type": "code",
   "execution_count": 4,
   "metadata": {},
   "outputs": [],
   "source": [
    "# Create random group distributions with a gradual transition from one to the other extreme \n",
    "def gradual_distribution_transition(n_agents, n_groups, iterations):\n",
    "    \"\"\"\n",
    "    This function starts with a distribution where each group contains only one agent and gradually modifies it in each iteration.\n",
    "    :returns (list of lists): Each inner list represents the agents assigned to a particular group.\n",
    "    \"\"\"\n",
    "    # Initial distribution: Each group contains only one agent\n",
    "    group_dist = [[agent] for agent in range(n_agents)]\n",
    "\n",
    "    # List to store distributions at each iteration\n",
    "    distributions = [copy.deepcopy(group_dist)]\n",
    "\n",
    "    for _ in range(iterations):  # Start from iteration 1\n",
    "        # Randomly select a group\n",
    "        source_group = random.randint(0, n_groups - 1)\n",
    "        \n",
    "        # Randomly select a destination group different from the source group\n",
    "        possible_destination_groups = [group for group in range(n_groups) if group != source_group]\n",
    "        destination_group = random.choice(possible_destination_groups)\n",
    "\n",
    "        # Randomly select an agent from the source group\n",
    "        if group_dist[source_group]:\n",
    "            agent_to_move = random.choice(group_dist[source_group])\n",
    "\n",
    "            # Move the agent to the destination group if not already present\n",
    "            if agent_to_move not in group_dist[destination_group]:\n",
    "                group_dist[destination_group].append(agent_to_move)\n",
    "            else:\n",
    "                continue\n",
    "\n",
    "        # Save the current distribution (deep copy to avoid referencing the same object)\n",
    "        distributions.append(copy.deepcopy(group_dist))\n",
    "\n",
    "    return distributions"
   ]
  },
  {
   "cell_type": "code",
   "execution_count": 27,
   "metadata": {},
   "outputs": [],
   "source": [
    "result_group_distributions = gradual_distribution_transition(n_agents=n_agents, n_groups=n_groups, iterations=iterations)\n",
    "# print(result_group_distributions)"
   ]
  },
  {
   "cell_type": "code",
   "execution_count": 28,
   "metadata": {},
   "outputs": [],
   "source": [
    "# Custom Group Distributions \n",
    "# result_group_distributions = [[[0], [1]], [[0, 1], [1]], [[0, 1], [1, 0]]]\n",
    "# result_group_distributions = [[[0], [1]], [[0, 1], [1, 0]]]\n",
    "result_group_distributions = [[[0, 1], [1]], [[0, 1], [1, 0]]]\n",
    "# print(result_group_distributions)"
   ]
  },
  {
   "cell_type": "markdown",
   "metadata": {},
   "source": [
    "### Vote Distribution "
   ]
  },
  {
   "cell_type": "code",
   "execution_count": 17,
   "metadata": {},
   "outputs": [],
   "source": [
    "# define fixed vote distribution \n",
    "def vote_distribution_fixed(n_agents, votes_agent):\n",
    "    return [votes_agent] * n_agents"
   ]
  },
  {
   "cell_type": "code",
   "execution_count": 18,
   "metadata": {},
   "outputs": [
    {
     "name": "stdout",
     "output_type": "stream",
     "text": [
      "[5, 5]\n"
     ]
    }
   ],
   "source": [
    "vote_dist = vote_distribution_fixed(n_agents=2, votes_agent=5)\n",
    "print(vote_dist)"
   ]
  },
  {
   "cell_type": "markdown",
   "metadata": {},
   "source": [
    "### Group Membership"
   ]
  },
  {
   "cell_type": "code",
   "execution_count": 19,
   "metadata": {},
   "outputs": [
    {
     "name": "stdout",
     "output_type": "stream",
     "text": [
      "[[[0], [0, 1]], [[0, 1], [0, 1]]]\n"
     ]
    }
   ],
   "source": [
    "list_result_group_memberships = []\n",
    "for i in range(len(result_group_distributions)): \n",
    "    result_group_memberships = model_evaluation.group_memberships(groups=result_group_distributions[i], votes=vote_dist)\n",
    "    list_result_group_memberships.append(result_group_memberships)\n",
    "\n",
    "print(list_result_group_memberships)"
   ]
  },
  {
   "cell_type": "code",
   "execution_count": 30,
   "metadata": {},
   "outputs": [
    {
     "name": "stdout",
     "output_type": "stream",
     "text": [
      "agent_i: 1, agent_j: 0\n",
      "group_memberships[agent_i]: [0, 1], type: <class 'list'>\n",
      "group_memberships[agent_j]: [0, 1], type: <class 'list'>\n"
     ]
    }
   ],
   "source": [
    "result_commom_group = model_evaluation.common_group(1,0, memberships_group=list_result_group_memberships[1])\n",
    "# print(result_commom_group)"
   ]
  },
  {
   "cell_type": "code",
   "execution_count": 31,
   "metadata": {},
   "outputs": [],
   "source": [
    "result_K = model_evaluation.K(agent_i=0, group=result_group_distributions[1][1], votes=vote_dist, memberships_group=list_result_group_memberships[1])\n",
    "# print(result_K)"
   ]
  },
  {
   "cell_type": "markdown",
   "metadata": {},
   "source": [
    "### Model Terms "
   ]
  },
  {
   "cell_type": "code",
   "execution_count": 32,
   "metadata": {},
   "outputs": [],
   "source": [
    "# first term \n",
    "dict_result_group_first_term = {}\n",
    "list_result_aggregated_weight_term_1 = []\n",
    "for i in range(len(result_group_distributions)):  # len(result_group_distributions) == len(list_result_group_memberships)\n",
    "    result_groups, result_aggregate_weight = model_evaluation.first_term(groups=result_group_distributions[i], votes=vote_dist, memberships_group=list_result_group_memberships[i])\n",
    "    dict_result_group_first_term[i] = {'individual_contributions': result_groups}\n",
    "    list_result_aggregated_weight_term_1.append(result_aggregate_weight)\n",
    "\n",
    "# print(list_result_aggregated_weight_term_1)\n",
    "# print(dict_result_group_first_term)"
   ]
  },
  {
   "cell_type": "code",
   "execution_count": 33,
   "metadata": {},
   "outputs": [
    {
     "name": "stdout",
     "output_type": "stream",
     "text": [
      "agent_i: 0, agent_j: 1\n",
      "group_memberships[agent_i]: [0], type: <class 'list'>\n",
      "group_memberships[agent_j]: [0, 1], type: <class 'list'>\n",
      "agent_i: 0, agent_j: 1\n",
      "group_memberships[agent_i]: [0], type: <class 'list'>\n",
      "group_memberships[agent_j]: [0, 1], type: <class 'list'>\n"
     ]
    }
   ],
   "source": [
    "# interaction terms\n",
    "dict_result_individual_interaction_terms = {}\n",
    "list_result_aggregated_weight_interaction_terms = []\n",
    "for i in range(len(result_group_distributions)):  # len(result_group_distributions) == len(list_result_group_memberships)\n",
    "    result_individual, result_aggregated = model_evaluation.interaction_terms(groups=result_group_distributions[i], memberships_group=list_result_group_memberships[i], votes=vote_dist)\n",
    "    dict_result_individual_interaction_terms[i] = {'individual_contributions': result_individual}\n",
    "    list_result_aggregated_weight_interaction_terms.append(result_aggregated)\n",
    "\n",
    "# print(dict_result_individual_interaction_terms)\n",
    "# print(list_result_aggregated_weight_interaction_terms)   \n"
   ]
  },
  {
   "cell_type": "code",
   "execution_count": 34,
   "metadata": {},
   "outputs": [],
   "source": [
    "# print(math.sqrt(20))"
   ]
  },
  {
   "cell_type": "markdown",
   "metadata": {},
   "source": [
    "### Plurality and QV Scorese "
   ]
  },
  {
   "cell_type": "code",
   "execution_count": 25,
   "metadata": {},
   "outputs": [
    {
     "name": "stdout",
     "output_type": "stream",
     "text": [
      "[3.724645398720181, 3.804226065180614]\n"
     ]
    }
   ],
   "source": [
    "list_plurality_scores = []\n",
    "for i in range(len(list_result_aggregated_weight_term_1)):   \n",
    "    plurality_score = model_evaluation.connection_oriented_cluster_match(term_1=list_result_aggregated_weight_term_1[i], interaction_terms=list_result_aggregated_weight_interaction_terms[i])\n",
    "    list_plurality_scores.append(plurality_score)\n",
    "\n",
    "print(list_plurality_scores)"
   ]
  },
  {
   "cell_type": "code",
   "execution_count": 26,
   "metadata": {},
   "outputs": [
    {
     "name": "stdout",
     "output_type": "stream",
     "text": [
      "{0: 2.23606797749979, 1: 2.23606797749979}\n",
      "4.47213595499958\n"
     ]
    }
   ],
   "source": [
    "result_quadratic_voting, result_sum_quadratic_votes = model_evaluation.quadratic_voting(votes=vote_dist)\n",
    "print(result_quadratic_voting)\n",
    "print(result_sum_quadratic_votes)"
   ]
  },
  {
   "cell_type": "markdown",
   "metadata": {},
   "source": [
    "### Jaccard Index "
   ]
  },
  {
   "cell_type": "code",
   "execution_count": 82,
   "metadata": {},
   "outputs": [
    {
     "name": "stdout",
     "output_type": "stream",
     "text": [
      "[0.0, 0.08333333333333333, 0.13888888888888887, 0.16666666666666666, 0.27777777777777773, 0.3055555555555555, 0.38888888888888884, 0.5277777777777778, 0.5694444444444444, 0.625, 0.75, 0.875, 1.0]\n"
     ]
    }
   ],
   "source": [
    "global_jaccard_index = []\n",
    "for i in range(len(result_group_distributions)):\n",
    "    pairwise_jaccard_matrix = model_evaluation.pairwise_jaccard_similarity(groups=result_group_distributions[i])\n",
    "    # print(\"Pairwise Jaccard Similarity Matrix:\")\n",
    "    # for row in pairwise_jaccard_matrix:\n",
    "    #    print(row)\n",
    "\n",
    "    global_similarity = model_evaluation.global_jaccard_similarity(pairwise_jaccard_matrix)\n",
    "    global_jaccard_index.append(global_similarity)\n",
    "\n",
    "print(global_jaccard_index)\n"
   ]
  }
 ],
 "metadata": {
  "kernelspec": {
   "display_name": "gov-research",
   "language": "python",
   "name": "python3"
  },
  "language_info": {
   "codemirror_mode": {
    "name": "ipython",
    "version": 3
   },
   "file_extension": ".py",
   "mimetype": "text/x-python",
   "name": "python",
   "nbconvert_exporter": "python",
   "pygments_lexer": "ipython3",
   "version": "3.10.13"
  }
 },
 "nbformat": 4,
 "nbformat_minor": 2
}
