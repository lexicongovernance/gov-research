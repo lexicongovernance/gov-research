{
 "cells": [
  {
   "cell_type": "markdown",
   "metadata": {},
   "source": [
    "## Calulate proposal to hearts ratio"
   ]
  },
  {
   "cell_type": "markdown",
   "metadata": {},
   "source": [
    "The ratio describes the amount of hearts needed for a participants to express his preferences over a given menue of project proposals. The underlying assumption for the following calculations is that a participant must have enough hearts to distribute at least one to any given project proposal."
   ]
  },
  {
   "cell_type": "code",
   "execution_count": 9,
   "metadata": {},
   "outputs": [],
   "source": [
    "import numpy as np "
   ]
  },
  {
   "cell_type": "markdown",
   "metadata": {},
   "source": [
    "### Calculate number of hearts given a fixed ratio"
   ]
  },
  {
   "cell_type": "markdown",
   "metadata": {},
   "source": [
    "The assumption here is that a participant should have enough hearts to at least express a preference of `max_ratio` to any given project while assinging at least one heart to the remaining project proposals."
   ]
  },
  {
   "cell_type": "code",
   "execution_count": 1,
   "metadata": {},
   "outputs": [],
   "source": [
    "# Parameters \n",
    "length_projects_list = 10\n",
    "max_ratio = 0.8"
   ]
  },
  {
   "cell_type": "code",
   "execution_count": 2,
   "metadata": {},
   "outputs": [
    {
     "name": "stdout",
     "output_type": "stream",
     "text": [
      "[2, 3, 4, 5, 6, 7, 8, 9, 10, 11]\n"
     ]
    }
   ],
   "source": [
    "# number of projects list \n",
    "num_projects_list = [i for i in range(2, length_projects_list + 2)]\n",
    "print(num_projects_list)"
   ]
  },
  {
   "cell_type": "code",
   "execution_count": 3,
   "metadata": {},
   "outputs": [],
   "source": [
    "# define minimum x and y so that the assertion passes\n",
    "x = 4 # number of votes \n",
    "y = 5 # total number of hearts \n",
    "\n",
    "# assert that calulation is true\n",
    "assert(x/y == max_ratio)"
   ]
  },
  {
   "cell_type": "code",
   "execution_count": 4,
   "metadata": {},
   "outputs": [
    {
     "name": "stdout",
     "output_type": "stream",
     "text": [
      "[4, 8, 12, 16, 20, 24, 28, 32, 36, 40]\n",
      "[5, 10, 15, 20, 25, 30, 35, 40, 45, 50]\n"
     ]
    }
   ],
   "source": [
    "### Create lists of required votes and total hearts\n",
    "\n",
    "# votes\n",
    "votes = [x + i * x for i in range(length_projects_list)]\n",
    "print(votes)\n",
    "\n",
    "# hearts\n",
    "hearts = [y + i * y for i in range(length_projects_list)]\n",
    "print(hearts)\n"
   ]
  },
  {
   "cell_type": "code",
   "execution_count": 5,
   "metadata": {},
   "outputs": [],
   "source": [
    "confirm_ratio = [a / b for a, b in zip(votes, hearts)]\n",
    "assert all(element == max_ratio for element in confirm_ratio)\n"
   ]
  },
  {
   "cell_type": "code",
   "execution_count": 6,
   "metadata": {},
   "outputs": [
    {
     "name": "stdout",
     "output_type": "stream",
     "text": [
      "[0.8, 0.8, 0.8, 0.8, 0.8, 0.8, 0.8, 0.8, 0.8, 0.8]\n"
     ]
    }
   ],
   "source": [
    "print(confirm_ratio)"
   ]
  },
  {
   "cell_type": "markdown",
   "metadata": {},
   "source": [
    "## Calculate possible maximum ratio "
   ]
  },
  {
   "cell_type": "markdown",
   "metadata": {},
   "source": [
    "Calculate the maximim possible ratio given a fixed number of hearts for varing amounts of project proposals."
   ]
  },
  {
   "cell_type": "code",
   "execution_count": 7,
   "metadata": {},
   "outputs": [
    {
     "name": "stdout",
     "output_type": "stream",
     "text": [
      "[5, 10, 15, 20, 25, 30, 35, 40, 45, 50, 55, 60, 65, 70, 75]\n"
     ]
    }
   ],
   "source": [
    "# available list of hearts \n",
    "n = 15\n",
    "available_hearts_list = hearts = [5 + i * 5 for i in range(n)]\n",
    "print(available_hearts_list)"
   ]
  },
  {
   "cell_type": "code",
   "execution_count": 10,
   "metadata": {},
   "outputs": [
    {
     "name": "stdout",
     "output_type": "stream",
     "text": [
      "[[4, 9, 14, 19, 24, 29, 34, 39, 44, 49, 54, 59, 64, 69, 74], [3, 8, 13, 18, 23, 28, 33, 38, 43, 48, 53, 58, 63, 68, 73]]\n"
     ]
    }
   ],
   "source": [
    "list_projects_possible_votes = []\n",
    "for j in range(len(num_projects_list)):\n",
    "    num_proposals = num_projects_list[j]\n",
    "    list_possible_votes = []\n",
    "    for i in range(len(available_hearts_list)):\n",
    "        hearts = available_hearts_list[i]\n",
    "        possible_votes = hearts - (num_proposals-1)\n",
    "        if possible_votes <= 0:\n",
    "            possible_votes = np.nan\n",
    "        list_possible_votes.append(possible_votes)\n",
    "    list_projects_possible_votes.append(list_possible_votes)\n",
    "\n",
    "print(list_projects_possible_votes[:2])"
   ]
  },
  {
   "cell_type": "code",
   "execution_count": null,
   "metadata": {},
   "outputs": [
    {
     "name": "stdout",
     "output_type": "stream",
     "text": [
      "Max Ratio for number of project proposals 2: [0.8, 0.9, 0.933, 0.95, 0.96, 0.967, 0.971, 0.975, 0.978, 0.98, 0.982, 0.983, 0.985, 0.986, 0.987]\n",
      "Max Ratio for number of project proposals 3: [0.6, 0.8, 0.867, 0.9, 0.92, 0.933, 0.943, 0.95, 0.956, 0.96, 0.964, 0.967, 0.969, 0.971, 0.973]\n",
      "Max Ratio for number of project proposals 4: [0.4, 0.7, 0.8, 0.85, 0.88, 0.9, 0.914, 0.925, 0.933, 0.94, 0.945, 0.95, 0.954, 0.957, 0.96]\n",
      "Max Ratio for number of project proposals 5: [0.2, 0.6, 0.733, 0.8, 0.84, 0.867, 0.886, 0.9, 0.911, 0.92, 0.927, 0.933, 0.938, 0.943, 0.947]\n",
      "Max Ratio for number of project proposals 6: [nan, 0.5, 0.667, 0.75, 0.8, 0.833, 0.857, 0.875, 0.889, 0.9, 0.909, 0.917, 0.923, 0.929, 0.933]\n",
      "Max Ratio for number of project proposals 7: [nan, 0.4, 0.6, 0.7, 0.76, 0.8, 0.829, 0.85, 0.867, 0.88, 0.891, 0.9, 0.908, 0.914, 0.92]\n",
      "Max Ratio for number of project proposals 8: [nan, 0.3, 0.533, 0.65, 0.72, 0.767, 0.8, 0.825, 0.844, 0.86, 0.873, 0.883, 0.892, 0.9, 0.907]\n",
      "Max Ratio for number of project proposals 9: [nan, 0.2, 0.467, 0.6, 0.68, 0.733, 0.771, 0.8, 0.822, 0.84, 0.855, 0.867, 0.877, 0.886, 0.893]\n",
      "Max Ratio for number of project proposals 10: [nan, 0.1, 0.4, 0.55, 0.64, 0.7, 0.743, 0.775, 0.8, 0.82, 0.836, 0.85, 0.862, 0.871, 0.88]\n",
      "Max Ratio for number of project proposals 11: [nan, nan, 0.333, 0.5, 0.6, 0.667, 0.714, 0.75, 0.778, 0.8, 0.818, 0.833, 0.846, 0.857, 0.867]\n"
     ]
    }
   ],
   "source": [
    "# calculate max ratio \n",
    "for i in range(len(list_projects_possible_votes)):\n",
    "    list_possible_votes = list_projects_possible_votes[i]\n",
    "    max_heart_proposal_ratio = [a / b for a, b in zip(list_possible_votes, available_hearts_list)]\n",
    "    rounded_max_heart_proposal_ratio = [round(element, 3) for element in max_heart_proposal_ratio]\n",
    "    \n",
    "    print(f\"Max Ratio for number of project proposals {i + 2}: {rounded_max_heart_proposal_ratio}\")"
   ]
  }
 ],
 "metadata": {
  "kernelspec": {
   "display_name": "gov-research",
   "language": "python",
   "name": "python3"
  },
  "language_info": {
   "codemirror_mode": {
    "name": "ipython",
    "version": 3
   },
   "file_extension": ".py",
   "mimetype": "text/x-python",
   "name": "python",
   "nbconvert_exporter": "python",
   "pygments_lexer": "ipython3",
   "version": "3.10.13"
  }
 },
 "nbformat": 4,
 "nbformat_minor": 2
}
