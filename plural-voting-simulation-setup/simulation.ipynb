{
 "cells": [
  {
   "cell_type": "markdown",
   "metadata": {},
   "source": [
    "## Simulation Framework "
   ]
  },
  {
   "cell_type": "code",
   "execution_count": 3,
   "metadata": {},
   "outputs": [],
   "source": [
    "import random\n",
    "import import_ipynb\n",
    "import copy\n",
    "import os\n",
    "import numpy as np\n",
    "import matplotlib.pyplot as plt\n",
    "from datetime import datetime\n",
    "\n",
    "# import functions from model_evaluation.ipynb  \n",
    "import model_evaluation "
   ]
  },
  {
   "cell_type": "code",
   "execution_count": 4,
   "metadata": {},
   "outputs": [],
   "source": [
    "# simulation parameters \n",
    "\n",
    "# number of groups\n",
    "n_groups = 15 \n",
    "\n",
    "# number of agents \n",
    "n_agents = 15\n",
    "\n",
    "# Iterations for group distributions \n",
    "iterations = 1000\n",
    "\n",
    "# Number of vote distributions \n",
    "sim = 100"
   ]
  },
  {
   "cell_type": "markdown",
   "metadata": {},
   "source": [
    "### Group Distributions "
   ]
  },
  {
   "cell_type": "code",
   "execution_count": 5,
   "metadata": {},
   "outputs": [],
   "source": [
    "# create random distributions \n",
    "def distribute_agents(n_agents, n_groups):\n",
    "    \"\"\"\n",
    "    This function randomly selects a subset of group indices for each agent. The number of groups for each agent is randomly chosen between 1 and the total number of groups.\n",
    "    :returns (list of lists): Each inner list represents the agents assigned to a particular group.\n",
    "    \"\"\"\n",
    "    group_dist = [[] for _ in range(n_groups)]\n",
    "\n",
    "    for agent in range(n_agents):\n",
    "        groups = random.sample(range(n_groups), random.randint(1, n_groups))\n",
    "        for group in groups:\n",
    "            group_dist[group].append(agent)\n",
    "\n",
    "    return group_dist"
   ]
  },
  {
   "cell_type": "code",
   "execution_count": 6,
   "metadata": {},
   "outputs": [],
   "source": [
    "def initial_distribution(n_agents, n_groups):\n",
    "    \"\"\"\n",
    "    Create an initial distribution where agents are assigned to groups, and in case the number of agents exceeds the number of groups, start assigning agents to groups from the beginning.\n",
    "    :returns (list of lists): Each inner list represents the agents assigned to a particular group.\n",
    "    \"\"\"\n",
    "    # Create agents\n",
    "    agents = [agent for agent in range(n_agents)]\n",
    "\n",
    "    # Initialize groups\n",
    "    group_dist = [[] for _ in range(n_groups)]\n",
    "\n",
    "    # Distribute agents to groups\n",
    "    for i, agent in enumerate(agents):\n",
    "        group_dist[i % n_groups].append(agent)\n",
    "\n",
    "    return group_dist"
   ]
  },
  {
   "cell_type": "code",
   "execution_count": 7,
   "metadata": {},
   "outputs": [],
   "source": [
    "result_initial_distribution = initial_distribution(n_agents=n_agents, n_groups=n_groups)\n",
    "# print(result_initial_distribution)"
   ]
  },
  {
   "cell_type": "code",
   "execution_count": 8,
   "metadata": {},
   "outputs": [],
   "source": [
    "# Create random group distributions with a gradual transition from one to the other extreme \n",
    "def gradual_distribution_transition(n_agents, n_groups, iterations):\n",
    "    \"\"\"\n",
    "    This function starts with a distribution where each group contains only one agent and gradually modifies it in each iteration.\n",
    "    :returns (list of lists): Each inner list represents the agents assigned to a particular group.\n",
    "    \"\"\"\n",
    "    # Initial distribution: Use the provided initial_distribution function\n",
    "    group_dist = initial_distribution(n_agents, n_groups)\n",
    "\n",
    "    # List to store distributions at each iteration\n",
    "    distributions = [copy.deepcopy(group_dist)]\n",
    "\n",
    "    for _ in range(iterations):  # Start from iteration 1\n",
    "        # Randomly select a group\n",
    "        source_group = random.randint(0, n_groups - 1)\n",
    "        \n",
    "        # Randomly select a destination group different from the source group\n",
    "        possible_destination_groups = [group for group in range(n_groups) if group != source_group]\n",
    "        destination_group = random.choice(possible_destination_groups)\n",
    "\n",
    "        # Randomly select an agent from the source group\n",
    "        if group_dist[source_group]:\n",
    "            agent_to_move = random.choice(group_dist[source_group])\n",
    "\n",
    "            # Move the agent to the destination group if not already present\n",
    "            if agent_to_move not in group_dist[destination_group]:\n",
    "                group_dist[destination_group].append(agent_to_move)\n",
    "            else:\n",
    "                continue\n",
    "\n",
    "        # Save the current distribution (deep copy to avoid referencing the same object)\n",
    "        distributions.append(copy.deepcopy(group_dist))\n",
    "\n",
    "    return distributions"
   ]
  },
  {
   "cell_type": "code",
   "execution_count": 9,
   "metadata": {},
   "outputs": [],
   "source": [
    "result_group_distributions = gradual_distribution_transition(n_agents=n_agents, n_groups=n_groups, iterations=iterations)\n",
    "# print(result_group_distributions[0])\n",
    "# print(result_group_distributions[-1])\n",
    "# print(len(result_group_distributions))"
   ]
  },
  {
   "cell_type": "code",
   "execution_count": 10,
   "metadata": {},
   "outputs": [],
   "source": [
    "# Custom Group Distributions \n",
    "\n",
    "# result_group_distributions = [[[0], [1]], [[0, 1], [1]], [[0, 1], [1, 0]]]\n",
    "# result_group_distributions = [[[0], [1]], [[0, 1], [1, 0]]]\n",
    "# result_group_distributions = [[[0, 1], [1]], [[0, 1], [1, 0]]]\n",
    "# print(result_group_distributions)"
   ]
  },
  {
   "cell_type": "markdown",
   "metadata": {},
   "source": [
    "### Vote Distribution "
   ]
  },
  {
   "cell_type": "code",
   "execution_count": 11,
   "metadata": {},
   "outputs": [],
   "source": [
    "# define fixed vote distribution \n",
    "def vote_distribution_fixed(n_agents, votes_agent):\n",
    "    return [votes_agent] * n_agents"
   ]
  },
  {
   "cell_type": "code",
   "execution_count": 12,
   "metadata": {},
   "outputs": [],
   "source": [
    "vote_dist = vote_distribution_fixed(n_agents=n_agents, votes_agent=5)\n",
    "# print(vote_dist)"
   ]
  },
  {
   "cell_type": "code",
   "execution_count": 13,
   "metadata": {},
   "outputs": [],
   "source": [
    "def vote_distribution_random(n_agents, sim):\n",
    "    list_vote_dist = []\n",
    "    for _ in range(sim):\n",
    "        vote_dist = [random.randint(1, 100) for _ in range(n_agents)]\n",
    "        list_vote_dist.append(vote_dist)\n",
    "    return list_vote_dist "
   ]
  },
  {
   "cell_type": "code",
   "execution_count": 14,
   "metadata": {},
   "outputs": [],
   "source": [
    "list_vote_dist = vote_distribution_random(n_agents=n_agents, sim=sim)\n",
    "# print(list_vote_dist)"
   ]
  },
  {
   "cell_type": "markdown",
   "metadata": {},
   "source": [
    "### Group Membership"
   ]
  },
  {
   "cell_type": "code",
   "execution_count": 15,
   "metadata": {},
   "outputs": [],
   "source": [
    "list_result_group_memberships = []\n",
    "for i in range(len(result_group_distributions)): \n",
    "    result_group_memberships = model_evaluation.group_memberships(groups=result_group_distributions[i], n_agents=n_agents)\n",
    "    list_result_group_memberships.append(result_group_memberships)\n",
    "\n",
    "# print(list_result_group_memberships[-1])"
   ]
  },
  {
   "cell_type": "code",
   "execution_count": 16,
   "metadata": {},
   "outputs": [],
   "source": [
    "# result_commom_group = model_evaluation.common_group(1,0, memberships_group=list_result_group_memberships[1])\n",
    "# print(result_commom_group)"
   ]
  },
  {
   "cell_type": "code",
   "execution_count": 17,
   "metadata": {},
   "outputs": [],
   "source": [
    "# result_K = model_evaluation.K(agent_i=0, group=result_group_distributions[1][1], votes=vote_dist, memberships_group=list_result_group_memberships[1])\n",
    "# print(result_K)"
   ]
  },
  {
   "cell_type": "markdown",
   "metadata": {},
   "source": [
    "### Model Terms "
   ]
  },
  {
   "cell_type": "code",
   "execution_count": 18,
   "metadata": {},
   "outputs": [],
   "source": [
    "# first term \n",
    "output_first_term = []\n",
    "for j in range(len(list_vote_dist)):\n",
    "    dict_result_group_first_term = {}\n",
    "    list_result_aggregated_weight_term_1 = []\n",
    "    for i in range(len(result_group_distributions)):  # len(result_group_distributions) == len(list_result_group_memberships)\n",
    "        result_groups, result_aggregate_weight = model_evaluation.first_term(groups=result_group_distributions[i], votes=list_vote_dist[j], memberships_group=list_result_group_memberships[i])\n",
    "        dict_result_group_first_term[i] = {'individual_contributions': result_groups}\n",
    "        list_result_aggregated_weight_term_1.append(result_aggregate_weight)\n",
    "    output_first_term.append(list_result_aggregated_weight_term_1)\n",
    "\n",
    "# print(list_result_aggregated_weight_term_1)\n",
    "# print(dict_result_group_first_term)\n",
    "# print(output_first_term[0])\n",
    "# print(len(output_first_term[0]))"
   ]
  },
  {
   "cell_type": "code",
   "execution_count": 19,
   "metadata": {},
   "outputs": [],
   "source": [
    "# interaction terms\n",
    "output_interaction_terms = []\n",
    "for j in range(len(list_vote_dist)):\n",
    "    dict_result_individual_interaction_terms = {}\n",
    "    list_result_aggregated_weight_interaction_terms = []\n",
    "    for i in range(len(result_group_distributions)):  # len(result_group_distributions) == len(list_result_group_memberships)\n",
    "        result_individual, result_aggregated = model_evaluation.interaction_terms(groups=result_group_distributions[i], memberships_group=list_result_group_memberships[i], votes=list_vote_dist[j])\n",
    "        dict_result_individual_interaction_terms[i] = {'individual_contributions': result_individual}\n",
    "        list_result_aggregated_weight_interaction_terms.append(result_aggregated)\n",
    "    output_interaction_terms.append(list_result_aggregated_weight_interaction_terms)\n",
    "\n",
    "# print(dict_result_individual_interaction_terms)\n",
    "# print(list_result_aggregated_weight_interaction_terms)   \n"
   ]
  },
  {
   "cell_type": "code",
   "execution_count": 20,
   "metadata": {},
   "outputs": [],
   "source": [
    "# print(output_interaction_terms[0])\n",
    "# print(len(output_interaction_terms))\n",
    "# print(len(output_interaction_terms[0]))"
   ]
  },
  {
   "cell_type": "markdown",
   "metadata": {},
   "source": [
    "### Plurality and QV Scores "
   ]
  },
  {
   "cell_type": "code",
   "execution_count": 21,
   "metadata": {},
   "outputs": [],
   "source": [
    "output_plurality_scores = []\n",
    "for i in range(sim):\n",
    "    list_plurality_scores = []\n",
    "    for j in range(len(result_group_distributions)):   \n",
    "        plurality_score = model_evaluation.connection_oriented_cluster_match(term_1=output_first_term[i][j], interaction_terms=output_interaction_terms[i][j])\n",
    "        list_plurality_scores.append(plurality_score)\n",
    "    output_plurality_scores.append(list_plurality_scores)\n",
    "\n",
    "# print(output_plurality_scores)\n",
    "# print(len(output_plurality_scores))\n",
    "# print(len(output_plurality_scores[0]))\n"
   ]
  },
  {
   "cell_type": "code",
   "execution_count": 22,
   "metadata": {},
   "outputs": [],
   "source": [
    "output_qv_scores = []\n",
    "for i in range(len(list_vote_dist)):\n",
    "    _, result_sum_quadratic_votes = model_evaluation.quadratic_voting(votes=list_vote_dist[i])\n",
    "    output_qv_scores.append(result_sum_quadratic_votes)\n",
    "\n",
    "# print(output_qv_scores)\n",
    "# print(len(output_qv_scores))\n",
    "# print(np.mean(output_qv_scores))"
   ]
  },
  {
   "cell_type": "markdown",
   "metadata": {},
   "source": [
    "### Jaccard Index "
   ]
  },
  {
   "cell_type": "code",
   "execution_count": 23,
   "metadata": {},
   "outputs": [],
   "source": [
    "global_jaccard_index = []\n",
    "for i in range(len(result_group_distributions)):\n",
    "    pairwise_jaccard_matrix = model_evaluation.pairwise_jaccard_similarity(groups=result_group_distributions[i])\n",
    "    # print(\"Pairwise Jaccard Similarity Matrix:\")\n",
    "    # for row in pairwise_jaccard_matrix:\n",
    "    #    print(row)\n",
    "\n",
    "    global_similarity = model_evaluation.global_jaccard_similarity(pairwise_jaccard_matrix)\n",
    "    global_jaccard_index.append(global_similarity)\n",
    "\n",
    "# print(global_jaccard_index)\n"
   ]
  },
  {
   "cell_type": "markdown",
   "metadata": {},
   "source": [
    "### Mean Pluraliy Score (Plot)\n"
   ]
  },
  {
   "cell_type": "code",
   "execution_count": 24,
   "metadata": {},
   "outputs": [],
   "source": [
    "x_values = global_jaccard_index\n",
    "y_values = np.array(output_plurality_scores)\n",
    "qv_scores = np.array(output_qv_scores)\n",
    "\n",
    "# Transpose the matrix to calculate mean and confidence interval by column\n",
    "y_values_transposed = np.transpose(y_values)\n",
    "\n",
    "# Calculate mean and standard deviation\n",
    "mean_values = np.mean(y_values_transposed, axis=1)\n",
    "std_values = np.std(y_values_transposed, axis=1)"
   ]
  },
  {
   "cell_type": "code",
   "execution_count": 25,
   "metadata": {},
   "outputs": [
    {
     "name": "stdout",
     "output_type": "stream",
     "text": [
      "Plot saved to: plots\\pluaral_score_20240624121016.png\n"
     ]
    },
    {
     "data": {
      "image/png": "[encoded data removed]",
      "text/plain": [
       "<Figure size 640x480 with 1 Axes>"
      ]
     },
     "metadata": {},
     "output_type": "display_data"
    }
   ],
   "source": [
    "# Plot\n",
    "plt.plot(x_values, mean_values, color='b', label='Mean Plurality Score')\n",
    "plt.fill_between(x_values, mean_values - std_values, mean_values + std_values, color='b', alpha=0.2, label='Standard Deviation')\n",
    "\n",
    "# qv_mean = np.mean(qv_scores)\n",
    "# plt.axhline(y=qv_mean, color='r', linestyle='--', label='QV Score Mean')\n",
    "\n",
    "# Plot QV score standard deviation as a shaded band\n",
    "# qv_std = np.std(qv_scores)\n",
    "# plt.fill_between(x_values, qv_mean - qv_std, qv_mean + qv_std, color='r', alpha=0.2, label='QV Score Standard Deviation')\n",
    "\n",
    "plt.xlabel('Group Similarity')\n",
    "plt.ylabel('Score')\n",
    "plt.title('')  \n",
    "\n",
    "plt.gca().spines['right'].set_visible(False)\n",
    "plt.gca().spines['top'].set_visible(False)\n",
    "\n",
    "plt.ylim(0.8 * np.min(mean_values), 1.2 * np.max(mean_values))\n",
    "plt.xlim(0, 1)\n",
    "\n",
    "plt.legend()\n",
    "\n",
    "# Safe Plot \n",
    "# Create a folder named \"plots\" if it doesn't exist\n",
    "output_folder = \"plots\"\n",
    "os.makedirs(output_folder, exist_ok=True)\n",
    "\n",
    "# Get the current timestamp\n",
    "timestamp = datetime.now().strftime(\"%Y%m%d%H%M%S\")\n",
    "\n",
    "# Construct the output filename\n",
    "output_filename = f\"pluaral_score_{timestamp}.png\"\n",
    "\n",
    "# Save the plot to the specified folder and filename\n",
    "output_path = os.path.join(output_folder, output_filename)\n",
    "plt.savefig(output_path)\n",
    "\n",
    "# Display the saved file path\n",
    "print(f\"Plot saved to: {output_path}\")\n",
    "\n",
    "plt.show()"
   ]
  },
  {
   "cell_type": "markdown",
   "metadata": {},
   "source": [
    "### Accumulated Mean Differences (Plot)"
   ]
  },
  {
   "cell_type": "code",
   "execution_count": 26,
   "metadata": {},
   "outputs": [],
   "source": [
    "# Calculate differences between consecutive mean values\n",
    "mean_diff = np.diff(mean_values)\n",
    "\n",
    "# Calculate the cumulative sum of the differences\n",
    "mean_cumsum = np.cumsum(mean_diff)"
   ]
  },
  {
   "cell_type": "code",
   "execution_count": 27,
   "metadata": {},
   "outputs": [
    {
     "name": "stdout",
     "output_type": "stream",
     "text": [
      "Plot saved to: plots\\mean_cumsum_20240624121016_cumulative_changes.png\n"
     ]
    },
    {
     "data": {
      "image/png": "[encoded data removed]",
      "text/plain": [
       "<Figure size 640x480 with 1 Axes>"
      ]
     },
     "metadata": {},
     "output_type": "display_data"
    }
   ],
   "source": [
    "# Plot cumulative changes in mean\n",
    "plt.plot(x_values[1:], mean_cumsum, color='g', marker='o', linestyle='-', label='Cumulative Change in Mean Plurality Score')\n",
    "plt.xlabel('Group Similarity')\n",
    "plt.ylabel('Cumulative Change in Score')\n",
    "plt.title('')\n",
    "# plt.axhline(y=0, color='r', linestyle='--', label='Zero Cumulative Change Line', alpha=0.5)\n",
    "plt.gca().spines['right'].set_visible(False)\n",
    "plt.gca().spines['top'].set_visible(False)\n",
    "plt.legend()\n",
    "\n",
    "# Save the cumulative changes plot\n",
    "output_folder = \"plots\"\n",
    "os.makedirs(output_folder, exist_ok=True)\n",
    "timestamp = datetime.now().strftime(\"%Y%m%d%H%M%S\")\n",
    "output_filename_cumsum = f\"mean_cumsum_{timestamp}_cumulative_changes.png\"\n",
    "output_path_cumsum = os.path.join(output_folder, output_filename_cumsum)\n",
    "plt.savefig(output_path_cumsum)\n",
    "print(f\"Plot saved to: {output_path_cumsum}\")\n",
    "\n",
    "plt.show()"
   ]
  },
  {
   "cell_type": "markdown",
   "metadata": {},
   "source": [
    "### Linear regression model "
   ]
  },
  {
   "cell_type": "code",
   "execution_count": 28,
   "metadata": {},
   "outputs": [
    {
     "name": "stdout",
     "output_type": "stream",
     "text": [
      "Scaled Regression Slope: -2.2047033731612133\n",
      "Regression Intercept: 98.94714760785968\n",
      "Cutoff Index: 72\n"
     ]
    }
   ],
   "source": [
    "# Assuming x_values and y_values are defined as in your code\n",
    "x_values = global_jaccard_index\n",
    "y_values = np.array(output_plurality_scores)\n",
    "\n",
    "# Convert x_values to a NumPy array\n",
    "x_values = np.array(x_values)\n",
    "\n",
    "# Transpose the matrix to calculate mean and confidence interval by column\n",
    "y_values_transposed = np.transpose(y_values)\n",
    "\n",
    "# Calculate mean and standard deviation\n",
    "mean_values = np.mean(y_values_transposed, axis=1)\n",
    "\n",
    "# Set a cutoff value for x\n",
    "cutoff_value = 0.3  # Set your desired cutoff value\n",
    "\n",
    "# Find the index where x_values exceed the cutoff\n",
    "cutoff_index = np.argmax(x_values > cutoff_value)\n",
    "\n",
    "# If no cutoff is found, use all data\n",
    "if cutoff_index == 0:\n",
    "    cutoff_index = len(x_values) - 1\n",
    "\n",
    "# Perform linear regression on the data up to the cutoff index\n",
    "coefficients = np.polyfit(x_values[:cutoff_index], mean_values[:cutoff_index], 1)\n",
    "\n",
    "# Access the regression coefficients\n",
    "slope = coefficients[0]\n",
    "intercept = coefficients[1]\n",
    "\n",
    "# scaled slope\n",
    "scaled_slope = slope * 0.01\n",
    "\n",
    "# Print the regression coefficients and cutoff information\n",
    "print(f\"Scaled Regression Slope: {scaled_slope}\")\n",
    "print(f\"Regression Intercept: {intercept}\")\n",
    "print(f\"Cutoff Index: {cutoff_index}\")\n"
   ]
  },
  {
   "cell_type": "code",
   "execution_count": 29,
   "metadata": {},
   "outputs": [
    {
     "name": "stdout",
     "output_type": "stream",
     "text": [
      "Plot saved to: plots\\pluaral_score_20240624121016.png\n"
     ]
    },
    {
     "data": {
      "image/png": "[encoded data removed]",
      "text/plain": [
       "<Figure size 640x480 with 1 Axes>"
      ]
     },
     "metadata": {},
     "output_type": "display_data"
    }
   ],
   "source": [
    "# Plot\n",
    "plt.plot(x_values, mean_values, color='b', label='Mean Plurality Score')\n",
    "plt.fill_between(x_values, mean_values - std_values, mean_values + std_values, color='b', alpha=0.2, label='Standard Deviation')\n",
    "\n",
    "## Calculate the y values for the regression line\n",
    "regression_line = intercept + slope * x_values\n",
    "\n",
    "# Plot the regression line\n",
    "plt.plot(x_values, regression_line, color='r', label='Regression Line')\n",
    "\n",
    "plt.xlabel('Group Similarity')\n",
    "plt.ylabel('Score')\n",
    "plt.title('')  \n",
    "\n",
    "plt.gca().spines['right'].set_visible(False)\n",
    "plt.gca().spines['top'].set_visible(False)\n",
    "\n",
    "plt.ylim(0.8 * np.min(mean_values), 1.2 * np.max(mean_values))\n",
    "plt.xlim(0, 1)\n",
    "\n",
    "plt.legend()\n",
    "\n",
    "# Safe Plot \n",
    "# Create a folder named \"plots\" if it doesn't exist\n",
    "output_folder = \"plots\"\n",
    "os.makedirs(output_folder, exist_ok=True)\n",
    "\n",
    "# Get the current timestamp\n",
    "timestamp = datetime.now().strftime(\"%Y%m%d%H%M%S\")\n",
    "\n",
    "# Construct the output filename\n",
    "output_filename = f\"pluaral_score_{timestamp}.png\"\n",
    "\n",
    "# Save the plot to the specified folder and filename\n",
    "output_path = os.path.join(output_folder, output_filename)\n",
    "plt.savefig(output_path)\n",
    "\n",
    "# Display the saved file path\n",
    "print(f\"Plot saved to: {output_path}\")\n",
    "\n",
    "plt.show()\n"
   ]
  }
 ],
 "metadata": {
  "kernelspec": {
   "display_name": "gov-research",
   "language": "python",
   "name": "python3"
  },
  "language_info": {
   "codemirror_mode": {
    "name": "ipython",
    "version": 3
   },
   "file_extension": ".py",
   "mimetype": "text/x-python",
   "name": "python",
   "nbconvert_exporter": "python",
   "pygments_lexer": "ipython3",
   "version": "3.10.13"
  }
 },
 "nbformat": 4,
 "nbformat_minor": 2
}
