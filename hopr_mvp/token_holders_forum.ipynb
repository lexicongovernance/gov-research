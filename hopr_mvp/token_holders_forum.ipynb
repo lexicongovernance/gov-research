{
 "cells": [
  {
   "cell_type": "markdown",
   "metadata": {},
   "source": [
    "## HOPR Token holders "
   ]
  },
  {
   "cell_type": "code",
   "execution_count": 1,
   "metadata": {},
   "outputs": [],
   "source": [
    "import time\n",
    "import pandas as pd\n",
    "import os \n",
    "from requests import get, post\n",
    "import requests\n",
    "from load_dotenv import load_dotenv \n"
   ]
  },
  {
   "cell_type": "code",
   "execution_count": 5,
   "metadata": {},
   "outputs": [
    {
     "name": "stdout",
     "output_type": "stream",
     "text": [
      "True\n"
     ]
    }
   ],
   "source": [
    "# Load variables \n",
    "load_dotenv('secrets.env')\n",
    "\n",
    "# dune\n",
    "api_key_dune = os.environ['API_KEY_DUNE']\n",
    "HEADER = {\"x-dune-api-key\" : api_key_dune}\n",
    "BASE_URL = \"https://api.dune.com/api/v1/\"\n",
    "\n",
    "# hopr node\n",
    "api_host_hopr_node = os.environ['API_HOST_HOPR_NODE']\n",
    "api_key_hopr_node = os.environ['API_KEY_HOPR_NODE']\n",
    "\n",
    "if 'API_KEY_DUNE' in os.environ and 'API_HOST_HOPR_NODE' in os.environ and 'API_KEY_HOPR_NODE' in os.environ:\n",
    "    print(True)\n",
    "else:\n",
    "    print(False)"
   ]
  },
  {
   "cell_type": "markdown",
   "metadata": {},
   "source": [
    "### Define functions to extract data from Dune API"
   ]
  },
  {
   "cell_type": "code",
   "execution_count": 55,
   "metadata": {},
   "outputs": [],
   "source": [
    "def make_api_url(module, action, ID):\n",
    "    \"\"\"\n",
    "    Generate a URL to call the API.\n",
    "    \"\"\"\n",
    "\n",
    "    url = BASE_URL + module + \"/\" + ID + \"/\" + action\n",
    "\n",
    "    return url"
   ]
  },
  {
   "cell_type": "code",
   "execution_count": 56,
   "metadata": {},
   "outputs": [],
   "source": [
    "def execute_query(query_id, engine=\"medium\"):\n",
    "    \"\"\"\n",
    "    Takes in the query ID and engine size.\n",
    "    Specifying the engine size will change how quickly your query runs. \n",
    "    The default is \"medium\" which spends 10 credits, while \"large\" spends 20 credits.\n",
    "    Calls the API to execute the query.\n",
    "    Returns the execution ID of the instance which is executing the query.\n",
    "    \"\"\"\n",
    "\n",
    "    url = make_api_url(\"query\", \"execute\", query_id)\n",
    "    params = {\n",
    "        \"performance\": engine,\n",
    "    }\n",
    "    response = post(url, headers=HEADER, params=params)\n",
    "    execution_id = response.json()['execution_id']\n",
    "\n",
    "    return execution_id\n",
    "\n",
    "\n",
    "def get_query_status(execution_id):\n",
    "    \"\"\"\n",
    "    Takes in an execution ID.\n",
    "    Fetches the status of query execution using the API\n",
    "    Returns the status response object\n",
    "    \"\"\"\n",
    "\n",
    "    url = make_api_url(\"execution\", \"status\", execution_id)\n",
    "    response = get(url, headers=HEADER)\n",
    "\n",
    "    return response\n",
    "\n",
    "\n",
    "def get_query_results(execution_id):\n",
    "    \"\"\"\n",
    "    Takes in an execution ID.\n",
    "    Fetches the results returned from the query using the API\n",
    "    Returns the results response object\n",
    "    \"\"\"\n",
    "\n",
    "    url = make_api_url(\"execution\", \"results\", execution_id)\n",
    "    response = get(url, headers=HEADER)\n",
    "\n",
    "    return response\n",
    "\n",
    "\n",
    "def cancel_query_execution(execution_id):\n",
    "    \"\"\"\n",
    "    Takes in an execution ID.\n",
    "    Cancels the ongoing execution of the query.\n",
    "    Returns the response object.\n",
    "    \"\"\"\n",
    "\n",
    "    url = make_api_url(\"execution\", \"cancel\", execution_id)\n",
    "    response = get(url, headers=HEADER)\n",
    "\n",
    "    return response\n"
   ]
  },
  {
   "cell_type": "code",
   "execution_count": 57,
   "metadata": {},
   "outputs": [
    {
     "name": "stdout",
     "output_type": "stream",
     "text": [
      "01HGJXJQEW0FMDQPRZ0FPT6R84\n"
     ]
    }
   ],
   "source": [
    "# query data \n",
    "execution_id = execute_query(\"3244002\",\"medium\")\n",
    "print(execution_id)"
   ]
  },
  {
   "cell_type": "code",
   "execution_count": 58,
   "metadata": {},
   "outputs": [],
   "source": [
    "response_status = get_query_status(execution_id)\n",
    "# print(response_status.json())"
   ]
  },
  {
   "cell_type": "code",
   "execution_count": 59,
   "metadata": {},
   "outputs": [],
   "source": [
    "def wait_for_query_completion(execution_id, interval=5, timeout=600):\n",
    "    \"\"\"\n",
    "    Waits for a query to complete and prints the final state and returns the results.\n",
    "    :param: execution_id: str, the ID of the query execution.\n",
    "    :param: interval (int): the interval (in seconds) between status checks.\n",
    "    :returns: final response status.\n",
    "    \"\"\"\n",
    "    start_time = time.time()\n",
    "\n",
    "    # Initial request to get the query status\n",
    "    response_status = get_query_status(execution_id)\n",
    "    state = response_status.json()['state']\n",
    "\n",
    "    # Continue checking the state until it becomes 'QUERY_STATE_COMPLETED'\n",
    "    while state == 'QUERY_STATE_EXECUTING' and (time.time() - start_time) < timeout:\n",
    "        time.sleep(interval)\n",
    "        response_status = get_query_status(execution_id)\n",
    "        state = response_status.json()['state']\n",
    "\n",
    "    print(\"Final state:\", state)\n",
    "    \n",
    "    return response_status.json()\n"
   ]
  },
  {
   "cell_type": "code",
   "execution_count": 60,
   "metadata": {},
   "outputs": [
    {
     "name": "stdout",
     "output_type": "stream",
     "text": [
      "Final state: QUERY_STATE_COMPLETED\n"
     ]
    },
    {
     "data": {
      "text/plain": [
       "{'execution_id': '01HGJXJQEW0FMDQPRZ0FPT6R84',\n",
       " 'query_id': 3244002,\n",
       " 'state': 'QUERY_STATE_COMPLETED',\n",
       " 'submitted_at': '2023-12-01T14:47:31.549445Z',\n",
       " 'expires_at': '2024-02-29T14:52:28.683829Z',\n",
       " 'execution_started_at': '2023-12-01T14:47:31.558741818Z',\n",
       " 'execution_ended_at': '2023-12-01T14:52:28.68382804Z',\n",
       " 'result_metadata': {'column_names': ['wallet',\n",
       "   'total_hopr_balance',\n",
       "   'is_hopr_safe',\n",
       "   'node_address'],\n",
       "  'result_set_bytes': 289,\n",
       "  'total_row_count': 3,\n",
       "  'datapoint_count': 12,\n",
       "  'pending_time_millis': 9,\n",
       "  'execution_time_millis': 297125}}"
      ]
     },
     "execution_count": 60,
     "metadata": {},
     "output_type": "execute_result"
    }
   ],
   "source": [
    "wait_for_query_completion(execution_id, interval=5, timeout=600)"
   ]
  },
  {
   "cell_type": "code",
   "execution_count": 61,
   "metadata": {},
   "outputs": [
    {
     "name": "stdout",
     "output_type": "stream",
     "text": [
      "<Response [200]>\n"
     ]
    }
   ],
   "source": [
    "response_result = get_query_results(execution_id)\n",
    "print(response_result)"
   ]
  },
  {
   "cell_type": "code",
   "execution_count": 62,
   "metadata": {},
   "outputs": [
    {
     "data": {
      "text/html": [
       "<div>\n",
       "<style scoped>\n",
       "    .dataframe tbody tr th:only-of-type {\n",
       "        vertical-align: middle;\n",
       "    }\n",
       "\n",
       "    .dataframe tbody tr th {\n",
       "        vertical-align: top;\n",
       "    }\n",
       "\n",
       "    .dataframe thead th {\n",
       "        text-align: right;\n",
       "    }\n",
       "</style>\n",
       "<table border=\"1\" class=\"dataframe\">\n",
       "  <thead>\n",
       "    <tr style=\"text-align: right;\">\n",
       "      <th></th>\n",
       "      <th>is_hopr_safe</th>\n",
       "      <th>node_address</th>\n",
       "      <th>total_hopr_balance</th>\n",
       "      <th>wallet</th>\n",
       "    </tr>\n",
       "  </thead>\n",
       "  <tbody>\n",
       "    <tr>\n",
       "      <th>0</th>\n",
       "      <td>Yes</td>\n",
       "      <td>0x31faaa8ce2fe3a22eab7c05167312f853adc0042</td>\n",
       "      <td>158650.000000</td>\n",
       "      <td>0xcd1a97453e3525019cdfa66fb669576fafb2c527</td>\n",
       "    </tr>\n",
       "    <tr>\n",
       "      <th>1</th>\n",
       "      <td>No</td>\n",
       "      <td>None</td>\n",
       "      <td>50822.634100</td>\n",
       "      <td>0x217a6d29abbaceafb36207b4cb25acc148e1fc65</td>\n",
       "    </tr>\n",
       "    <tr>\n",
       "      <th>2</th>\n",
       "      <td>No</td>\n",
       "      <td>None</td>\n",
       "      <td>54380.632024</td>\n",
       "      <td>0xd9a00176cf49dfb9ca3ef61805a2850f45cb1d05</td>\n",
       "    </tr>\n",
       "  </tbody>\n",
       "</table>\n",
       "</div>"
      ],
      "text/plain": [
       "  is_hopr_safe                                node_address  \\\n",
       "0          Yes  0x31faaa8ce2fe3a22eab7c05167312f853adc0042   \n",
       "1           No                                        None   \n",
       "2           No                                        None   \n",
       "\n",
       "   total_hopr_balance                                      wallet  \n",
       "0       158650.000000  0xcd1a97453e3525019cdfa66fb669576fafb2c527  \n",
       "1        50822.634100  0x217a6d29abbaceafb36207b4cb25acc148e1fc65  \n",
       "2        54380.632024  0xd9a00176cf49dfb9ca3ef61805a2850f45cb1d05  "
      ]
     },
     "execution_count": 62,
     "metadata": {},
     "output_type": "execute_result"
    }
   ],
   "source": [
    "data = pd.DataFrame(response_result.json()['result']['rows'])\n",
    "data.head()"
   ]
  },
  {
   "cell_type": "markdown",
   "metadata": {},
   "source": [
    "### Funds deposited in payment channels "
   ]
  },
  {
   "cell_type": "code",
   "execution_count": 3,
   "metadata": {},
   "outputs": [],
   "source": [
    "def get_unique_nodeAddress_peerId_aggbalance_links(api_host_hopr_node, api_key_hopr_node):\n",
    "    \"\"\"\n",
    "    Returns a dict containing all unique source_peerId-source_address links.\n",
    "    \"\"\"\n",
    "    channel_url = \"http://{}:3001/api/v3/channels/?includingClosed=false&fullTopology=true\".format(api_host_hopr_node)\n",
    "    headers = {'X-Auth-Token': api_key_hopr_node}\n",
    "    response = requests.request(\"GET\", channel_url, headers=headers)\n",
    "\n",
    "    if response.status_code != 200:\n",
    "        print(\"Could not fetch channel information. Status code: {}\".format(response.status_code))\n",
    "        return {}\n",
    "\n",
    "    response = response.json()\n",
    "\n",
    "    if 'all' not in response:\n",
    "            print(\"Response does not contain `all`\")\n",
    "            return {}\n",
    "\n",
    "    peerid_address_aggbalance_links = {}\n",
    "    for item in response[\"all\"]:\n",
    "        if \"sourcePeerId\" not in item or \"sourceAddress\" not in item:\n",
    "            print(\"Response does not contain `source_peerid` or `source_address`\")\n",
    "            continue\n",
    "\n",
    "        if \"status\" not in item:\n",
    "            print(\"Response does not contain `status`\")\n",
    "            continue\n",
    "\n",
    "        source_peer_id = item[\"sourcePeerId\"]\n",
    "        source_address = item[\"sourceAddress\"]\n",
    "        balance = int(item[\"balance\"]) / 1e18\n",
    "\n",
    "        if item[\"status\"] != \"Open\":\n",
    "            # Other Statuses: \"Waiting for commitment\", \"Closed\", \"Pending to close\"\n",
    "            continue\n",
    "\n",
    "        if source_peer_id not in peerid_address_aggbalance_links:\n",
    "            peerid_address_aggbalance_links[source_peer_id] = {\n",
    "                \"source_node_address\": source_address,\n",
    "                \"channels_balance\": balance,\n",
    "            }\n",
    "\n",
    "        else:\n",
    "            peerid_address_aggbalance_links[source_peer_id][\n",
    "                \"channels_balance\"\n",
    "            ] += balance\n",
    "\n",
    "    return peerid_address_aggbalance_links"
   ]
  },
  {
   "cell_type": "code",
   "execution_count": 6,
   "metadata": {},
   "outputs": [
    {
     "name": "stdout",
     "output_type": "stream",
     "text": [
      "398\n",
      "12D3KooWRbkemN63B4kirDtcEUH6pegkNHV5TxdJRX4LYMgyLysF: {'source_node_address': '0xf7f1f61f8c39b3034e294887e76c6b1ccee2f9e1', 'channels_balance': 1.949999999999996e-10}\n",
      "12D3KooWAAZ3WnaWMuSQnQSFYnwx7g6W725DYmDY1QASZK1nni5B: {'source_node_address': '0xfa73af5609d354acd0f6e51f77c04d228c370813', 'channels_balance': 460.0}\n",
      "12D3KooWC7Tub3aRmxUM7XjiozW5paXcySN9gWDDvJwNh98DTdUD: {'source_node_address': '0x07a52c8338edef4b6d3a180c1b75815469ff3a46', 'channels_balance': 1081.0}\n",
      "12D3KooWNJyWUuu9M9RNU8zTMyqCA8K1GqJwv8tjHsc2oYsJJajD: {'source_node_address': '0x9925b9846e6e289e1c7f8a0554bf6900757491ec', 'channels_balance': 226.2}\n",
      "12D3KooWKn3bLWMymSMznYt3YRrK8cwmYytEzwM1HoDgqkLcmeSu: {'source_node_address': '0x8de95cdc3291152381f24226422ed9c08beec146', 'channels_balance': 3546.8}\n"
     ]
    }
   ],
   "source": [
    "topology_data = get_unique_nodeAddress_peerId_aggbalance_links(api_host_hopr_node, api_key_hopr_node)\n",
    "\n",
    "print(len(topology_data))\n",
    "\n",
    "for key, value in list(topology_data.items())[:5]:\n",
    "    print(f\"{key}: {value}\")"
   ]
  }
 ],
 "metadata": {
  "kernelspec": {
   "display_name": "gov-research",
   "language": "python",
   "name": "python3"
  },
  "language_info": {
   "codemirror_mode": {
    "name": "ipython",
    "version": 3
   },
   "file_extension": ".py",
   "mimetype": "text/x-python",
   "name": "python",
   "nbconvert_exporter": "python",
   "pygments_lexer": "ipython3",
   "version": "3.10.13"
  }
 },
 "nbformat": 4,
 "nbformat_minor": 2
}
