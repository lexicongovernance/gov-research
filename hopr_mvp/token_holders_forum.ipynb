{
 "cells": [
  {
   "cell_type": "markdown",
   "metadata": {},
   "source": [
    "## HOPR Token holders "
   ]
  },
  {
   "cell_type": "code",
   "execution_count": 23,
   "metadata": {},
   "outputs": [],
   "source": [
    "import import_ipynb\n",
    "import importlib\n",
    "import time\n",
    "import pandas as pd\n",
    "import os \n",
    "from requests import get, post\n",
    "import requests\n",
    "from load_dotenv import load_dotenv \n",
    "\n",
    "# import functions   \n",
    "import token_holders_forum_functions\n"
   ]
  },
  {
   "cell_type": "code",
   "execution_count": 24,
   "metadata": {},
   "outputs": [
    {
     "name": "stdout",
     "output_type": "stream",
     "text": [
      "True\n"
     ]
    }
   ],
   "source": [
    "# Load variables \n",
    "load_dotenv('secrets.env')\n",
    "\n",
    "# dune\n",
    "api_key_dune = os.environ['API_KEY_DUNE']\n",
    "header = {\"x-dune-api-key\" : api_key_dune}\n",
    "\n",
    "# hopr node\n",
    "api_host_hopr_node = os.environ['API_HOST_HOPR_NODE']\n",
    "api_key_hopr_node = os.environ['API_KEY_HOPR_NODE']\n",
    "\n",
    "if 'API_KEY_DUNE' in os.environ and 'API_HOST_HOPR_NODE' in os.environ and 'API_KEY_HOPR_NODE' in os.environ:\n",
    "    print(True)\n",
    "else:\n",
    "    print(False)"
   ]
  },
  {
   "cell_type": "markdown",
   "metadata": {},
   "source": [
    "### Fetch data from Dune"
   ]
  },
  {
   "cell_type": "code",
   "execution_count": 25,
   "metadata": {},
   "outputs": [],
   "source": [
    "dune_api_url= token_holders_forum_functions.make_api_url(module=\"query\", action=\"execute\", ID=\"3244002\", base_url=\"https://api.dune.com/api/v1/\")\n",
    "execution_id = token_holders_forum_functions.execute_query(api_url=dune_api_url, headers=header, engine=\"medium\")"
   ]
  },
  {
   "cell_type": "code",
   "execution_count": 26,
   "metadata": {},
   "outputs": [],
   "source": [
    "dune_api_status_url= token_holders_forum_functions.make_api_url(module=\"execution\", action=\"status\", ID=execution_id, base_url=\"https://api.dune.com/api/v1/\")"
   ]
  },
  {
   "cell_type": "code",
   "execution_count": 27,
   "metadata": {},
   "outputs": [
    {
     "name": "stdout",
     "output_type": "stream",
     "text": [
      "Final state: QUERY_STATE_COMPLETED\n"
     ]
    },
    {
     "data": {
      "text/plain": [
       "{'execution_id': '01HGT4DHMBQ72W8HVAXZPVHSGG',\n",
       " 'query_id': 3244002,\n",
       " 'state': 'QUERY_STATE_COMPLETED',\n",
       " 'submitted_at': '2023-12-04T10:01:42.795923Z',\n",
       " 'expires_at': '2024-03-03T10:06:32.003939Z',\n",
       " 'execution_started_at': '2023-12-04T10:01:42.801530351Z',\n",
       " 'execution_ended_at': '2023-12-04T10:06:32.003938188Z',\n",
       " 'result_metadata': {'column_names': ['wallet',\n",
       "   'total_hopr_balance',\n",
       "   'is_hopr_safe',\n",
       "   'node_address'],\n",
       "  'result_set_bytes': 400,\n",
       "  'total_row_count': 4,\n",
       "  'datapoint_count': 16,\n",
       "  'pending_time_millis': 5,\n",
       "  'execution_time_millis': 289202}}"
      ]
     },
     "execution_count": 27,
     "metadata": {},
     "output_type": "execute_result"
    }
   ],
   "source": [
    "token_holders_forum_functions.wait_for_query_completion(status_url=dune_api_status_url, headers=header, interval=5, timeout=600)"
   ]
  },
  {
   "cell_type": "code",
   "execution_count": 28,
   "metadata": {},
   "outputs": [
    {
     "data": {
      "text/html": [
       "<div>\n",
       "<style scoped>\n",
       "    .dataframe tbody tr th:only-of-type {\n",
       "        vertical-align: middle;\n",
       "    }\n",
       "\n",
       "    .dataframe tbody tr th {\n",
       "        vertical-align: top;\n",
       "    }\n",
       "\n",
       "    .dataframe thead th {\n",
       "        text-align: right;\n",
       "    }\n",
       "</style>\n",
       "<table border=\"1\" class=\"dataframe\">\n",
       "  <thead>\n",
       "    <tr style=\"text-align: right;\">\n",
       "      <th></th>\n",
       "      <th>is_hopr_safe</th>\n",
       "      <th>node_address</th>\n",
       "      <th>total_hopr_balance</th>\n",
       "      <th>wallet</th>\n",
       "    </tr>\n",
       "  </thead>\n",
       "  <tbody>\n",
       "    <tr>\n",
       "      <th>0</th>\n",
       "      <td>Yes</td>\n",
       "      <td>0x31faaa8ce2fe3a22eab7c05167312f853adc0042</td>\n",
       "      <td>158650.000000</td>\n",
       "      <td>0xcd1a97453e3525019cdfa66fb669576fafb2c527</td>\n",
       "    </tr>\n",
       "    <tr>\n",
       "      <th>1</th>\n",
       "      <td>Yes</td>\n",
       "      <td>0xfa73af5609d354acd0f6e51f77c04d228c370813</td>\n",
       "      <td>23746.789879</td>\n",
       "      <td>0x8832376a388cfcb58dab0cce249f65b86041e4bc</td>\n",
       "    </tr>\n",
       "    <tr>\n",
       "      <th>2</th>\n",
       "      <td>No</td>\n",
       "      <td>None</td>\n",
       "      <td>50822.634100</td>\n",
       "      <td>0x217a6d29abbaceafb36207b4cb25acc148e1fc65</td>\n",
       "    </tr>\n",
       "    <tr>\n",
       "      <th>3</th>\n",
       "      <td>No</td>\n",
       "      <td>None</td>\n",
       "      <td>519380.632023</td>\n",
       "      <td>0xd9a00176cf49dfb9ca3ef61805a2850f45cb1d05</td>\n",
       "    </tr>\n",
       "  </tbody>\n",
       "</table>\n",
       "</div>"
      ],
      "text/plain": [
       "  is_hopr_safe                                node_address  \\\n",
       "0          Yes  0x31faaa8ce2fe3a22eab7c05167312f853adc0042   \n",
       "1          Yes  0xfa73af5609d354acd0f6e51f77c04d228c370813   \n",
       "2           No                                        None   \n",
       "3           No                                        None   \n",
       "\n",
       "   total_hopr_balance                                      wallet  \n",
       "0       158650.000000  0xcd1a97453e3525019cdfa66fb669576fafb2c527  \n",
       "1        23746.789879  0x8832376a388cfcb58dab0cce249f65b86041e4bc  \n",
       "2        50822.634100  0x217a6d29abbaceafb36207b4cb25acc148e1fc65  \n",
       "3       519380.632023  0xd9a00176cf49dfb9ca3ef61805a2850f45cb1d05  "
      ]
     },
     "execution_count": 28,
     "metadata": {},
     "output_type": "execute_result"
    }
   ],
   "source": [
    "dune_api_results_url= token_holders_forum_functions.make_api_url(module=\"execution\", action=\"results\", ID=execution_id, base_url=\"https://api.dune.com/api/v1/\")\n",
    "response_result = token_holders_forum_functions.get_query_results(results_url=dune_api_results_url, headers=header)\n",
    "data = pd.DataFrame(response_result.json()['result']['rows'])\n",
    "data.head()"
   ]
  },
  {
   "cell_type": "markdown",
   "metadata": {},
   "source": [
    "### Fetch payment channel information "
   ]
  },
  {
   "cell_type": "code",
   "execution_count": 29,
   "metadata": {},
   "outputs": [
    {
     "name": "stdout",
     "output_type": "stream",
     "text": [
      "398\n",
      "12D3KooWRbkemN63B4kirDtcEUH6pegkNHV5TxdJRX4LYMgyLysF: {'source_node_address': '0xf7f1f61f8c39b3034e294887e76c6b1ccee2f9e1', 'channels_balance': 1.949999999999996e-10}\n",
      "12D3KooWAAZ3WnaWMuSQnQSFYnwx7g6W725DYmDY1QASZK1nni5B: {'source_node_address': '0xfa73af5609d354acd0f6e51f77c04d228c370813', 'channels_balance': 460.0}\n",
      "12D3KooWC7Tub3aRmxUM7XjiozW5paXcySN9gWDDvJwNh98DTdUD: {'source_node_address': '0x07a52c8338edef4b6d3a180c1b75815469ff3a46', 'channels_balance': 1071.0}\n",
      "12D3KooWNJyWUuu9M9RNU8zTMyqCA8K1GqJwv8tjHsc2oYsJJajD: {'source_node_address': '0x9925b9846e6e289e1c7f8a0554bf6900757491ec', 'channels_balance': 226.2}\n",
      "12D3KooWKn3bLWMymSMznYt3YRrK8cwmYytEzwM1HoDgqkLcmeSu: {'source_node_address': '0x8de95cdc3291152381f24226422ed9c08beec146', 'channels_balance': 3546.8}\n"
     ]
    }
   ],
   "source": [
    "topology_data = token_holders_forum_functions.get_unique_nodeAddress_peerId_aggbalance_links(api_host_hopr_node, api_key_hopr_node)\n",
    "\n",
    "print(len(topology_data))\n",
    "\n",
    "for key, value in list(topology_data.items())[:5]:\n",
    "    print(f\"{key}: {value}\")"
   ]
  },
  {
   "cell_type": "code",
   "execution_count": 30,
   "metadata": {},
   "outputs": [],
   "source": [
    "# for value in topology_data.values():\n",
    "#    if value['source_node_address'] == '0xfa73af5609d354acd0f6e51f77c04d228c370813':\n",
    "#        print(value)"
   ]
  },
  {
   "cell_type": "code",
   "execution_count": 31,
   "metadata": {},
   "outputs": [],
   "source": [
    "# convert topology data to dictionary \n",
    "values = [v for v in topology_data.values()]\n",
    "df_topology_data = pd.DataFrame(values, columns=['source_node_address', 'channels_balance'])"
   ]
  },
  {
   "cell_type": "markdown",
   "metadata": {},
   "source": [
    "### Merge Dune and Network Topology Data"
   ]
  },
  {
   "cell_type": "code",
   "execution_count": 32,
   "metadata": {},
   "outputs": [],
   "source": [
    "result_df = data.merge(df_topology_data, left_on= 'node_address', right_on='source_node_address', how='left').drop(columns=['source_node_address'])"
   ]
  },
  {
   "cell_type": "code",
   "execution_count": 33,
   "metadata": {},
   "outputs": [
    {
     "data": {
      "text/html": [
       "<div>\n",
       "<style scoped>\n",
       "    .dataframe tbody tr th:only-of-type {\n",
       "        vertical-align: middle;\n",
       "    }\n",
       "\n",
       "    .dataframe tbody tr th {\n",
       "        vertical-align: top;\n",
       "    }\n",
       "\n",
       "    .dataframe thead th {\n",
       "        text-align: right;\n",
       "    }\n",
       "</style>\n",
       "<table border=\"1\" class=\"dataframe\">\n",
       "  <thead>\n",
       "    <tr style=\"text-align: right;\">\n",
       "      <th></th>\n",
       "      <th>is_hopr_safe</th>\n",
       "      <th>node_address</th>\n",
       "      <th>total_hopr_balance</th>\n",
       "      <th>wallet</th>\n",
       "      <th>channels_balance</th>\n",
       "      <th>total_balance</th>\n",
       "    </tr>\n",
       "  </thead>\n",
       "  <tbody>\n",
       "    <tr>\n",
       "      <th>0</th>\n",
       "      <td>Yes</td>\n",
       "      <td>0x31faaa8ce2fe3a22eab7c05167312f853adc0042</td>\n",
       "      <td>158650.000000</td>\n",
       "      <td>0xcd1a97453e3525019cdfa66fb669576fafb2c527</td>\n",
       "      <td>NaN</td>\n",
       "      <td>NaN</td>\n",
       "    </tr>\n",
       "    <tr>\n",
       "      <th>1</th>\n",
       "      <td>Yes</td>\n",
       "      <td>0xfa73af5609d354acd0f6e51f77c04d228c370813</td>\n",
       "      <td>23746.789879</td>\n",
       "      <td>0x8832376a388cfcb58dab0cce249f65b86041e4bc</td>\n",
       "      <td>460.0</td>\n",
       "      <td>24206.789879</td>\n",
       "    </tr>\n",
       "    <tr>\n",
       "      <th>2</th>\n",
       "      <td>No</td>\n",
       "      <td>None</td>\n",
       "      <td>50822.634100</td>\n",
       "      <td>0x217a6d29abbaceafb36207b4cb25acc148e1fc65</td>\n",
       "      <td>NaN</td>\n",
       "      <td>NaN</td>\n",
       "    </tr>\n",
       "    <tr>\n",
       "      <th>3</th>\n",
       "      <td>No</td>\n",
       "      <td>None</td>\n",
       "      <td>519380.632023</td>\n",
       "      <td>0xd9a00176cf49dfb9ca3ef61805a2850f45cb1d05</td>\n",
       "      <td>NaN</td>\n",
       "      <td>NaN</td>\n",
       "    </tr>\n",
       "  </tbody>\n",
       "</table>\n",
       "</div>"
      ],
      "text/plain": [
       "  is_hopr_safe                                node_address  \\\n",
       "0          Yes  0x31faaa8ce2fe3a22eab7c05167312f853adc0042   \n",
       "1          Yes  0xfa73af5609d354acd0f6e51f77c04d228c370813   \n",
       "2           No                                        None   \n",
       "3           No                                        None   \n",
       "\n",
       "   total_hopr_balance                                      wallet  \\\n",
       "0       158650.000000  0xcd1a97453e3525019cdfa66fb669576fafb2c527   \n",
       "1        23746.789879  0x8832376a388cfcb58dab0cce249f65b86041e4bc   \n",
       "2        50822.634100  0x217a6d29abbaceafb36207b4cb25acc148e1fc65   \n",
       "3       519380.632023  0xd9a00176cf49dfb9ca3ef61805a2850f45cb1d05   \n",
       "\n",
       "   channels_balance  total_balance  \n",
       "0               NaN            NaN  \n",
       "1             460.0   24206.789879  \n",
       "2               NaN            NaN  \n",
       "3               NaN            NaN  "
      ]
     },
     "execution_count": 33,
     "metadata": {},
     "output_type": "execute_result"
    }
   ],
   "source": [
    "result_df['total_balance'] = result_df['channels_balance'] + result_df['total_hopr_balance'].fillna(0)\n",
    "result_df.head()"
   ]
  },
  {
   "cell_type": "markdown",
   "metadata": {},
   "source": [
    "### Save results"
   ]
  },
  {
   "cell_type": "code",
   "execution_count": 34,
   "metadata": {},
   "outputs": [],
   "source": [
    "column_order = ['wallet', 'total_hopr_balance', 'is_hopr_safe', 'node_address', 'channels_balance', 'total_balance']\n",
    "result_df = result_df[column_order]\n",
    "\n",
    "result_df.to_csv('hopr_token_holders.csv', index=False)"
   ]
  }
 ],
 "metadata": {
  "kernelspec": {
   "display_name": "gov-research",
   "language": "python",
   "name": "python3"
  },
  "language_info": {
   "codemirror_mode": {
    "name": "ipython",
    "version": 3
   },
   "file_extension": ".py",
   "mimetype": "text/x-python",
   "name": "python",
   "nbconvert_exporter": "python",
   "pygments_lexer": "ipython3",
   "version": "3.10.13"
  }
 },
 "nbformat": 4,
 "nbformat_minor": 2
}
