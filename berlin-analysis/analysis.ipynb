{
 "cells": [
  {
   "cell_type": "markdown",
   "metadata": {},
   "source": [
    "### Event Analysis "
   ]
  },
  {
   "cell_type": "code",
   "execution_count": 46,
   "metadata": {},
   "outputs": [],
   "source": [
    "import pandas as pd\n",
    "import math\n",
    "from itertools import combinations"
   ]
  },
  {
   "cell_type": "code",
   "execution_count": 47,
   "metadata": {},
   "outputs": [],
   "source": [
    "### Load Data \n",
    "voteData = pd.read_csv(r'C:\\Users\\beneb\\Desktop\\plural_data\\votes.csv')\n",
    "groupData = pd.read_csv(r'C:\\Users\\beneb\\Desktop\\plural_data\\users_to_groups.csv')\n",
    "forumQuestions = pd.read_csv(r'C:\\Users\\beneb\\Desktop\\plural_data\\forum_questions.csv')\n",
    "groupCategories = pd.read_csv(r'C:\\Users\\beneb\\Desktop\\plural_data\\group_categories.csv')\n",
    "\n",
    "# print(\"voteData:\", len(voteData))\n",
    "# print(\"groupData:\", len(groupData))\n",
    "# print(\"forumQuestions:\", len(forumQuestions))\n",
    "# print(\"groupCategories:\", len(groupCategories))"
   ]
  },
  {
   "cell_type": "code",
   "execution_count": 48,
   "metadata": {},
   "outputs": [],
   "source": [
    "def getLatestVoteByUserAndOptionId(df, option_id):\n",
    "    \"\"\"\n",
    "    Gets the latest vote data by users for a specified option ID.\n",
    "    :param: df (pandas.DataFrame): The DataFrame containing the vote data.\n",
    "    :param: option_id (str): The ID of the option for which to query vote data.\n",
    "    \"\"\"\n",
    "    \n",
    "    # Filter the DataFrame by option_id\n",
    "    filtered_df = df[df['option_id'] == option_id].copy()\n",
    "\n",
    "    # Rank each user by updated_at in descending order\n",
    "    filtered_df['rank'] = filtered_df.groupby('user_id')['updated_at'].rank(method='first', ascending=False)\n",
    "\n",
    "    # Select the latest vote for each user\n",
    "    latest_votes = filtered_df[filtered_df['rank'] == 1]\n",
    "\n",
    "    # Create a dictionary from the DataFrame\n",
    "    vote_dict = latest_votes.set_index('user_id')['num_of_votes'].to_dict()\n",
    "\n",
    "    return vote_dict"
   ]
  },
  {
   "cell_type": "code",
   "execution_count": 49,
   "metadata": {},
   "outputs": [],
   "source": [
    "voteDict = getLatestVoteByUserAndOptionId(voteData, '4ad65252-e651-460c-af6b-289769a3964b')\n",
    "# print(voteDict)"
   ]
  },
  {
   "cell_type": "code",
   "execution_count": 50,
   "metadata": {},
   "outputs": [],
   "source": [
    "def getGroupsByUserAndOptionId(df, numOfVotesDictionary, groupCategories):\n",
    "    \"\"\"\n",
    "    Gets group data and creates group dictionary based on user IDs and option ID.\n",
    "    :param: df (pandas.DataFrame): The DataFrame containing the group data.\n",
    "    :param: numOfVotesDictionary (dict): Dictionary of user IDs and their respective number of votes.\n",
    "    :param: groupCategories (list of str): Array of group category IDs.\n",
    "    \"\"\"\n",
    "\n",
    "    # Filter users_to_groups DataFrame by user IDs and group category IDs\n",
    "    filtered_df = df[df['user_id'].isin(numOfVotesDictionary.keys()) & df['group_category_id'].isin(groupCategories)]\n",
    "\n",
    "    # Group by group_id and aggregate user_ids into a list\n",
    "    group_array = filtered_df.groupby('group_id')['user_id'].agg(list).reset_index()\n",
    "\n",
    "    # Convert group_array DataFrame to dictionary\n",
    "    groups_dictionary = dict(zip(group_array['group_id'], group_array['user_id']))\n",
    "\n",
    "    return groups_dictionary\n"
   ]
  },
  {
   "cell_type": "code",
   "execution_count": 51,
   "metadata": {},
   "outputs": [],
   "source": [
    "group_dict = getGroupsByUserAndOptionId(groupData, voteDict, ['0419db52-cda8-4cf2-adb2-a881234ea1f8', 'b1862f74-458c-4eb8-9445-1ccf9ccd1712'])\n",
    "\n",
    "# Print the resulting dictionary\n",
    "# print(group_dict)"
   ]
  },
  {
   "cell_type": "code",
   "execution_count": 52,
   "metadata": {},
   "outputs": [],
   "source": [
    "def create_group_memberships(groups):\n",
    "    \"\"\"\n",
    "    Define group memberships for each participant.\n",
    "    :param: groups (list of lists): a list denotes the group and contains its members. \n",
    "    :param: votes (list): number of participant's votes for a given project proposal.\n",
    "    :returns (list of lists): retunrs a list of group membersips for each participant.  \n",
    "    \"\"\"\n",
    "    memberships = {}\n",
    "    for group, members in groups.items():\n",
    "        for member in members:\n",
    "            memberships.setdefault(member, []).append(group)\n",
    "    return memberships"
   ]
  },
  {
   "cell_type": "code",
   "execution_count": 53,
   "metadata": {},
   "outputs": [],
   "source": [
    "memberships = create_group_memberships(group_dict)\n",
    "# print(memberships)"
   ]
  },
  {
   "cell_type": "code",
   "execution_count": 54,
   "metadata": {},
   "outputs": [],
   "source": [
    "def ConnectionOrientedClusterMatch(groups, contributions):\n",
    "    # memberships[i] is the number of groups agent i is in\n",
    "    memberships = {user: sum(user in members for members in groups.values()) for user in contributions.keys()}\n",
    "\n",
    "    # friend_matrix[i][j] is the number of groups that agent i and j are both in\n",
    "    friend_matrix = {\n",
    "        user1: {user2: sum(user1 in members and user2 in members for members in groups.values()) for user2 in contributions.keys()}\n",
    "        for user1 in contributions.keys()\n",
    "    }\n",
    "\n",
    "    # build up the funding amount. First, add in everyone's contributions\n",
    "    funding_amount = sum(contributions.values())\n",
    "\n",
    "    def K(user, h):\n",
    "        if sum(friend_matrix[user][other_user] for other_user in h) > 0:\n",
    "            return math.sqrt(contributions[user])\n",
    "        return contributions[user]\n",
    "\n",
    "    funding_amount += sum(\n",
    "        2 * math.sqrt(sum(K(user, groups[group1]) / memberships[user] for user in groups[group0]))\n",
    "        * math.sqrt(sum(K(other_user, groups[group0]) / memberships[other_user] for other_user in groups[group1]))\n",
    "        for group0, group1 in combinations(groups.keys(), 2)\n",
    "    )\n",
    "\n",
    "    return funding_amount"
   ]
  },
  {
   "cell_type": "code",
   "execution_count": 55,
   "metadata": {},
   "outputs": [],
   "source": [
    "# Test data\n",
    "groups = {\n",
    "    'group0': ['user0', 'user1'],\n",
    "    'group1': ['user1', 'user2', 'user3'],\n",
    "    'group2': ['user0', 'user2'],\n",
    "}\n",
    "\n",
    "contributions = {\n",
    "    'user0': 1,\n",
    "    'user1': 2,\n",
    "    'user2': 3,\n",
    "    'user3': 4,\n",
    "}\n",
    "\n",
    "result_2 = ConnectionOrientedClusterMatch(group_dict, voteDict)\n",
    "result_sqrt_2 = math.sqrt(result_2)\n",
    "# print(result_sqrt_2)\n"
   ]
  }
 ],
 "metadata": {
  "kernelspec": {
   "display_name": "gov-research",
   "language": "python",
   "name": "python3"
  },
  "language_info": {
   "codemirror_mode": {
    "name": "ipython",
    "version": 3
   },
   "file_extension": ".py",
   "mimetype": "text/x-python",
   "name": "python",
   "nbconvert_exporter": "python",
   "pygments_lexer": "ipython3",
   "version": "3.10.13"
  }
 },
 "nbformat": 4,
 "nbformat_minor": 2
}
